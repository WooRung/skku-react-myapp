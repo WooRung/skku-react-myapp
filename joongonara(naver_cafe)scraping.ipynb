{
 "cells": [
  {
   "cell_type": "code",
   "execution_count": 1,
   "metadata": {
    "id": "4WCR7VB1RYuC"
   },
   "outputs": [],
   "source": [
    "import requests\n",
    "from bs4 import BeautifulSoup\n",
    "from urllib.parse import urlparse, urlencode, parse_qsl, urljoin\n",
    "from typing import Tuple\n",
    "from time import sleep"
   ]
  },
  {
   "cell_type": "code",
   "execution_count": 2,
   "metadata": {
    "id": "y8KZhQVzPpkg"
   },
   "outputs": [],
   "source": [
    "all_boardtype = {\n",
    "    \"wzine\": \"C\",\n",
    "    \"album\": \"I\",\n",
    "    'list': \"L\",\n",
    "}"
   ]
  },
  {
   "cell_type": "markdown",
   "metadata": {
    "id": "Ig1vR6beRbv9"
   },
   "source": [
    "# Set BaseUrl & BaseParameters & Base Headers"
   ]
  },
  {
   "cell_type": "markdown",
   "metadata": {
    "id": "zb_u3nUtU0WD"
   },
   "source": [
    "## base url & base_parameters"
   ]
  },
  {
   "cell_type": "code",
   "execution_count": 3,
   "metadata": {
    "id": "xUmujfW6VebH"
   },
   "outputs": [],
   "source": [
    "base_url = \"https://cafe.naver.com/ArticleList.nhn\""
   ]
  },
  {
   "cell_type": "code",
   "execution_count": 4,
   "metadata": {
    "id": "7_qLh6QMU0Th"
   },
   "outputs": [],
   "source": [
    "club_id = \"10050146\" # joongonara_cafe's club id\n",
    "num_of_list = 50\n",
    "menu_id = 334 # notebook cgr\n",
    "boardtype = all_boardtype['list']"
   ]
  },
  {
   "cell_type": "code",
   "execution_count": 5,
   "metadata": {
    "id": "dqhXz-8oVWHg"
   },
   "outputs": [],
   "source": [
    "base_params = {\n",
    "    'search.clubid': club_id,\n",
    "    'search.menuid': menu_id,\n",
    "    'userDisplay': num_of_list,\n",
    "    'search.boardtype': boardtype,\n",
    "    'search.totalCount': '501',\n",
    "    'search.cafeId': club_id,\n",
    "    'search.page': 1\n",
    "}"
   ]
  },
  {
   "cell_type": "markdown",
   "metadata": {
    "id": "knOOCQC0XLTf"
   },
   "source": [
    "## base headers"
   ]
  },
  {
   "cell_type": "code",
   "execution_count": 6,
   "metadata": {
    "colab": {
     "base_uri": "https://localhost:8080/",
     "height": 36
    },
    "executionInfo": {
     "elapsed": 22,
     "status": "ok",
     "timestamp": 1672011092940,
     "user": {
      "displayName": "신윤수",
      "userId": "03463619311649438280"
     },
     "user_tz": -540
    },
    "id": "8302WPJ-Y5yU",
    "outputId": "c6351397-225d-49dc-d947-b5ac7a63023d"
   },
   "outputs": [
    {
     "data": {
      "text/plain": [
       "'articleid%3D962523238%2526referrerAllArticles%3Dfalse'"
      ]
     },
     "execution_count": 6,
     "metadata": {},
     "output_type": "execute_result"
    }
   ],
   "source": [
    "urlparse(\"https://cafe.naver.com/joonggonara?articleid%3D962523238%2526referrerAllArticles%3Dfalse\").query"
   ]
  },
  {
   "cell_type": "code",
   "execution_count": 7,
   "metadata": {
    "id": "_Sj9WOJsVBia"
   },
   "outputs": [],
   "source": [
    "base_headers = {\n",
    "  'accept': 'text/html,application/xhtml+xml,application/xml;q=0.9,image/avif,image/webp,image/apng,*/*;q=0.8,application/signed-exchange;v=b3;q=0.9',\n",
    "  'accept-encoding': 'gzip, deflate, br',\n",
    "  'accept-language': 'ko-KR,ko;q=0.9,en-US;q=0.8,en;q=0.7',\n",
    "  'referer': 'https://cafe.naver.com/joonggonara?articleid%3D962523238%2526referrerAllArticles%3Dfalse',\n",
    "  'user-agent': 'Mozilla/5.0 (Macintosh; Intel Mac OS X 10_15_7) AppleWebKit/537.36 (KHTML, like Gecko) Chrome/108.0.0.0 Safari/537.36'\n",
    "}"
   ]
  },
  {
   "cell_type": "markdown",
   "metadata": {
    "id": "jrb1nF3sWndG"
   },
   "source": [
    "# Scraping 요청하기"
   ]
  },
  {
   "cell_type": "code",
   "execution_count": 8,
   "metadata": {
    "id": "fVx_wg9KWnaO"
   },
   "outputs": [],
   "source": [
    "pending_list_q = []\n",
    "data_list = []\n",
    "\n",
    "seed_url = \"https://cafe.naver.com/ArticleList.nhn?search.clubid=10050146&search.menuid=334&search.boardtype=L\""
   ]
  },
  {
   "cell_type": "markdown",
   "metadata": {
    "id": "3uRCMLfFZqKM"
   },
   "source": [
    "### session 만들기"
   ]
  },
  {
   "cell_type": "code",
   "execution_count": 9,
   "metadata": {
    "colab": {
     "base_uri": "https://localhost:8080/"
    },
    "executionInfo": {
     "elapsed": 3,
     "status": "ok",
     "timestamp": 1672012163015,
     "user": {
      "displayName": "신윤수",
      "userId": "03463619311649438280"
     },
     "user_tz": -540
    },
    "id": "vDY0vGH2YVCp",
    "outputId": "5a368e32-b43a-419a-d7bd-04b9018073b5"
   },
   "outputs": [
    {
     "data": {
      "text/plain": [
       "<requests.sessions.Session at 0x111be7490>"
      ]
     },
     "execution_count": 9,
     "metadata": {},
     "output_type": "execute_result"
    }
   ],
   "source": [
    "s = requests.Session()\n",
    "s"
   ]
  },
  {
   "cell_type": "code",
   "execution_count": 10,
   "metadata": {
    "colab": {
     "base_uri": "https://localhost:8080/"
    },
    "executionInfo": {
     "elapsed": 2,
     "status": "ok",
     "timestamp": 1672012167816,
     "user": {
      "displayName": "신윤수",
      "userId": "03463619311649438280"
     },
     "user_tz": -540
    },
    "id": "JmpkNwkHYVAC",
    "outputId": "7905920b-bffe-41fc-9047-4eefed14385e"
   },
   "outputs": [
    {
     "data": {
      "text/plain": [
       "<Response [200]>"
      ]
     },
     "execution_count": 10,
     "metadata": {},
     "output_type": "execute_result"
    }
   ],
   "source": [
    "# initial\n",
    "resp = s.get('https://cafe.naver.com/joonggonara', headers=base_headers)\n",
    "resp"
   ]
  },
  {
   "cell_type": "markdown",
   "metadata": {
    "id": "7bAU2sBmZnDF"
   },
   "source": [
    "### 특정 메뉴에 요청하기 (initial)"
   ]
  },
  {
   "cell_type": "code",
   "execution_count": 11,
   "metadata": {
    "colab": {
     "base_uri": "https://localhost:8080/"
    },
    "executionInfo": {
     "elapsed": 642,
     "status": "ok",
     "timestamp": 1672012171978,
     "user": {
      "displayName": "신윤수",
      "userId": "03463619311649438280"
     },
     "user_tz": -540
    },
    "id": "QtI_POxnZm_q",
    "outputId": "87f57185-e75f-4b2c-dfa3-50c7c6ff3389"
   },
   "outputs": [
    {
     "data": {
      "text/plain": [
       "<Response [200]>"
      ]
     },
     "execution_count": 11,
     "metadata": {},
     "output_type": "execute_result"
    }
   ],
   "source": [
    "seed_url = \"https://cafe.naver.com/ArticleList.nhn?search.clubid=10050146&search.boardtype=L&search.menuid=334&search.marketBoardTab=D&search.specialmenutype=&userDisplay=50\"\n",
    "headers = base_headers.copy()\n",
    "headers.update({'referer': resp.request.url})\n",
    "init_resp = s.get(seed_url, headers=headers)\n",
    "init_resp"
   ]
  },
  {
   "cell_type": "markdown",
   "metadata": {
    "id": "0Xsw4yZhWnXC"
   },
   "source": [
    "### initial parsing"
   ]
  },
  {
   "cell_type": "code",
   "execution_count": 12,
   "metadata": {
    "id": "sLR0INNRUSPL"
   },
   "outputs": [],
   "source": [
    "soup = BeautifulSoup(init_resp.text)"
   ]
  },
  {
   "cell_type": "code",
   "execution_count": null,
   "metadata": {
    "id": "mytVHdvdVknk"
   },
   "outputs": [],
   "source": []
  },
  {
   "cell_type": "code",
   "execution_count": 17,
   "metadata": {
    "id": "Y6597zfKakNQ"
   },
   "outputs": [],
   "source": [
    "def list_page_parsing(soup):\n",
    "  detail_tag_box = soup.select(\".article-board.m-tcol-c\")[-1]\n",
    "  detail_tr_taglist = detail_tag_box.select('tbody > tr')\n",
    "  data_list = []\n",
    "\n",
    "  for detail_tr_tag in detail_tr_taglist:\n",
    "    board_number = detail_tr_tag.select_one('.board-number').text\n",
    "    board_content_tag = detail_tr_tag.select_one('.board-list a.article')\n",
    "    content_url = board_content_tag.get('href')\n",
    "    content_title = board_content_tag.text\n",
    "\n",
    "    \n",
    "    badge = board_content_tag.select_one('.list-i-selling')\n",
    "    badge2 = board_content_tag.select_one('.list-i-selling-safe')\n",
    "    \n",
    "    if badge is not None:\n",
    "      badge = badge.text\n",
    "    if badge2 is not None:\n",
    "      badge = badge2.text\n",
    "\n",
    "    \n",
    "    has_img = bool(detail_tr_tag.select_one('.list-i-img'))\n",
    "    has_link = bool(detail_tr_tag.select_one('.list-i-link'))\n",
    "    is_new = bool(detail_tr_tag.select_one('.list-i-new'))\n",
    "\n",
    "    user_tag = detail_tr_tag.select_one('.p-nick')\n",
    "    user_nickname = user_tag.text\n",
    "    user_level = user_tag.select_one('.mem-level img').get('src')\n",
    "\n",
    "    data_list.append({\n",
    "        'board_num': board_number,\n",
    "        'board_content_tag': str(board_content_tag),\n",
    "        \"content_url\": content_url,\n",
    "        \"content_title\": content_title.strip(),\n",
    "        \"badge\": badge,\n",
    "        \"has_img\": has_img,\n",
    "        \"has_link\": has_link,\n",
    "        \"is_new\": is_new,\n",
    "        \"user_nickname\": user_nickname,\n",
    "        \"user_level\": user_level\n",
    "    })\n",
    "  return data_list"
   ]
  },
  {
   "cell_type": "code",
   "execution_count": 18,
   "metadata": {
    "colab": {
     "base_uri": "https://localhost:8080/"
    },
    "executionInfo": {
     "elapsed": 409,
     "status": "ok",
     "timestamp": 1672012176531,
     "user": {
      "displayName": "신윤수",
      "userId": "03463619311649438280"
     },
     "user_tz": -540
    },
    "id": "dCXEJw2Ud0M0",
    "outputId": "3cea15d5-24bd-43b1-dde8-25d8bce2b429"
   },
   "outputs": [
    {
     "data": {
      "text/plain": [
       "0"
      ]
     },
     "execution_count": 18,
     "metadata": {},
     "output_type": "execute_result"
    }
   ],
   "source": [
    "len(data_list)"
   ]
  },
  {
   "cell_type": "markdown",
   "metadata": {
    "id": "dDQ2zdAYgdv8"
   },
   "source": [
    "## next page 찾기"
   ]
  },
  {
   "cell_type": "code",
   "execution_count": 19,
   "metadata": {
    "id": "tnYQ7arakUQK"
   },
   "outputs": [],
   "source": [
    "def find_next_page_url(soup):\n",
    "  pagination_atag_list = soup.select('.prev-next a')\n",
    "  for idx, pagination_atag in enumerate(pagination_atag_list):\n",
    "    if \"on\" in pagination_atag.get('class', []):\n",
    "      target_idx = idx+1\n",
    "      break\n",
    "  next_list_url = pagination_atag_list[target_idx].get('href')\n",
    "  return next_list_url\n"
   ]
  },
  {
   "cell_type": "markdown",
   "metadata": {
    "id": "-np-FNElakH4"
   },
   "source": [
    "# 실행할 코드"
   ]
  },
  {
   "cell_type": "code",
   "execution_count": 20,
   "metadata": {
    "id": "kIx0-AYSn_U3"
   },
   "outputs": [],
   "source": [
    "s = requests.Session()\n",
    "# initial\n",
    "resp = s.get('https://cafe.naver.com/joonggonara', headers=base_headers)"
   ]
  },
  {
   "cell_type": "markdown",
   "metadata": {
    "id": "xrPJ3A2brUfL"
   },
   "source": []
  },
  {
   "cell_type": "code",
   "execution_count": 21,
   "metadata": {
    "colab": {
     "base_uri": "https://localhost:8080/"
    },
    "executionInfo": {
     "elapsed": 3,
     "status": "ok",
     "timestamp": 1672012185302,
     "user": {
      "displayName": "신윤수",
      "userId": "03463619311649438280"
     },
     "user_tz": -540
    },
    "id": "FkUNQOZHoAfO",
    "outputId": "0961323b-3ee3-4f59-f89b-9f91a49e476d"
   },
   "outputs": [
    {
     "data": {
      "text/plain": [
       "<Response [200]>"
      ]
     },
     "execution_count": 21,
     "metadata": {},
     "output_type": "execute_result"
    }
   ],
   "source": [
    "resp"
   ]
  },
  {
   "cell_type": "code",
   "execution_count": 22,
   "metadata": {
    "colab": {
     "base_uri": "https://localhost:8080/",
     "height": 205
    },
    "executionInfo": {
     "elapsed": 3,
     "status": "error",
     "timestamp": 1672012185829,
     "user": {
      "displayName": "신윤수",
      "userId": "03463619311649438280"
     },
     "user_tz": -540
    },
    "id": "NGcXlvP_oDZC",
    "outputId": "703323dc-22ee-47ee-84fd-7e80ee04805c"
   },
   "outputs": [
    {
     "ename": "NameError",
     "evalue": "name 'next_url' is not defined",
     "output_type": "error",
     "traceback": [
      "\u001b[0;31m---------------------------------------------------------------------------\u001b[0m",
      "\u001b[0;31mNameError\u001b[0m                                 Traceback (most recent call last)",
      "Cell \u001b[0;32mIn[22], line 1\u001b[0m\n\u001b[0;32m----> 1\u001b[0m parse_qsl(urlparse(\u001b[43mnext_url\u001b[49m)\u001b[38;5;241m.\u001b[39mquery)\n",
      "\u001b[0;31mNameError\u001b[0m: name 'next_url' is not defined"
     ]
    }
   ],
   "source": [
    "parse_qsl(urlparse(next_url).query)"
   ]
  },
  {
   "cell_type": "code",
   "execution_count": 23,
   "metadata": {
    "colab": {
     "base_uri": "https://localhost:8080/"
    },
    "executionInfo": {
     "elapsed": 292794,
     "status": "ok",
     "timestamp": 1672018108589,
     "user": {
      "displayName": "신윤수",
      "userId": "03463619311649438280"
     },
     "user_tz": -540
    },
    "id": "Kcd7tQMQkjdS",
    "outputId": "26a054f0-45e1-413b-8364-4a587fed5d5c"
   },
   "outputs": [
    {
     "name": "stdout",
     "output_type": "stream",
     "text": [
      "현재 페이지: 1     https://cafe.naver.com/ArticleList.nhn?search.clubid=10050146&search.boardtype=L&search.menuid=334&search.marketBoardTab=D&search.specialmenutype=&userDisplay=50\n",
      "detail_page: 966933427, 966933302, 966933267, 966933262, 966933203, 966933199, 966933198, 966933194, 966933017, 966933004, 966932873, 966932852, 966932593, 966932539, 966932525, 966932489, 966932455, 966932334, 966932258, 966932204, 966932103, 966931999, 966931905, 966931775, 966931758, 966931739, 966931720, 966931640, 966931546, 966931531, 966931525, 966931507, 966931484, 966931458, 966931384, 966931324, 966931182, 966931119, 966931093, 966931045, 966930964, 966930953, 966930947, 966930874, 966930856, 966930804, 966930784, 966930759, 966930754, 966930696, \n",
      "현재 페이지: 1     https://cafe.naver.com/ArticleList.nhn?search.clubid=10050146&search.boardtype=L&search.menuid=334&search.marketBoardTab=D&search.specialmenutype=&userDisplay=50\n",
      "현재 페이지: 2     https://cafe.naver.com/ArticleList.nhn?search.clubid=10050146&search.menuid=334&userDisplay=50&search.boardtype=L&search.specialmenutype=&search.totalCount=501&search.cafeId=10050146&search.page=2\n",
      "detail_page: 966930696, 966930572, 966930462, 966930414, 966930397, 966930143, 966930129, 966930046, 966930023, 966929804, 966929801, 966929555, 966929382, 966929267, 966929255, 966929057, 966929037, 966928926, 966928899, 966928730, 966928701, 966928674, 966928601, 966928528, 966928368, 966928343, 966928330, 966928271, 966928178, 966928064, 966928054, 966927900, 966927858, 966927735, 966927719, 966927522, 966927382, 966927367, 966927255, 966927218, 966927126, 966927065, 966927051, 966926932, 966926858, 966926797, 966926788, 966926765, 966926763, 966926748, \n",
      "현재 페이지: 2     https://cafe.naver.com/ArticleList.nhn?search.clubid=10050146&search.menuid=334&userDisplay=50&search.boardtype=L&search.specialmenutype=&search.totalCount=501&search.cafeId=10050146&search.page=2\n",
      "현재 페이지: 3     https://cafe.naver.com/ArticleList.nhn?search.clubid=10050146&search.menuid=334&userDisplay=50&search.boardtype=L&search.specialmenutype=&search.totalCount=501&search.cafeId=10050146&search.page=3\n",
      "detail_page: 966926763, 966926748, 966926658, 966926647, 966926575, 966926463, 966926441, 966926427, 966926402, 966926319, 966926185, 966926025, 966925989, 966925734, 966925696, 966925688, 966925636, 966925609, 966925577, 966925549, 966925543, 966925478, 966925454, 966925426, 966925343, 966925170, 966925100, 966925095, 966925022, 966924957, 966924898, 966924807, 966924742, 966924697, 966924630, 966924624, 966924559, 966924558, 966924555, 966924487, 966924454, 966924375, 966924267, 966924246, 966924209, 966924115, 966924082, 966924071, 966924041, 966923960, \n",
      "현재 페이지: 3     https://cafe.naver.com/ArticleList.nhn?search.clubid=10050146&search.menuid=334&userDisplay=50&search.boardtype=L&search.specialmenutype=&search.totalCount=501&search.cafeId=10050146&search.page=3\n",
      "현재 페이지: 4     https://cafe.naver.com/ArticleList.nhn?search.clubid=10050146&search.menuid=334&userDisplay=50&search.boardtype=L&search.specialmenutype=&search.totalCount=501&search.cafeId=10050146&search.page=4\n",
      "detail_page: 966923960, 966923790, 966923526, 966923515, 966923510, 966923485, 966923434, 966923416, 966923402, 966923384, 966923298, 966923163, 966923059, 966923035, 966923018, 966923003, 966922997, 966922793, 966922789, 966922768, 966922757, 966922650, 966922543, 966922527, 966922500, 966922466, 966922274, 966922271, 966922117, 966922042, 966922037, 966921997, 966921938, 966921937, 966921917, 966921886, 966921771, 966921705, 966921519, 966921484, 966921408, 966921182, 966921152, 966921079, 966920956, 966920942, 966920765, 966920754, 966920638, 966920562, \n",
      "현재 페이지: 4     https://cafe.naver.com/ArticleList.nhn?search.clubid=10050146&search.menuid=334&userDisplay=50&search.boardtype=L&search.specialmenutype=&search.totalCount=501&search.cafeId=10050146&search.page=4\n",
      "현재 페이지: 5     https://cafe.naver.com/ArticleList.nhn?search.clubid=10050146&search.menuid=334&userDisplay=50&search.boardtype=L&search.specialmenutype=&search.totalCount=501&search.cafeId=10050146&search.page=5\n",
      "detail_page: 966920562, 966920456, 966920390, 966920276, 966920246, 966920173, 966920131, 966920057, 966920041, 966920022, 966919940, 966919930, 966919890, 966919858, 966919708, 966919696, 966919612, 966919373, 966919277, 966919264, 966919247, 966919245, 966919037, 966919021, 966918953, 966918945, 966918902, 966918835, 966918814, 966918754, 966918674, 966918637, 966918583, 966918481, 966918439, 966918416, 966918412, 966918403, 966918360, 966918296, 966918256, 966918243, 966918217, 966918163, 966918039, 966917894, 966917831, 966917715, 966917649, 966917608, \n",
      "현재 페이지: 5     https://cafe.naver.com/ArticleList.nhn?search.clubid=10050146&search.menuid=334&userDisplay=50&search.boardtype=L&search.specialmenutype=&search.totalCount=501&search.cafeId=10050146&search.page=5\n",
      "현재 페이지: 6     https://cafe.naver.com/ArticleList.nhn?search.clubid=10050146&search.menuid=334&userDisplay=50&search.boardtype=L&search.specialmenutype=&search.totalCount=501&search.cafeId=10050146&search.page=6\n",
      "detail_page: 966917590, 966917569, 966917445, 966917336, 966917333, 966917327, 966917299, 966917234, 966917190, 966917161, 966917102, 966917073, 966917045, 966917011, 966916972, 966916958, 966916916, 966916905, 966916869, 966916865, 966916827, 966916725, 966916654, 966916597, 966916557, 966916436, 966916305, 966916270, 966916189, 966916054, 966916045, 966915980, 966915969, 966915771, 966915733, 966915683, 966915642, 966915629, 966915577, 966915565, 966915534, 966915497, 966915327, 966915316, 966915243, 966915175, 966915105, 966915042, 966914972, 966914912, \n",
      "현재 페이지: 6     https://cafe.naver.com/ArticleList.nhn?search.clubid=10050146&search.menuid=334&userDisplay=50&search.boardtype=L&search.specialmenutype=&search.totalCount=501&search.cafeId=10050146&search.page=6\n",
      "현재 페이지: 7     https://cafe.naver.com/ArticleList.nhn?search.clubid=10050146&search.menuid=334&userDisplay=50&search.boardtype=L&search.specialmenutype=&search.totalCount=501&search.cafeId=10050146&search.page=7\n",
      "detail_page: 966914972, 966914912, 966914898, 966914871, 966914801, 966914797, 966914713, 966914629, 966914518, 966914515, 966914382, 966914195, 966913970, 966913896, 966913882, 966913863, 966913828, 966913770, 966913701, 966913649, 966913633, 966913590, 966913587, 966913254, 966913174, 966913132, 966913110, 966913071, 966912907, 966912878, 966912735, 966912701, 966912686, 966912662, 966912651, 966912605, 966912571, 966912543, 966912534, 966912348, 966912262, 966912229, 966912194, 966912104, 966912043, 966912037, 966911891, 966911811, 966911771, 966911770, \n",
      "현재 페이지: 7     https://cafe.naver.com/ArticleList.nhn?search.clubid=10050146&search.menuid=334&userDisplay=50&search.boardtype=L&search.specialmenutype=&search.totalCount=501&search.cafeId=10050146&search.page=7\n",
      "현재 페이지: 8     https://cafe.naver.com/ArticleList.nhn?search.clubid=10050146&search.menuid=334&userDisplay=50&search.boardtype=L&search.specialmenutype=&search.totalCount=501&search.cafeId=10050146&search.page=8\n",
      "detail_page: 966911771, 966911770, 966911585, 966911548, 966911511, 966911401, 966911365, 966911287, 966911284, 966911213, 966911097, 966911081, 966911010, 966910997, 966910821, 966910781, 966910746, 966910722, 966910623, 966910567, 966910542, 966910511, 966910453, 966910280, 966910270, 966910215, 966910086, 966910075, 966910066, 966909981, 966909977, 966909905, 966909894, 966909882, 966909869, 966909813, 966909811, 966909810, 966909753, 966909550, 966909494, 966909392, 966909255, 966909217, 966909127, 966909075, 966908721, 966908705, 966908624, 966908449, \n",
      "현재 페이지: 8     https://cafe.naver.com/ArticleList.nhn?search.clubid=10050146&search.menuid=334&userDisplay=50&search.boardtype=L&search.specialmenutype=&search.totalCount=501&search.cafeId=10050146&search.page=8\n",
      "현재 페이지: 9     https://cafe.naver.com/ArticleList.nhn?search.clubid=10050146&search.menuid=334&userDisplay=50&search.boardtype=L&search.specialmenutype=&search.totalCount=501&search.cafeId=10050146&search.page=9\n",
      "detail_page: 966908423, 966908419, 966908395, 966908389, 966908357, 966908265, 966908147, 966908133, 966908102, 966908057, 966908048, 966907757, 966907753, 966907458, 966907440, 966907418, 966907410, 966907276, 966907268, 966907265, 966907252, 966907153, 966907124, 966907106, 966907023, 966906963, 966906962, 966906933, 966906894, 966906859, 966906851, 966906831, 966906827, 966906771, 966906698, 966906642, 966906565, 966906469, 966906395, 966906310, 966906302, 966906301, 966906190, 966906023, 966905980, 966905943, 966905937, 966905870, 966905842, 966905798, \n",
      "현재 페이지: 9     https://cafe.naver.com/ArticleList.nhn?search.clubid=10050146&search.menuid=334&userDisplay=50&search.boardtype=L&search.specialmenutype=&search.totalCount=501&search.cafeId=10050146&search.page=9\n",
      "현재 페이지: 10     https://cafe.naver.com/ArticleList.nhn?search.clubid=10050146&search.menuid=334&userDisplay=50&search.boardtype=L&search.specialmenutype=&search.totalCount=501&search.cafeId=10050146&search.page=10\n",
      "detail_page: 966905937, 966905870, 966905842, 966905798, 966905646, 966905567, 966905479, 966905475, 966905458, 966905457, 966905375, 966905343, 966905296, 966905281, 966905249, 966905238, 966905204, 966905189, 966905142, 966905135, 966905129, 966905118, 966905091, 966905087, 966904943, 966904932, 966904821, 966904770, 966904688, 966904654, 966904637, 966904585, 966904489, 966904477, 966904459, 966904373, 966904368, 966904338, 966904238, 966904062, 966904019, 966903955, 966903745, 966903674, 966903666, 966903570, 966903559, 966903440, 966903381, 966903226, \n",
      "현재 페이지: 10     https://cafe.naver.com/ArticleList.nhn?search.clubid=10050146&search.menuid=334&userDisplay=50&search.boardtype=L&search.specialmenutype=&search.totalCount=501&search.cafeId=10050146&search.page=10\n",
      "현재 페이지: 11     https://cafe.naver.com/ArticleList.nhn?search.clubid=10050146&search.menuid=334&userDisplay=50&search.boardtype=L&search.specialmenutype=&search.totalCount=501&search.cafeId=10050146&search.page=11\n",
      "detail_page: 966903381, 966903226, 966903006, 966902920, 966902875, 966902863, 966902857, 966902850, 966902830, 966902731, 966902664, 966902599, 966902585, 966902425, 966902276, 966902189, 966902187, 966901920, 966901830, 966901812, 966901765, 966901705, 966901697, 966901694, 966901590, 966901520, 966901510, 966901388, 966901215, 966901208, 966901107, 966901094, 966901060, 966900996, 966900984, 966900974, 966900907, 966900869, 966900821, 966900748, 966900603, 966900598, 966900524, 966900499, 966900468, 966900437, 966900375, 966900357, 966900323, 966900287, \n",
      "현재 페이지: 11     https://cafe.naver.com/ArticleList.nhn?search.clubid=10050146&search.menuid=334&userDisplay=50&search.boardtype=L&search.specialmenutype=&search.totalCount=501&search.cafeId=10050146&search.page=11\n",
      "현재 페이지: 12     https://cafe.naver.com/ArticleList.nhn?search.clubid=10050146&search.menuid=334&userDisplay=50&search.boardtype=L&search.specialmenutype=&search.totalCount=1001&search.cafeId=10050146&search.page=12\n",
      "detail_page: 966900323, 966900287, 966900217, 966900079, 966900060, 966900057, 966899961, 966899906, 966899807, 966899764, 966899702, 966899655, 966899605, 966899577, 966899557, 966899555, 966899501, 966899492, 966899273, 966899205, 966899163, 966899063, 966898985, 966898910, 966898871, 966898779, 966898774, 966898510, 966898500, 966898394, 966898323, 966898164, 966898163, 966898103, 966898017, 966897987, 966897971, 966897907, 966897744, 966897708, 966897606, 966897582, 966897577, 966897559, 966897542, 966897523, 966897515, 966897502, 966897433, 966897409, \n",
      "현재 페이지: 12     https://cafe.naver.com/ArticleList.nhn?search.clubid=10050146&search.menuid=334&userDisplay=50&search.boardtype=L&search.specialmenutype=&search.totalCount=1001&search.cafeId=10050146&search.page=12\n",
      "현재 페이지: 13     https://cafe.naver.com/ArticleList.nhn?search.clubid=10050146&search.menuid=334&userDisplay=50&search.boardtype=L&search.specialmenutype=&search.totalCount=1001&search.cafeId=10050146&search.page=13\n",
      "detail_page: 966897433, 966897409, 966897264, 966897237, 966897117, 966897077, 966897027, 966896920, 966896872, 966896856, 966896704, 966896682, 966896680, 966896598, 966896556, 966896543, 966896448, 966896386, 966896382, 966896364, 966896347, 966896337, 966896292, 966896139, 966896123, 966896080, 966895987, 966895948, 966895824, 966895810, 966895794, 966895729, 966895523, 966895318, 966895315, 966895234, 966895209, 966895132, 966895084, 966895014, 966894998, 966894985, 966894965, 966894957, 966894911, 966894900, 966894843, 966894823, 966894782, 966894768, \n",
      "현재 페이지: 13     https://cafe.naver.com/ArticleList.nhn?search.clubid=10050146&search.menuid=334&userDisplay=50&search.boardtype=L&search.specialmenutype=&search.totalCount=1001&search.cafeId=10050146&search.page=13\n",
      "현재 페이지: 14     https://cafe.naver.com/ArticleList.nhn?search.clubid=10050146&search.menuid=334&userDisplay=50&search.boardtype=L&search.specialmenutype=&search.totalCount=1001&search.cafeId=10050146&search.page=14\n",
      "detail_page: 966894823, 966894782, 966894768, 966894760, 966894540, 966894369, 966894366, 966894362, 966894208, 966894144, 966893944, 966893892, 966893861, 966893791, 966893748, 966893677, 966893675, 966893663, 966893627, 966893620, 966893589, 966893527, 966893522, 966893502, 966893438, 966893424, 966893412, 966893405, 966893368, 966893300, 966893292, 966893240, 966893191, 966893141, 966893116, 966893115, 966892981, 966892803, 966892787, 966892696, 966892691, 966892595, 966892574, 966892566, 966892555, 966892523, 966892478, 966892477, 966892444, 966892431, \n",
      "현재 페이지: 14     https://cafe.naver.com/ArticleList.nhn?search.clubid=10050146&search.menuid=334&userDisplay=50&search.boardtype=L&search.specialmenutype=&search.totalCount=1001&search.cafeId=10050146&search.page=14\n",
      "현재 페이지: 15     https://cafe.naver.com/ArticleList.nhn?search.clubid=10050146&search.menuid=334&userDisplay=50&search.boardtype=L&search.specialmenutype=&search.totalCount=1001&search.cafeId=10050146&search.page=15\n",
      "detail_page: 966892431, 966892248, 966892244, 966892239, 966892236, 966892164, 966892059, 966892054, 966891818, 966891728, 966891658, 966891533, 966891470, 966891421, 966891401, 966891388, 966891364, 966891305, 966891282, 966891250, 966891244, 966891236, 966891230, 966891115, 966891085, 966891084, 966891012, 966890965, 966890964, 966890959, 966890888, 966890866, 966890756, 966890712, 966890620, 966890606, 966890440, 966890411, 966890350, 966890346, 966890271, 966890233, 966890223, 966890215, 966890143, 966890121, 966890033, 966889999, 966889696, 966889693, \n",
      "현재 페이지: 15     https://cafe.naver.com/ArticleList.nhn?search.clubid=10050146&search.menuid=334&userDisplay=50&search.boardtype=L&search.specialmenutype=&search.totalCount=1001&search.cafeId=10050146&search.page=15\n",
      "현재 페이지: 16     https://cafe.naver.com/ArticleList.nhn?search.clubid=10050146&search.menuid=334&userDisplay=50&search.boardtype=L&search.specialmenutype=&search.totalCount=1001&search.cafeId=10050146&search.page=16\n",
      "detail_page: 966889484, 966889433, 966889426, 966889365, 966889317, 966889291, 966889228, 966889123, 966889024, 966888974, 966888808, 966888775, 966888684, 966888624, 966888566, 966888535, 966888513, 966888282, 966888070, 966887999, 966887968, 966887777, 966887512, 966887244, 966887101, 966887067, 966886894, 966886831, 966886588, 966886473, 966886374, 966886326, 966885925, 966885824, 966885674, 966885434, 966885423, 966885293, 966885259, 966885177, 966885169, 966885091, 966884967, 966884543, 966884490, 966884157, 966883862, 966883778, 966883731, 966883490, \n",
      "현재 페이지: 16     https://cafe.naver.com/ArticleList.nhn?search.clubid=10050146&search.menuid=334&userDisplay=50&search.boardtype=L&search.specialmenutype=&search.totalCount=1001&search.cafeId=10050146&search.page=16\n",
      "현재 페이지: 17     https://cafe.naver.com/ArticleList.nhn?search.clubid=10050146&search.menuid=334&userDisplay=50&search.boardtype=L&search.specialmenutype=&search.totalCount=1001&search.cafeId=10050146&search.page=17\n"
     ]
    },
    {
     "name": "stdout",
     "output_type": "stream",
     "text": [
      "detail_page: 966883731, 966883490, 966883437, 966883263, 966882866, 966882670, 966882631, 966882516, 966882431, 966882136, 966881970, 966881579, 966881516, 966881143, 966881079, 966880935, 966880603, 966880522, 966880218, 966880026, 966879769, 966879647, 966879484, 966878987, 966877768, 966877324, 966876958, 966876514, 966876469, 966875956, 966875594, 966875517, 966875492, 966875292, 966875276, 966875266, 966875240, 966875054, 966874405, 966874400, 966874357, 966874072, 966874068, 966873991, 966873910, 966873863, 966873747, 966873653, 966873634, 966873388, \n",
      "현재 페이지: 17     https://cafe.naver.com/ArticleList.nhn?search.clubid=10050146&search.menuid=334&userDisplay=50&search.boardtype=L&search.specialmenutype=&search.totalCount=1001&search.cafeId=10050146&search.page=17\n",
      "현재 페이지: 18     https://cafe.naver.com/ArticleList.nhn?search.clubid=10050146&search.menuid=334&userDisplay=50&search.boardtype=L&search.specialmenutype=&search.totalCount=1001&search.cafeId=10050146&search.page=18\n",
      "detail_page: 966873388, 966873342, 966873298, 966873271, 966873126, 966872961, 966872681, 966872648, 966872474, 966872140, 966872032, 966871988, 966871821, 966871641, 966871495, 966870936, 966870915, 966870821, 966870458, 966870352, 966870332, 966870228, 966870173, 966870172, 966869826, 966869761, 966868938, 966868596, 966868471, 966868195, 966868193, 966868049, 966868046, 966867921, 966867745, 966867738, 966867683, 966867659, 966867621, 966867593, 966867436, 966867101, 966866721, 966866542, 966866488, 966866454, 966866433, 966866409, 966866404, 966866334, \n",
      "현재 페이지: 18     https://cafe.naver.com/ArticleList.nhn?search.clubid=10050146&search.menuid=334&userDisplay=50&search.boardtype=L&search.specialmenutype=&search.totalCount=1001&search.cafeId=10050146&search.page=18\n",
      "현재 페이지: 19     https://cafe.naver.com/ArticleList.nhn?search.clubid=10050146&search.menuid=334&userDisplay=50&search.boardtype=L&search.specialmenutype=&search.totalCount=1001&search.cafeId=10050146&search.page=19\n",
      "detail_page: 966866161, 966866118, 966866078, 966866042, 966865991, 966865879, 966865557, 966865403, 966865391, 966865077, 966865038, 966864968, 966864967, 966864926, 966864867, 966864696, 966864630, 966864553, 966863952, 966863853, 966863748, 966863632, 966863558, 966863383, 966863376, 966863238, 966863032, 966862922, 966862896, 966862845, 966862795, 966862721, 966862660, 966862090, 966862071, 966861855, 966861722, 966861634, 966861528, 966861465, 966861455, 966861450, 966861401, 966861397, 966861385, 966861326, 966861232, 966861159, 966861129, 966861124, \n",
      "현재 페이지: 19     https://cafe.naver.com/ArticleList.nhn?search.clubid=10050146&search.menuid=334&userDisplay=50&search.boardtype=L&search.specialmenutype=&search.totalCount=1001&search.cafeId=10050146&search.page=19\n",
      "현재 페이지: 20     https://cafe.naver.com/ArticleList.nhn?search.clubid=10050146&search.menuid=334&userDisplay=50&search.boardtype=L&search.specialmenutype=&search.totalCount=1001&search.cafeId=10050146&search.page=20\n",
      "detail_page: 966861124, 966861008, 966860897, 966860791, 966860768, 966860760, 966860655, 966860637, 966860133, 966860114, 966859976, 966859958, 966859947, 966859931, 966859914, 966859892, 966859887, 966859840, 966859588, 966859362, 966859310, 966859284, 966859259, 966859201, 966859170, 966859123, 966859002, 966858982, 966858881, 966858667, 966858648, 966858452, 966858156, 966857993, 966857926, 966857898, 966857825, 966857779, 966857636, 966857631, 966857591, 966857540, 966857421, 966857363, 966857355, 966857263, 966857061, 966857000, 966856985, 966856859, \n",
      "현재 페이지: 20     https://cafe.naver.com/ArticleList.nhn?search.clubid=10050146&search.menuid=334&userDisplay=50&search.boardtype=L&search.specialmenutype=&search.totalCount=1001&search.cafeId=10050146&search.page=20\n",
      "현재 페이지: 21     https://cafe.naver.com/ArticleList.nhn?search.clubid=10050146&search.menuid=334&userDisplay=50&search.boardtype=L&search.specialmenutype=&search.totalCount=1001&search.cafeId=10050146&search.page=21\n",
      "detail_page: 966856985, 966856859, 966856809, 966856727, 966856631, 966856575, 966856556, 966856508, 966856501, 966856241, 966856230, 966855899, 966855770, 966855731, 966855676, 966855599, 966855569, 966855533, 966855446, 966855411, 966855340, 966855282, 966855278, 966855161, 966855148, 966855114, 966855013, 966854909, 966854830, 966854719, 966854682, 966854671, 966854469, 966854440, 966854416, 966854407, 966854366, 966854364, 966854080, 966854052, 966853720, 966853639, 966853515, 966853185, 966853182, 966852929, 966852920, 966852904, 966852832, 966852725, \n",
      "현재 페이지: 21     https://cafe.naver.com/ArticleList.nhn?search.clubid=10050146&search.menuid=334&userDisplay=50&search.boardtype=L&search.specialmenutype=&search.totalCount=1001&search.cafeId=10050146&search.page=21\n",
      "현재 페이지: 22     https://cafe.naver.com/ArticleList.nhn?search.clubid=10050146&search.menuid=334&userDisplay=50&search.boardtype=L&search.specialmenutype=&search.totalCount=1501&search.cafeId=10050146&search.page=22\n",
      "detail_page: 966852725, 966852656, 966852391, 966852369, 966852339, 966852315, 966852185, 966852128, 966851983, 966851971, 966851935, 966851812, 966851269, 966851168, 966851124, 966851060, 966850906, 966850803, 966850685, 966850655, 966850623, 966850411, 966850390, 966850325, 966850302, 966850239, 966850223, 966850221, 966849951, 966849941, 966849823, 966849821, 966849786, 966849761, 966849730, 966849487, 966849442, 966849409, 966849304, 966849269, 966848991, 966848933, 966848898, 966848875, 966848816, 966848810, 966848798, 966848298, 966848255, 966848181, \n",
      "현재 페이지: 22     https://cafe.naver.com/ArticleList.nhn?search.clubid=10050146&search.menuid=334&userDisplay=50&search.boardtype=L&search.specialmenutype=&search.totalCount=1501&search.cafeId=10050146&search.page=22\n",
      "현재 페이지: 23     https://cafe.naver.com/ArticleList.nhn?search.clubid=10050146&search.menuid=334&userDisplay=50&search.boardtype=L&search.specialmenutype=&search.totalCount=1501&search.cafeId=10050146&search.page=23\n",
      "detail_page: 966848038, 966847916, 966847879, 966847790, 966847771, 966847763, 966847666, 966847657, 966847515, 966847458, 966847446, 966847316, 966847214, 966847177, 966847044, 966847016, 966846990, 966846928, 966846900, 966846839, 966846805, 966846802, 966846743, 966846580, 966846570, 966846425, 966846419, 966846157, 966846126, 966846114, 966846113, 966846073, 966845939, 966845862, 966845705, 966845551, 966845522, 966845489, 966845432, 966845390, 966845352, 966845257, 966845163, 966845084, 966845077, 966845039, 966844916, 966844830, 966844654, 966844525, \n",
      "현재 페이지: 23     https://cafe.naver.com/ArticleList.nhn?search.clubid=10050146&search.menuid=334&userDisplay=50&search.boardtype=L&search.specialmenutype=&search.totalCount=1501&search.cafeId=10050146&search.page=23\n",
      "현재 페이지: 24     https://cafe.naver.com/ArticleList.nhn?search.clubid=10050146&search.menuid=334&userDisplay=50&search.boardtype=L&search.specialmenutype=&search.totalCount=1501&search.cafeId=10050146&search.page=24\n",
      "detail_page: 966844916, 966844830, 966844654, 966844525, 966844382, 966844330, 966844296, 966844255, 966844200, 966843924, 966843807, 966843355, 966843182, 966843161, 966842839, 966842810, 966842566, 966842527, 966842507, 966842426, 966842407, 966842387, 966842347, 966842137, 966842093, 966841959, 966841899, 966841852, 966841835, 966841710, 966841561, 966841521, 966841512, 966841437, 966841335, 966841282, 966841022, 966840986, 966840800, 966840768, 966840650, 966840616, 966840548, 966840489, 966840458, 966840280, 966840187, 966840028, 966839989, 966839929, \n",
      "현재 페이지: 24     https://cafe.naver.com/ArticleList.nhn?search.clubid=10050146&search.menuid=334&userDisplay=50&search.boardtype=L&search.specialmenutype=&search.totalCount=1501&search.cafeId=10050146&search.page=24\n",
      "현재 페이지: 25     https://cafe.naver.com/ArticleList.nhn?search.clubid=10050146&search.menuid=334&userDisplay=50&search.boardtype=L&search.specialmenutype=&search.totalCount=1501&search.cafeId=10050146&search.page=25\n",
      "detail_page: 966840187, 966840028, 966839989, 966839929, 966839875, 966839768, 966839683, 966839553, 966839492, 966839243, 966839227, 966839189, 966838971, 966838960, 966838954, 966838884, 966838816, 966838794, 966838370, 966838336, 966838074, 966837719, 966837705, 966837691, 966837626, 966837608, 966837486, 966837440, 966837399, 966837315, 966837293, 966837281, 966837254, 966837179, 966837035, 966836952, 966836896, 966836868, 966836740, 966836735, 966836715, 966836700, 966836692, 966836663, 966836483, 966836451, 966836396, 966836307, 966836170, 966836080, \n",
      "현재 페이지: 25     https://cafe.naver.com/ArticleList.nhn?search.clubid=10050146&search.menuid=334&userDisplay=50&search.boardtype=L&search.specialmenutype=&search.totalCount=1501&search.cafeId=10050146&search.page=25\n",
      "현재 페이지: 26     https://cafe.naver.com/ArticleList.nhn?search.clubid=10050146&search.menuid=334&userDisplay=50&search.boardtype=L&search.specialmenutype=&search.totalCount=1501&search.cafeId=10050146&search.page=26\n",
      "detail_page: 966835975, 966835654, 966835652, 966835522, 966835342, 966835233, 966835185, 966835171, 966835031, 966834978, 966834675, 966834588, 966834552, 966834459, 966834282, 966834063, 966833959, 966833954, 966833920, 966833904, 966833713, 966833709, 966833681, 966833535, 966833405, 966833389, 966833233, 966833211, 966833123, 966833091, 966833028, 966832989, 966832910, 966832766, 966832690, 966832655, 966832614, 966832594, 966832264, 966832228, 966832205, 966832115, 966832082, 966831996, 966831972, 966831956, 966831861, 966831811, 966831701, 966831612, \n",
      "현재 페이지: 26     https://cafe.naver.com/ArticleList.nhn?search.clubid=10050146&search.menuid=334&userDisplay=50&search.boardtype=L&search.specialmenutype=&search.totalCount=1501&search.cafeId=10050146&search.page=26\n",
      "현재 페이지: 27     https://cafe.naver.com/ArticleList.nhn?search.clubid=10050146&search.menuid=334&userDisplay=50&search.boardtype=L&search.specialmenutype=&search.totalCount=1501&search.cafeId=10050146&search.page=27\n",
      "detail_page: 966831501, 966831375, 966831350, 966831331, 966831133, 966831085, 966831048, 966831046, 966831006, 966830938, 966830912, 966830807, 966830795, 966830768, 966830666, 966830422, 966830408, 966830355, 966830281, 966830273, 966829882, 966829827, 966829762, 966829666, 966829558, 966829551, 966829457, 966829444, 966829409, 966829357, 966829201, 966829168, 966829127, 966828919, 966828779, 966828705, 966828671, 966828562, 966828535, 966828455, 966828246, 966828187, 966828049, 966828007, 966827950, 966827762, 966827374, 966827347, 966827056, 966827052, \n",
      "현재 페이지: 27     https://cafe.naver.com/ArticleList.nhn?search.clubid=10050146&search.menuid=334&userDisplay=50&search.boardtype=L&search.specialmenutype=&search.totalCount=1501&search.cafeId=10050146&search.page=27\n",
      "현재 페이지: 28     https://cafe.naver.com/ArticleList.nhn?search.clubid=10050146&search.menuid=334&userDisplay=50&search.boardtype=L&search.specialmenutype=&search.totalCount=1501&search.cafeId=10050146&search.page=28\n",
      "detail_page: 966827052, 966827035, 966827015, 966826965, 966826761, 966826634, 966826536, 966826517, 966826428, 966826108, 966825919, 966825880, 966825786, 966825754, 966825740, 966825514, 966825346, 966825311, 966825249, 966825225, 966825207, 966825205, 966825134, 966825046, 966825024, 966824836, 966824780, 966824635, 966824605, 966824587, 966824475, 966824444, 966824125, 966823939, 966823889, 966823887, 966823855, 966823751, 966823744, 966823593, 966823566, 966823520, 966823439, 966823432, 966823405, 966823390, 966823154, 966823125, 966822922, 966822886, \n",
      "현재 페이지: 28     https://cafe.naver.com/ArticleList.nhn?search.clubid=10050146&search.menuid=334&userDisplay=50&search.boardtype=L&search.specialmenutype=&search.totalCount=1501&search.cafeId=10050146&search.page=28\n",
      "현재 페이지: 29     https://cafe.naver.com/ArticleList.nhn?search.clubid=10050146&search.menuid=334&userDisplay=50&search.boardtype=L&search.specialmenutype=&search.totalCount=1501&search.cafeId=10050146&search.page=29\n",
      "detail_page: 966822886, 966822878, 966822857, 966822704, 966822680, 966822599, 966822393, 966822306, 966822274, 966822164, 966821983, 966821905, 966821670, 966821342, 966821334, 966820988, 966820961, 966820954, 966820809, 966820683, 966820585, 966820356, 966820349, 966820274, 966820217, 966820087, 966819976, 966819969, 966819691, 966819541, 966819515, 966819412, 966819402, 966819342, 966819304, 966819257, 966819019, 966818926, 966818863, 966818855, 966818708, 966818696, 966818670, 966818660, 966818649, 966818629, 966818506, 966818437, 966818377, 966818362, \n",
      "현재 페이지: 29     https://cafe.naver.com/ArticleList.nhn?search.clubid=10050146&search.menuid=334&userDisplay=50&search.boardtype=L&search.specialmenutype=&search.totalCount=1501&search.cafeId=10050146&search.page=29\n",
      "현재 페이지: 30     https://cafe.naver.com/ArticleList.nhn?search.clubid=10050146&search.menuid=334&userDisplay=50&search.boardtype=L&search.specialmenutype=&search.totalCount=1501&search.cafeId=10050146&search.page=30\n",
      "detail_page: 966818377, 966818362, 966818297, 966818189, 966818104, 966818100, 966817764, 966817697, 966817650, 966817583, 966817525, 966817513, 966817430, 966817408, 966817365, 966817327, 966817295, 966817273, 966817211, 966817199, 966817144, 966816866, 966816704, 966816645, 966816537, 966816092, 966816068, 966816044, 966815979, 966815931, 966815719, 966815515, 966815447, 966815377, 966815368, 966815048, 966815037, 966814954, 966814863, 966814779, 966814596, 966814319, 966814211, 966813837, 966813723, 966813694, 966813634, 966813597, 966813443, 966813330, \n",
      "현재 페이지: 30     https://cafe.naver.com/ArticleList.nhn?search.clubid=10050146&search.menuid=334&userDisplay=50&search.boardtype=L&search.specialmenutype=&search.totalCount=1501&search.cafeId=10050146&search.page=30\n",
      "현재 페이지: 31     https://cafe.naver.com/ArticleList.nhn?search.clubid=10050146&search.menuid=334&userDisplay=50&search.boardtype=L&search.specialmenutype=&search.totalCount=1501&search.cafeId=10050146&search.page=31\n",
      "detail_page: 966813443, 966813330, 966813254, 966813219, 966813000, 966812748, 966812674, 966812465, 966812412, 966812402, 966812377, 966812167, 966812141, 966811959, 966811932, 966811737, 966811654, 966811632, 966811622, 966811600, 966811573, 966811545, 966811516, 966811219, 966811206, 966811182, 966811172, 966811001, 966810902, 966810802, 966810714, 966810699, 966810357, 966810216, 966809927, 966809462, 966808617, 966808490, 966808309, 966808279, 966808185, 966808050, 966808027, 966807914, 966807762, 966807628, 966807536, 966807469, 966807419, 966807414, \n",
      "현재 페이지: 31     https://cafe.naver.com/ArticleList.nhn?search.clubid=10050146&search.menuid=334&userDisplay=50&search.boardtype=L&search.specialmenutype=&search.totalCount=1501&search.cafeId=10050146&search.page=31\n",
      "현재 페이지: 32     https://cafe.naver.com/ArticleList.nhn?search.clubid=10050146&search.menuid=334&userDisplay=50&search.boardtype=L&search.specialmenutype=&search.totalCount=2001&search.cafeId=10050146&search.page=32\n",
      "detail_page: 966807414, 966807355, 966807285, 966807155, 966807117, 966806779, 966806549, 966806543, 966806427, 966806425, 966806140, 966806043, 966805987, 966805984, 966805871, 966805782, 966805779, 966805460, 966805433, 966805357, 966805274, 966805121, 966805095, 966805031, 966804911, 966804876, 966804809, 966804703, 966804680, 966804384, 966804138, 966804078, 966804075, 966804040, 966803968, 966803759, 966803738, 966803679, 966803608, 966803572, 966803453, 966803284, 966803169, 966803033, 966802961, 966802765, 966802673, 966802623, 966802491, 966802364, \n",
      "현재 페이지: 32     https://cafe.naver.com/ArticleList.nhn?search.clubid=10050146&search.menuid=334&userDisplay=50&search.boardtype=L&search.specialmenutype=&search.totalCount=2001&search.cafeId=10050146&search.page=32\n",
      "현재 페이지: 33     https://cafe.naver.com/ArticleList.nhn?search.clubid=10050146&search.menuid=334&userDisplay=50&search.boardtype=L&search.specialmenutype=&search.totalCount=2001&search.cafeId=10050146&search.page=33\n"
     ]
    },
    {
     "name": "stdout",
     "output_type": "stream",
     "text": [
      "detail_page: 966802623, 966802491, 966802364, 966802043, 966801239, 966801225, 966801210, 966801194, 966801175, 966800978, 966800969, 966800656, 966800487, 966800457, 966800308, 966800116, 966800111, 966800020, 966799880, 966799848, 966799757, 966799446, 966799324, 966799264, 966799121, 966798996, 966798840, 966798770, 966798674, 966798567, 966798398, 966798285, 966798153, 966798148, 966798110, 966798104, 966797989, 966797972, 966797896, 966797752, 966797748, 966797699, 966797683, 966797498, 966797493, 966797409, 966797309, 966797122, 966797084, 966796834, \n",
      "현재 페이지: 33     https://cafe.naver.com/ArticleList.nhn?search.clubid=10050146&search.menuid=334&userDisplay=50&search.boardtype=L&search.specialmenutype=&search.totalCount=2001&search.cafeId=10050146&search.page=33\n",
      "현재 페이지: 34     https://cafe.naver.com/ArticleList.nhn?search.clubid=10050146&search.menuid=334&userDisplay=50&search.boardtype=L&search.specialmenutype=&search.totalCount=2001&search.cafeId=10050146&search.page=34\n",
      "detail_page: 966796793, 966796510, 966796398, 966796108, 966796047, 966796031, 966796000, 966795999, 966795792, 966795533, 966795388, 966795320, 966795253, 966795235, 966795109, 966795095, 966794783, 966794758, 966794707, 966794571, 966794405, 966793918, 966793848, 966793685, 966793086, 966793073, 966792654, 966792343, 966792287, 966792223, 966791824, 966791737, 966791684, 966791679, 966791485, 966791418, 966791416, 966791364, 966791063, 966791026, 966790831, 966790762, 966790724, 966790479, 966790472, 966790430, 966790345, 966790235, 966790090, 966790082, \n",
      "현재 페이지: 34     https://cafe.naver.com/ArticleList.nhn?search.clubid=10050146&search.menuid=334&userDisplay=50&search.boardtype=L&search.specialmenutype=&search.totalCount=2001&search.cafeId=10050146&search.page=34\n",
      "현재 페이지: 35     https://cafe.naver.com/ArticleList.nhn?search.clubid=10050146&search.menuid=334&userDisplay=50&search.boardtype=L&search.specialmenutype=&search.totalCount=2001&search.cafeId=10050146&search.page=35\n",
      "detail_page: 966790082, 966789623, 966789525, 966789095, 966789052, 966789027, 966788536, 966788053, 966787986, 966787672, 966787431, 966787043, 966786856, 966786819, 966786551, 966786506, 966786215, 966786043, 966785939, 966785910, 966785906, 966785630, 966785482, 966785127, 966784156, 966783988, 966783883, 966783837, 966783825, 966783631, 966783488, 966783411, 966783198, 966783096, 966783050, 966782996, 966782857, 966782714, 966782669, 966782462, 966781887, 966781783, 966781778, 966781625, 966781166, 966781052, 966781030, 966781007, 966780969, 966780834, \n",
      "현재 페이지: 35     https://cafe.naver.com/ArticleList.nhn?search.clubid=10050146&search.menuid=334&userDisplay=50&search.boardtype=L&search.specialmenutype=&search.totalCount=2001&search.cafeId=10050146&search.page=35\n",
      "현재 페이지: 36     https://cafe.naver.com/ArticleList.nhn?search.clubid=10050146&search.menuid=334&userDisplay=50&search.boardtype=L&search.specialmenutype=&search.totalCount=2001&search.cafeId=10050146&search.page=36\n",
      "detail_page: 966780834, 966780642, 966780630, 966780576, 966780466, 966780334, 966780217, 966780190, 966780056, 966779954, 966779932, 966779772, 966779747, 966779665, 966779664, 966779522, 966779202, 966778780, 966778640, 966778576, 966778397, 966778197, 966778079, 966778064, 966778060, 966778028, 966778024, 966777984, 966777980, 966777952, 966777814, 966777692, 966777691, 966777519, 966777449, 966777399, 966777250, 966777114, 966777046, 966776377, 966776369, 966776228, 966776037, 966776016, 966775944, 966775827, 966775773, 966775697, 966775613, 966775601, \n",
      "현재 페이지: 36     https://cafe.naver.com/ArticleList.nhn?search.clubid=10050146&search.menuid=334&userDisplay=50&search.boardtype=L&search.specialmenutype=&search.totalCount=2001&search.cafeId=10050146&search.page=36\n",
      "현재 페이지: 37     https://cafe.naver.com/ArticleList.nhn?search.clubid=10050146&search.menuid=334&userDisplay=50&search.boardtype=L&search.specialmenutype=&search.totalCount=2001&search.cafeId=10050146&search.page=37\n",
      "detail_page: 966775601, 966775509, 966775327, 966775306, 966775289, 966775178, 966774996, 966774940, 966774915, 966774899, 966774798, 966774785, 966774671, 966774670, 966774646, 966774253, 966774179, 966774014, 966773888, 966773794, 966773541, 966773079, 966773002, 966772908, 966772494, 966772412, 966772106, 966772048, 966771993, 966771991, 966771805, 966771776, 966771653, 966771639, 966771336, 966771256, 966771196, 966771181, 966771157, 966771143, 966771009, 966770386, 966770184, 966770138, 966770100, 966769890, 966769766, 966769456, 966769273, 966769225, \n",
      "현재 페이지: 37     https://cafe.naver.com/ArticleList.nhn?search.clubid=10050146&search.menuid=334&userDisplay=50&search.boardtype=L&search.specialmenutype=&search.totalCount=2001&search.cafeId=10050146&search.page=37\n",
      "현재 페이지: 38     https://cafe.naver.com/ArticleList.nhn?search.clubid=10050146&search.menuid=334&userDisplay=50&search.boardtype=L&search.specialmenutype=&search.totalCount=2001&search.cafeId=10050146&search.page=38\n",
      "detail_page: 966769207, 966768950, 966768851, 966768633, 966768456, 966768259, 966768119, 966768114, 966767968, 966767821, 966767355, 966767121, 966766838, 966766808, 966766766, 966766757, 966766667, 966766609, 966766167, 966766113, 966765995, 966765735, 966765433, 966764965, 966764918, 966764407, 966764388, 966764347, 966764291, 966764082, 966763858, 966763793, 966763729, 966763350, 966762986, 966762909, 966762759, 966762327, 966762300, 966762222, 966762193, 966762172, 966761897, 966761805, 966761722, 966761659, 966761518, 966761231, 966761190, 966761188, \n",
      "현재 페이지: 38     https://cafe.naver.com/ArticleList.nhn?search.clubid=10050146&search.menuid=334&userDisplay=50&search.boardtype=L&search.specialmenutype=&search.totalCount=2001&search.cafeId=10050146&search.page=38\n",
      "현재 페이지: 39     https://cafe.naver.com/ArticleList.nhn?search.clubid=10050146&search.menuid=334&userDisplay=50&search.boardtype=L&search.specialmenutype=&search.totalCount=2001&search.cafeId=10050146&search.page=39\n",
      "detail_page: 966761190, 966761188, 966760933, 966760818, 966760781, 966760437, 966760421, 966760303, 966760178, 966760055, 966759968, 966759878, 966759863, 966759453, 966759344, 966759114, 966758959, 966758903, 966758728, 966758565, 966758427, 966758295, 966758221, 966758215, 966758147, 966758114, 966758096, 966757891, 966757797, 966757693, 966757679, 966757600, 966757545, 966757378, 966757323, 966757262, 966757107, 966757098, 966756924, 966756643, 966756365, 966755520, 966755489, 966755447, 966755443, 966755420, 966755396, 966755348, 966754989, 966754946, \n",
      "현재 페이지: 39     https://cafe.naver.com/ArticleList.nhn?search.clubid=10050146&search.menuid=334&userDisplay=50&search.boardtype=L&search.specialmenutype=&search.totalCount=2001&search.cafeId=10050146&search.page=39\n",
      "현재 페이지: 40     https://cafe.naver.com/ArticleList.nhn?search.clubid=10050146&search.menuid=334&userDisplay=50&search.boardtype=L&search.specialmenutype=&search.totalCount=2001&search.cafeId=10050146&search.page=40\n",
      "detail_page: 966754840, 966754782, 966754663, 966754632, 966754446, 966754355, 966754258, 966753856, 966753789, 966753657, 966753440, 966753323, 966753295, 966753277, 966753238, 966753191, 966753154, 966753126, 966753115, 966753079, 966752954, 966752761, 966752571, 966752378, 966752189, 966752065, 966751673, 966751625, 966751533, 966751499, 966751403, 966751360, 966751352, 966751294, 966751169, 966751070, 966751014, 966750918, 966750803, 966750775, 966750714, 966750492, 966749955, 966749903, 966749550, 966749426, 966749337, 966749174, 966749167, 966749163, \n",
      "현재 페이지: 40     https://cafe.naver.com/ArticleList.nhn?search.clubid=10050146&search.menuid=334&userDisplay=50&search.boardtype=L&search.specialmenutype=&search.totalCount=2001&search.cafeId=10050146&search.page=40\n",
      "현재 페이지: 41     https://cafe.naver.com/ArticleList.nhn?search.clubid=10050146&search.menuid=334&userDisplay=50&search.boardtype=L&search.specialmenutype=&search.totalCount=2001&search.cafeId=10050146&search.page=41\n",
      "detail_page: 966748767, 966748759, 966748739, 966748662, 966748469, 966748274, 966748213, 966748049, 966747706, 966747659, 966747343, 966747322, 966747143, 966747077, 966746756, 966746617, 966746301, 966746296, 966746044, 966745680, 966745651, 966745554, 966745370, 966745183, 966744958, 966744903, 966744859, 966744756, 966744515, 966744437, 966743986, 966743946, 966743943, 966743808, 966743705, 966743254, 966743227, 966743196, 966743172, 966742930, 966742874, 966742727, 966742698, 966742614, 966742441, 966742429, 966742423, 966742232, 966741591, 966741354, \n",
      "현재 페이지: 41     https://cafe.naver.com/ArticleList.nhn?search.clubid=10050146&search.menuid=334&userDisplay=50&search.boardtype=L&search.specialmenutype=&search.totalCount=2001&search.cafeId=10050146&search.page=41\n",
      "현재 페이지: 42     https://cafe.naver.com/ArticleList.nhn?search.clubid=10050146&search.menuid=334&userDisplay=50&search.boardtype=L&search.specialmenutype=&search.totalCount=2501&search.cafeId=10050146&search.page=42\n",
      "detail_page: 966741354, 966741172, 966741032, 966740998, 966740674, 966740570, 966740405, 966740340, 966739713, 966739711, 966739505, 966739365, 966739337, 966739047, 966738911, 966738838, 966738787, 966738627, 966738527, 966738369, 966738187, 966737952, 966737838, 966737837, 966737671, 966737576, 966737498, 966737441, 966737431, 966737164, 966737145, 966737037, 966737015, 966736969, 966736899, 966736760, 966736703, 966736696, 966736528, 966735941, 966735846, 966735687, 966734796, 966734623, 966734260, 966734215, 966733997, 966733916, 966733893, 966733864, \n",
      "현재 페이지: 42     https://cafe.naver.com/ArticleList.nhn?search.clubid=10050146&search.menuid=334&userDisplay=50&search.boardtype=L&search.specialmenutype=&search.totalCount=2501&search.cafeId=10050146&search.page=42\n",
      "현재 페이지: 43     https://cafe.naver.com/ArticleList.nhn?search.clubid=10050146&search.menuid=334&userDisplay=50&search.boardtype=L&search.specialmenutype=&search.totalCount=2501&search.cafeId=10050146&search.page=43\n",
      "detail_page: 966733864, 966733846, 966733805, 966733800, 966733759, 966733748, 966733746, 966733714, 966733666, 966733475, 966733435, 966733201, 966733164, 966733143, 966733142, 966733031, 966732920, 966732703, 966732692, 966732602, 966732595, 966732572, 966732545, 966732508, 966732391, 966732119, 966732067, 966732048, 966731856, 966731717, 966731557, 966731156, 966731134, 966730643, 966730423, 966730265, 966730065, 966730025, 966729760, 966729589, 966729568, 966729503, 966729289, 966729270, 966729262, 966729243, 966729003, 966728718, 966728208, 966728104, \n",
      "현재 페이지: 43     https://cafe.naver.com/ArticleList.nhn?search.clubid=10050146&search.menuid=334&userDisplay=50&search.boardtype=L&search.specialmenutype=&search.totalCount=2501&search.cafeId=10050146&search.page=43\n",
      "현재 페이지: 44     https://cafe.naver.com/ArticleList.nhn?search.clubid=10050146&search.menuid=334&userDisplay=50&search.boardtype=L&search.specialmenutype=&search.totalCount=2501&search.cafeId=10050146&search.page=44\n",
      "detail_page: 966728061, 966728036, 966727834, 966727799, 966727719, 966727583, 966727233, 966726927, 966726619, 966726427, 966726393, 966726240, 966726207, 966725695, 966725635, 966725563, 966725421, 966725342, 966725274, 966725162, 966725122, 966724648, 966724381, 966724120, 966723977, 966723853, 966723839, 966723747, 966723687, 966723640, 966723354, 966723210, 966723164, 966723024, 966722921, 966722887, 966722841, 966722630, 966722509, 966722363, 966722248, 966721794, 966721696, 966721685, 966721324, 966721257, 966721225, 966721187, 966721050, 966720887, \n",
      "현재 페이지: 44     https://cafe.naver.com/ArticleList.nhn?search.clubid=10050146&search.menuid=334&userDisplay=50&search.boardtype=L&search.specialmenutype=&search.totalCount=2501&search.cafeId=10050146&search.page=44\n",
      "현재 페이지: 45     https://cafe.naver.com/ArticleList.nhn?search.clubid=10050146&search.menuid=334&userDisplay=50&search.boardtype=L&search.specialmenutype=&search.totalCount=2501&search.cafeId=10050146&search.page=45\n",
      "detail_page: 966720877, 966720744, 966720532, 966720392, 966720295, 966720151, 966719820, 966719803, 966719718, 966719517, 966719252, 966719242, 966719192, 966718951, 966718950, 966718903, 966718808, 966718703, 966718689, 966718607, 966718579, 966718473, 966718226, 966718222, 966718217, 966718076, 966717756, 966717673, 966717520, 966717330, 966717142, 966717120, 966717101, 966716801, 966716694, 966716447, 966716419, 966716386, 966715699, 966715406, 966715164, 966715142, 966714956, 966714853, 966714783, 966714513, 966714498, 966714350, 966714294, 966714130, \n",
      "현재 페이지: 45     https://cafe.naver.com/ArticleList.nhn?search.clubid=10050146&search.menuid=334&userDisplay=50&search.boardtype=L&search.specialmenutype=&search.totalCount=2501&search.cafeId=10050146&search.page=45\n",
      "현재 페이지: 46     https://cafe.naver.com/ArticleList.nhn?search.clubid=10050146&search.menuid=334&userDisplay=50&search.boardtype=L&search.specialmenutype=&search.totalCount=2501&search.cafeId=10050146&search.page=46\n",
      "detail_page: 966713793, 966713286, 966713073, 966712865, 966712585, 966712564, 966712532, 966712443, 966712396, 966712242, 966711946, 966711543, 966711530, 966711402, 966711200, 966710976, 966710811, 966710376, 966710203, 966710013, 966709963, 966709960, 966709841, 966709674, 966709532, 966709067, 966709007, 966708986, 966708907, 966708749, 966708508, 966708328, 966708277, 966708226, 966708186, 966707990, 966707968, 966707639, 966706977, 966706955, 966706936, 966706864, 966706659, 966706608, 966706035, 966705925, 966705827, 966705379, 966704322, 966704158, \n",
      "현재 페이지: 46     https://cafe.naver.com/ArticleList.nhn?search.clubid=10050146&search.menuid=334&userDisplay=50&search.boardtype=L&search.specialmenutype=&search.totalCount=2501&search.cafeId=10050146&search.page=46\n",
      "현재 페이지: 47     https://cafe.naver.com/ArticleList.nhn?search.clubid=10050146&search.menuid=334&userDisplay=50&search.boardtype=L&search.specialmenutype=&search.totalCount=2501&search.cafeId=10050146&search.page=47\n",
      "detail_page: 966704322, 966704158, 966704086, 966703964, 966703856, 966703853, 966703798, 966702768, 966702766, 966702697, 966702562, 966702311, 966702290, 966701903, 966701836, 966701785, 966701664, 966701497, 966701278, 966701051, 966700141, 966699764, 966699415, 966699133, 966698767, 966698285, 966698252, 966697910, 966697669, 966697404, 966697346, 966696986, 966696943, 966696931, 966696379, 966695982, 966695742, 966695173, 966694925, 966694865, 966694658, 966694623, 966694465, 966693864, 966693669, 966692418, 966691884, 966691825, 966691363, 966690776, \n",
      "현재 페이지: 47     https://cafe.naver.com/ArticleList.nhn?search.clubid=10050146&search.menuid=334&userDisplay=50&search.boardtype=L&search.specialmenutype=&search.totalCount=2501&search.cafeId=10050146&search.page=47\n",
      "현재 페이지: 48     https://cafe.naver.com/ArticleList.nhn?search.clubid=10050146&search.menuid=334&userDisplay=50&search.boardtype=L&search.specialmenutype=&search.totalCount=2501&search.cafeId=10050146&search.page=48\n",
      "detail_page: 966690203, 966690117, 966689446, 966689040, 966688876, 966688800, 966688733, 966688422, 966688346, 966687635, 966687525, 966687522, 966687423, 966686313, 966686235, 966685483, 966685469, 966685245, 966685184, 966685101, 966685057, 966685024, 966685008, 966684894, 966684706, 966684536, 966684359, 966684280, 966683920, 966683915, 966683286, 966683155, 966682848, 966682015, 966681978, 966681582, 966681513, 966681494, 966681478, 966681472, 966681313, 966681280, 966681217, 966681126, 966681104, 966680993, 966680985, 966680454, 966680307, 966680291, \n",
      "현재 페이지: 48     https://cafe.naver.com/ArticleList.nhn?search.clubid=10050146&search.menuid=334&userDisplay=50&search.boardtype=L&search.specialmenutype=&search.totalCount=2501&search.cafeId=10050146&search.page=48\n",
      "현재 페이지: 49     https://cafe.naver.com/ArticleList.nhn?search.clubid=10050146&search.menuid=334&userDisplay=50&search.boardtype=L&search.specialmenutype=&search.totalCount=2501&search.cafeId=10050146&search.page=49\n"
     ]
    },
    {
     "name": "stdout",
     "output_type": "stream",
     "text": [
      "detail_page: 966680307, 966680291, 966679878, 966679863, 966679706, 966679553, 966678839, 966678620, 966678185, 966678040, 966677953, 966677200, 966677044, 966676739, 966676703, 966676607, 966676205, 966675902, 966675719, 966675472, 966675147, 966675083, 966674666, 966674621, 966674341, 966674241, 966673807, 966673557, 966673541, 966673367, 966673323, 966673234, 966673125, 966672508, 966672487, 966672483, 966672471, 966672043, 966671905, 966671836, 966671822, 966671665, 966671651, 966671538, 966671534, 966671367, 966671313, 966671262, 966671163, 966670932, \n",
      "현재 페이지: 49     https://cafe.naver.com/ArticleList.nhn?search.clubid=10050146&search.menuid=334&userDisplay=50&search.boardtype=L&search.specialmenutype=&search.totalCount=2501&search.cafeId=10050146&search.page=49\n",
      "현재 페이지: 50     https://cafe.naver.com/ArticleList.nhn?search.clubid=10050146&search.menuid=334&userDisplay=50&search.boardtype=L&search.specialmenutype=&search.totalCount=2501&search.cafeId=10050146&search.page=50\n",
      "detail_page: 966670729, 966670557, 966670534, 966670403, 966670381, 966670341, 966670270, 966670238, 966670182, 966669969, 966669917, 966669818, 966669768, 966669736, 966669270, 966669111, 966669084, 966669077, 966668633, 966668541, 966668411, 966668391, 966668253, 966668236, 966668090, 966668082, 966667831, 966667813, 966667530, 966667407, 966667357, 966667245, 966667229, 966667081, 966667060, 966666973, 966666740, 966666667, 966666576, 966666565, 966666556, 966666524, 966666521, 966666456, 966666250, 966665984, 966665970, 966665870, 966665774, 966665342, \n",
      "현재 페이지: 50     https://cafe.naver.com/ArticleList.nhn?search.clubid=10050146&search.menuid=334&userDisplay=50&search.boardtype=L&search.specialmenutype=&search.totalCount=2501&search.cafeId=10050146&search.page=50\n",
      "현재 페이지: 51     https://cafe.naver.com/ArticleList.nhn?search.clubid=10050146&search.menuid=334&userDisplay=50&search.boardtype=L&search.specialmenutype=&search.totalCount=2501&search.cafeId=10050146&search.page=51\n",
      "detail_page: 966665774, 966665342, 966664976, 966664675, 966664417, 966664305, 966664277, 966664216, 966664161, 966664066, 966664036, 966663924, 966663811, 966663600, 966663483, 966663360, 966663348, 966663147, 966663143, 966663040, 966662850, 966662849, 966662837, 966662333, 966662274, 966661890, 966661820, 966661771, 966661743, 966661711, 966661568, 966661531, 966661508, 966661353, 966661340, 966661318, 966661296, 966661244, 966660985, 966660893, 966660730, 966660525, 966660517, 966660485, 966660332, 966660086, 966660071, 966659668, 966659556, 966659543, \n",
      "현재 페이지: 51     https://cafe.naver.com/ArticleList.nhn?search.clubid=10050146&search.menuid=334&userDisplay=50&search.boardtype=L&search.specialmenutype=&search.totalCount=2501&search.cafeId=10050146&search.page=51\n",
      "현재 페이지: 52     https://cafe.naver.com/ArticleList.nhn?search.clubid=10050146&search.menuid=334&userDisplay=50&search.boardtype=L&search.specialmenutype=&search.totalCount=3001&search.cafeId=10050146&search.page=52\n",
      "detail_page: 966659556, 966659543, 966659536, 966659413, 966659385, 966659227, 966659224, 966659213, 966659209, 966659175, 966659069, 966658944, 966658890, 966658799, 966658679, 966658639, 966658577, 966658438, 966658343, 966658250, 966658108, 966657955, 966657952, 966657906, 966657729, 966657600, 966657536, 966657286, 966657049, 966657014, 966656889, 966656850, 966656807, 966656725, 966656635, 966656536, 966656510, 966656224, 966656089, 966656025, 966655866, 966655599, 966655546, 966655476, 966655185, 966654766, 966654665, 966654634, 966654629, 966654510, \n",
      "현재 페이지: 52     https://cafe.naver.com/ArticleList.nhn?search.clubid=10050146&search.menuid=334&userDisplay=50&search.boardtype=L&search.specialmenutype=&search.totalCount=3001&search.cafeId=10050146&search.page=52\n",
      "현재 페이지: 53     https://cafe.naver.com/ArticleList.nhn?search.clubid=10050146&search.menuid=334&userDisplay=50&search.boardtype=L&search.specialmenutype=&search.totalCount=3001&search.cafeId=10050146&search.page=53\n",
      "detail_page: 966654629, 966654510, 966654301, 966654149, 966654141, 966654039, 966653915, 966653891, 966653887, 966653803, 966653721, 966653467, 966653337, 966653283, 966653177, 966653173, 966653132, 966653088, 966652493, 966652356, 966652191, 966651991, 966651923, 966651851, 966651826, 966651737, 966651681, 966651537, 966651508, 966651505, 966651487, 966651271, 966651264, 966651083, 966650991, 966650858, 966650638, 966650388, 966650322, 966650317, 966650026, 966649795, 966649694, 966649631, 966649584, 966649486, 966649317, 966649279, 966649214, 966649209, \n",
      "현재 페이지: 53     https://cafe.naver.com/ArticleList.nhn?search.clubid=10050146&search.menuid=334&userDisplay=50&search.boardtype=L&search.specialmenutype=&search.totalCount=3001&search.cafeId=10050146&search.page=53\n",
      "현재 페이지: 54     https://cafe.naver.com/ArticleList.nhn?search.clubid=10050146&search.menuid=334&userDisplay=50&search.boardtype=L&search.specialmenutype=&search.totalCount=3001&search.cafeId=10050146&search.page=54\n",
      "detail_page: 966649214, 966649209, 966649164, 966649064, 966649056, 966649035, 966649025, 966648992, 966648983, 966648857, 966648714, 966648618, 966648599, 966648404, 966647965, 966647936, 966647802, 966647677, 966647454, 966647431, 966647416, 966647377, 966647323, 966647235, 966647161, 966647110, 966647045, 966647042, 966646900, 966646796, 966646715, 966646633, 966646537, 966646413, 966646316, 966646229, 966646047, 966645916, 966645892, 966645851, 966645786, 966645755, 966645462, 966645154, 966644969, 966644954, 966644887, 966644826, 966644797, 966644753, \n",
      "현재 페이지: 54     https://cafe.naver.com/ArticleList.nhn?search.clubid=10050146&search.menuid=334&userDisplay=50&search.boardtype=L&search.specialmenutype=&search.totalCount=3001&search.cafeId=10050146&search.page=54\n",
      "현재 페이지: 55     https://cafe.naver.com/ArticleList.nhn?search.clubid=10050146&search.menuid=334&userDisplay=50&search.boardtype=L&search.specialmenutype=&search.totalCount=3001&search.cafeId=10050146&search.page=55\n",
      "detail_page: 966644753, 966644633, 966644308, 966644123, 966644084, 966644083, 966644057, 966643399, 966643241, 966642689, 966642528, 966642458, 966642430, 966642366, 966642319, 966642295, 966642187, 966642146, 966642137, 966641723, 966641641, 966641630, 966641493, 966641334, 966641282, 966641239, 966641059, 966641044, 966641005, 966640922, 966640865, 966640715, 966640586, 966640525, 966640469, 966640328, 966640189, 966640128, 966640020, 966639813, 966639774, 966639672, 966639660, 966639597, 966639479, 966639472, 966639352, 966639232, 966639213, 966639122, \n",
      "현재 페이지: 55     https://cafe.naver.com/ArticleList.nhn?search.clubid=10050146&search.menuid=334&userDisplay=50&search.boardtype=L&search.specialmenutype=&search.totalCount=3001&search.cafeId=10050146&search.page=55\n",
      "현재 페이지: 56     https://cafe.naver.com/ArticleList.nhn?search.clubid=10050146&search.menuid=334&userDisplay=50&search.boardtype=L&search.specialmenutype=&search.totalCount=3001&search.cafeId=10050146&search.page=56\n",
      "detail_page: 966639122, 966639082, 966639050, 966638732, 966638607, 966638565, 966638490, 966638452, 966637819, 966637772, 966637616, 966637556, 966637405, 966637364, 966637298, 966637297, 966637266, 966637264, 966637078, 966637063, 966637062, 966636877, 966636553, 966636552, 966636518, 966636392, 966636191, 966636141, 966636120, 966636018, 966635902, 966635642, 966635593, 966635592, 966635582, 966635538, 966635079, 966634990, 966634975, 966634732, 966634641, 966634612, 966634505, 966634495, 966634360, 966634276, 966634133, 966634129, 966633996, 966633881, \n",
      "현재 페이지: 56     https://cafe.naver.com/ArticleList.nhn?search.clubid=10050146&search.menuid=334&userDisplay=50&search.boardtype=L&search.specialmenutype=&search.totalCount=3001&search.cafeId=10050146&search.page=56\n",
      "현재 페이지: 57     https://cafe.naver.com/ArticleList.nhn?search.clubid=10050146&search.menuid=334&userDisplay=50&search.boardtype=L&search.specialmenutype=&search.totalCount=3001&search.cafeId=10050146&search.page=57\n",
      "detail_page: 966633996, 966633881, 966633705, 966633508, 966633456, 966633214, 966632877, 966632855, 966632809, 966632793, 966632754, 966632717, 966632684, 966632308, 966632040, 966631960, 966631800, 966631787, 966631774, 966631742, 966631499, 966631442, 966631435, 966631144, 966631122, 966631120, 966631062, 966631054, 966631007, 966630999, 966630871, 966630521, 966630458, 966630455, 966630282, 966630121, 966629991, 966629765, 966629511, 966629357, 966629215, 966628766, 966628187, 966628053, 966628035, 966628009, 966627951, 966627949, 966627910, 966627907, \n",
      "현재 페이지: 57     https://cafe.naver.com/ArticleList.nhn?search.clubid=10050146&search.menuid=334&userDisplay=50&search.boardtype=L&search.specialmenutype=&search.totalCount=3001&search.cafeId=10050146&search.page=57\n",
      "현재 페이지: 58     https://cafe.naver.com/ArticleList.nhn?search.clubid=10050146&search.menuid=334&userDisplay=50&search.boardtype=L&search.specialmenutype=&search.totalCount=3001&search.cafeId=10050146&search.page=58\n",
      "detail_page: 966627187, 966626914, 966626801, 966626784, 966626764, 966626398, 966626396, 966626072, 966626051, 966625925, 966625864, 966625709, 966625303, 966625167, 966624985, 966624874, 966624643, 966624580, 966624397, 966624375, 966624307, 966624135, 966624051, 966623994, 966623679, 966623567, 966623175, 966623149, 966623091, 966622885, 966622827, 966622817, 966622781, 966622749, 966622636, 966622612, 966622450, 966621953, 966621904, 966621802, 966621719, 966621621, 966621612, 966621512, 966621383, 966621252, 966621056, 966621000, 966620977, 966620972, \n",
      "현재 페이지: 58     https://cafe.naver.com/ArticleList.nhn?search.clubid=10050146&search.menuid=334&userDisplay=50&search.boardtype=L&search.specialmenutype=&search.totalCount=3001&search.cafeId=10050146&search.page=58\n",
      "현재 페이지: 59     https://cafe.naver.com/ArticleList.nhn?search.clubid=10050146&search.menuid=334&userDisplay=50&search.boardtype=L&search.specialmenutype=&search.totalCount=3001&search.cafeId=10050146&search.page=59\n",
      "detail_page: 966620977, 966620972, 966620826, 966620802, 966620677, 966620642, 966620325, 966620136, 966620065, 966620063, 966619950, 966619590, 966619504, 966619427, 966619359, 966619331, 966619252, 966619218, 966619158, 966618976, 966618661, 966618598, 966618448, 966618238, 966618079, 966618027, 966618012, 966617931, 966617889, 966617861, 966617590, 966617555, 966617399, 966617342, 966617178, 966617028, 966616954, 966616636, 966616425, 966616374, 966616311, 966616108, 966615965, 966615794, 966615485, 966615375, 966615347, 966615058, 966614321, 966614289, \n",
      "현재 페이지: 59     https://cafe.naver.com/ArticleList.nhn?search.clubid=10050146&search.menuid=334&userDisplay=50&search.boardtype=L&search.specialmenutype=&search.totalCount=3001&search.cafeId=10050146&search.page=59\n",
      "현재 페이지: 60     https://cafe.naver.com/ArticleList.nhn?search.clubid=10050146&search.menuid=334&userDisplay=50&search.boardtype=L&search.specialmenutype=&search.totalCount=3001&search.cafeId=10050146&search.page=60\n",
      "detail_page: 966614247, 966614125, 966613422, 966612975, 966612701, 966612562, 966612480, 966612402, 966612248, 966612017, 966611931, 966611831, 966611735, 966611678, 966611494, 966611361, 966611270, 966611243, 966611223, 966610510, 966609950, 966609796, 966609593, 966609516, 966609309, 966608732, 966608728, 966608634, 966608461, 966608341, 966608300, 966608239, 966608176, 966607827, 966607762, 966607741, 966607617, 966607530, 966607496, 966607402, 966607383, 966607299, 966607209, 966607144, 966607140, 966606846, 966606695, 966606342, 966605996, 966605869, \n",
      "현재 페이지: 60     https://cafe.naver.com/ArticleList.nhn?search.clubid=10050146&search.menuid=334&userDisplay=50&search.boardtype=L&search.specialmenutype=&search.totalCount=3001&search.cafeId=10050146&search.page=60\n",
      "현재 페이지: 61     https://cafe.naver.com/ArticleList.nhn?search.clubid=10050146&search.menuid=334&userDisplay=50&search.boardtype=L&search.specialmenutype=&search.totalCount=3001&search.cafeId=10050146&search.page=61\n",
      "detail_page: 966606342, 966605996, 966605869, 966605380, 966605262, 966605035, 966604844, 966604779, 966604692, 966604684, 966604680, 966604629, 966604591, 966604336, 966603692, 966603406, 966603200, 966603153, 966602983, 966602580, 966602317, 966601999, 966601939, 966601938, 966601867, 966601368, 966601317, 966601289, 966601027, 966600996, 966600922, 966600621, 966600428, 966600156, 966600073, 966599513, 966599252, 966598886, 966598882, 966598857, 966598680, 966598492, 966598184, 966597994, 966597725, 966597636, 966597522, 966597310, 966597270, 966597185, \n",
      "현재 페이지: 61     https://cafe.naver.com/ArticleList.nhn?search.clubid=10050146&search.menuid=334&userDisplay=50&search.boardtype=L&search.specialmenutype=&search.totalCount=3001&search.cafeId=10050146&search.page=61\n",
      "현재 페이지: 62     https://cafe.naver.com/ArticleList.nhn?search.clubid=10050146&search.menuid=334&userDisplay=50&search.boardtype=L&search.specialmenutype=&search.totalCount=3501&search.cafeId=10050146&search.page=62\n",
      "detail_page: 966596985, 966596715, 966596707, 966596592, 966596468, 966595976, 966595901, 966595750, 966595646, 966594982, 966594690, 966594548, 966594491, 966593982, 966593875, 966593705, 966593507, 966593500, 966593436, 966593281, 966593251, 966592956, 966592839, 966592596, 966592483, 966592404, 966591950, 966591893, 966591685, 966591625, 966591514, 966591424, 966591318, 966591315, 966590983, 966590528, 966590350, 966590297, 966590293, 966589932, 966589588, 966589493, 966589451, 966589438, 966589340, 966589318, 966589315, 966588990, 966588733, 966588653, \n",
      "현재 페이지: 62     https://cafe.naver.com/ArticleList.nhn?search.clubid=10050146&search.menuid=334&userDisplay=50&search.boardtype=L&search.specialmenutype=&search.totalCount=3501&search.cafeId=10050146&search.page=62\n",
      "현재 페이지: 63     https://cafe.naver.com/ArticleList.nhn?search.clubid=10050146&search.menuid=334&userDisplay=50&search.boardtype=L&search.specialmenutype=&search.totalCount=3501&search.cafeId=10050146&search.page=63\n",
      "detail_page: 966588257, 966587876, 966587857, 966587546, 966587526, 966587442, 966587431, 966587137, 966587111, 966587073, 966586978, 966586820, 966586778, 966586697, 966586398, 966585665, 966585616, 966585507, 966585170, 966584801, 966584747, 966584405, 966584228, 966584151, 966583841, 966583824, 966583683, 966583397, 966583357, 966583043, 966582892, 966582734, 966582731, 966582722, 966582632, 966582588, 966582587, 966582463, 966582352, 966582273, 966582184, 966582158, 966582118, 966582004, 966581712, 966581154, 966580946, 966580906, 966580705, 966580372, \n",
      "현재 페이지: 63     https://cafe.naver.com/ArticleList.nhn?search.clubid=10050146&search.menuid=334&userDisplay=50&search.boardtype=L&search.specialmenutype=&search.totalCount=3501&search.cafeId=10050146&search.page=63\n",
      "현재 페이지: 64     https://cafe.naver.com/ArticleList.nhn?search.clubid=10050146&search.menuid=334&userDisplay=50&search.boardtype=L&search.specialmenutype=&search.totalCount=3501&search.cafeId=10050146&search.page=64\n",
      "detail_page: 966580320, 966580136, 966580004, 966579974, 966579908, 966579895, 966579648, 966579424, 966579377, 966579359, 966579232, 966578893, 966578882, 966578622, 966578063, 966578042, 966577990, 966577610, 966577537, 966577510, 966577487, 966577462, 966577375, 966577292, 966577141, 966577113, 966576571, 966576421, 966576345, 966575573, 966575289, 966575225, 966575144, 966574960, 966574953, 966572725, 966572651, 966572557, 966572457, 966572426, 966572194, 966571784, 966571615, 966571580, 966571356, 966571216, 966570521, 966570345, 966570343, 966570312, \n",
      "현재 페이지: 64     https://cafe.naver.com/ArticleList.nhn?search.clubid=10050146&search.menuid=334&userDisplay=50&search.boardtype=L&search.specialmenutype=&search.totalCount=3501&search.cafeId=10050146&search.page=64\n",
      "현재 페이지: 65     https://cafe.naver.com/ArticleList.nhn?search.clubid=10050146&search.menuid=334&userDisplay=50&search.boardtype=L&search.specialmenutype=&search.totalCount=3501&search.cafeId=10050146&search.page=65\n"
     ]
    },
    {
     "name": "stdout",
     "output_type": "stream",
     "text": [
      "detail_page: 966569804, 966569726, 966569617, 966569138, 966569047, 966568938, 966568925, 966568918, 966568817, 966568739, 966568738, 966568223, 966568147, 966568043, 966567496, 966567458, 966567456, 966567188, 966567033, 966566294, 966565948, 966565725, 966565643, 966565417, 966565369, 966565287, 966565152, 966565007, 966564657, 966564574, 966564501, 966564388, 966564345, 966563883, 966563868, 966563486, 966563368, 966563089, 966562703, 966562628, 966562534, 966562460, 966562399, 966562357, 966562177, 966562083, 966561946, 966561697, 966561597, 966561525, \n",
      "현재 페이지: 65     https://cafe.naver.com/ArticleList.nhn?search.clubid=10050146&search.menuid=334&userDisplay=50&search.boardtype=L&search.specialmenutype=&search.totalCount=3501&search.cafeId=10050146&search.page=65\n",
      "현재 페이지: 66     https://cafe.naver.com/ArticleList.nhn?search.clubid=10050146&search.menuid=334&userDisplay=50&search.boardtype=L&search.specialmenutype=&search.totalCount=3501&search.cafeId=10050146&search.page=66\n",
      "detail_page: 966561525, 966561315, 966561227, 966561062, 966560913, 966560788, 966560732, 966560676, 966560631, 966560419, 966560223, 966560215, 966560194, 966560180, 966559649, 966559634, 966559626, 966559476, 966559472, 966559200, 966559111, 966559107, 966559018, 966558999, 966558947, 966558870, 966558801, 966558778, 966558714, 966558705, 966558632, 966558578, 966558566, 966558554, 966558102, 966558053, 966557934, 966557830, 966557780, 966557664, 966557434, 966557415, 966557401, 966557384, 966557209, 966556722, 966556702, 966556607, 966556505, 966556260, \n",
      "현재 페이지: 66     https://cafe.naver.com/ArticleList.nhn?search.clubid=10050146&search.menuid=334&userDisplay=50&search.boardtype=L&search.specialmenutype=&search.totalCount=3501&search.cafeId=10050146&search.page=66\n",
      "현재 페이지: 67     https://cafe.naver.com/ArticleList.nhn?search.clubid=10050146&search.menuid=334&userDisplay=50&search.boardtype=L&search.specialmenutype=&search.totalCount=3501&search.cafeId=10050146&search.page=67\n",
      "detail_page: 966556260, 966556188, 966556052, 966555743, 966555450, 966555347, 966554858, 966554847, 966554744, 966554740, 966554521, 966554222, 966553755, 966553579, 966553389, 966553334, 966553153, 966552575, 966552466, 966552341, 966552327, 966552276, 966552193, 966552034, 966551845, 966551734, 966551444, 966551206, 966550996, 966550301, 966550014, 966549885, 966549682, 966549661, 966549622, 966549586, 966549509, 966549451, 966548494, 966548421, 966547850, 966547758, 966547629, 966547580, 966547491, 966547488, 966547340, 966547095, 966546888, 966546770, \n",
      "현재 페이지: 67     https://cafe.naver.com/ArticleList.nhn?search.clubid=10050146&search.menuid=334&userDisplay=50&search.boardtype=L&search.specialmenutype=&search.totalCount=3501&search.cafeId=10050146&search.page=67\n",
      "현재 페이지: 68     https://cafe.naver.com/ArticleList.nhn?search.clubid=10050146&search.menuid=334&userDisplay=50&search.boardtype=L&search.specialmenutype=&search.totalCount=3501&search.cafeId=10050146&search.page=68\n",
      "detail_page: 966546734, 966546656, 966546273, 966546238, 966546189, 966546107, 966546045, 966545999, 966545914, 966545491, 966545351, 966545231, 966545142, 966544240, 966544132, 966543911, 966543906, 966543626, 966543520, 966543102, 966543068, 966542953, 966542886, 966542642, 966542447, 966542404, 966542361, 966542141, 966541461, 966541369, 966541027, 966540992, 966540802, 966540559, 966540380, 966540116, 966539915, 966539425, 966538669, 966538514, 966538121, 966538084, 966537971, 966537846, 966537271, 966536978, 966536858, 966536372, 966536313, 966536303, \n",
      "현재 페이지: 68     https://cafe.naver.com/ArticleList.nhn?search.clubid=10050146&search.menuid=334&userDisplay=50&search.boardtype=L&search.specialmenutype=&search.totalCount=3501&search.cafeId=10050146&search.page=68\n",
      "현재 페이지: 69     https://cafe.naver.com/ArticleList.nhn?search.clubid=10050146&search.menuid=334&userDisplay=50&search.boardtype=L&search.specialmenutype=&search.totalCount=3501&search.cafeId=10050146&search.page=69\n",
      "detail_page: 966536313, 966536303, 966536199, 966536145, 966535911, 966535663, 966535601, 966535567, 966535425, 966534656, 966534472, 966534301, 966534290, 966534187, 966533838, 966533785, 966533547, 966533381, 966533238, 966533233, 966533123, 966532797, 966532567, 966532283, 966532066, 966531077, 966531073, 966531024, 966530769, 966530670, 966530506, 966530311, 966530096, 966530030, 966529966, 966529486, 966529032, 966528727, 966528679, 966528655, 966528573, 966528291, 966528260, 966526545, 966526004, 966525997, 966525755, 966525373, 966525290, 966525135, \n",
      "현재 페이지: 69     https://cafe.naver.com/ArticleList.nhn?search.clubid=10050146&search.menuid=334&userDisplay=50&search.boardtype=L&search.specialmenutype=&search.totalCount=3501&search.cafeId=10050146&search.page=69\n",
      "현재 페이지: 70     https://cafe.naver.com/ArticleList.nhn?search.clubid=10050146&search.menuid=334&userDisplay=50&search.boardtype=L&search.specialmenutype=&search.totalCount=3501&search.cafeId=10050146&search.page=70\n",
      "detail_page: 966525135, 966525109, 966524660, 966524299, 966524285, 966524064, 966524056, 966524031, 966523733, 966523538, 966523502, 966523056, 966523020, 966522710, 966522443, 966522430, 966522380, 966522221, 966521773, 966521740, 966521730, 966521712, 966521449, 966521283, 966520421, 966520393, 966520017, 966520001, 966519910, 966519899, 966519689, 966519614, 966519589, 966519469, 966519162, 966518569, 966518541, 966518508, 966518458, 966517797, 966517195, 966517163, 966516802, 966516750, 966516657, 966516649, 966516549, 966516533, 966515931, 966515917, \n",
      "현재 페이지: 70     https://cafe.naver.com/ArticleList.nhn?search.clubid=10050146&search.menuid=334&userDisplay=50&search.boardtype=L&search.specialmenutype=&search.totalCount=3501&search.cafeId=10050146&search.page=70\n",
      "현재 페이지: 71     https://cafe.naver.com/ArticleList.nhn?search.clubid=10050146&search.menuid=334&userDisplay=50&search.boardtype=L&search.specialmenutype=&search.totalCount=3501&search.cafeId=10050146&search.page=71\n",
      "detail_page: 966515917, 966515702, 966515522, 966514999, 966514934, 966514928, 966514383, 966513955, 966513923, 966513501, 966512961, 966512745, 966511972, 966511961, 966511953, 966511916, 966511750, 966511684, 966511264, 966511136, 966510997, 966510053, 966509472, 966509157, 966509128, 966508882, 966508450, 966507894, 966507838, 966507754, 966506923, 966506891, 966505893, 966505832, 966505827, 966505763, 966505536, 966505501, 966505368, 966503786, 966503730, 966503720, 966503539, 966503305, 966502789, 966502178, 966502054, 966502021, 966501697, 966501516, \n",
      "현재 페이지: 71     https://cafe.naver.com/ArticleList.nhn?search.clubid=10050146&search.menuid=334&userDisplay=50&search.boardtype=L&search.specialmenutype=&search.totalCount=3501&search.cafeId=10050146&search.page=71\n",
      "현재 페이지: 72     https://cafe.naver.com/ArticleList.nhn?search.clubid=10050146&search.menuid=334&userDisplay=50&search.boardtype=L&search.specialmenutype=&search.totalCount=4001&search.cafeId=10050146&search.page=72\n",
      "detail_page: 966501300, 966500292, 966498237, 966498087, 966497862, 966497799, 966497789, 966497728, 966497679, 966497375, 966497096, 966496975, 966496961, 966496953, 966496296, 966495232, 966495140, 966494968, 966494807, 966494718, 966494680, 966494658, 966494533, 966494429, 966493968, 966493967, 966493260, 966492997, 966492877, 966492756, 966492705, 966492689, 966492656, 966492604, 966492592, 966492533, 966492514, 966492200, 966492123, 966491948, 966491944, 966491293, 966490999, 966490773, 966490417, 966490335, 966489457, 966489336, 966489102, 966488956, \n",
      "현재 페이지: 72     https://cafe.naver.com/ArticleList.nhn?search.clubid=10050146&search.menuid=334&userDisplay=50&search.boardtype=L&search.specialmenutype=&search.totalCount=4001&search.cafeId=10050146&search.page=72\n",
      "현재 페이지: 73     https://cafe.naver.com/ArticleList.nhn?search.clubid=10050146&search.menuid=334&userDisplay=50&search.boardtype=L&search.specialmenutype=&search.totalCount=4001&search.cafeId=10050146&search.page=73\n",
      "detail_page: 966488299, 966488188, 966487761, 966487664, 966486719, 966486368, 966485796, 966485625, 966484730, 966484214, 966484112, 966483653, 966483496, 966483275, 966483090, 966482900, 966482675, 966482616, 966482597, 966482154, 966482018, 966481505, 966481502, 966481425, 966481270, 966481212, 966481120, 966480831, 966480824, 966480685, 966480681, 966480660, 966480462, 966480213, 966480092, 966479987, 966479959, 966479866, 966479696, 966479652, 966479596, 966479563, 966479497, 966479454, 966479405, 966479394, 966479324, 966479312, 966479274, 966479268, \n",
      "현재 페이지: 73     https://cafe.naver.com/ArticleList.nhn?search.clubid=10050146&search.menuid=334&userDisplay=50&search.boardtype=L&search.specialmenutype=&search.totalCount=4001&search.cafeId=10050146&search.page=73\n",
      "현재 페이지: 74     https://cafe.naver.com/ArticleList.nhn?search.clubid=10050146&search.menuid=334&userDisplay=50&search.boardtype=L&search.specialmenutype=&search.totalCount=4001&search.cafeId=10050146&search.page=74\n",
      "detail_page: 966479274, 966479268, 966479222, 966479072, 966479020, 966478701, 966478624, 966478181, 966478176, 966478058, 966477709, 966477698, 966477649, 966477625, 966477613, 966477463, 966477425, 966477227, 966477173, 966477164, 966477157, 966477136, 966477088, 966477018, 966476976, 966476901, 966476880, 966476705, 966476399, 966476185, 966476038, 966476035, 966475835, 966475820, 966475665, 966475619, 966475602, 966475356, 966475298, 966475171, 966474563, 966474411, 966474359, 966474326, 966474264, 966474251, 966474090, 966473989, 966473974, 966473701, \n",
      "현재 페이지: 74     https://cafe.naver.com/ArticleList.nhn?search.clubid=10050146&search.menuid=334&userDisplay=50&search.boardtype=L&search.specialmenutype=&search.totalCount=4001&search.cafeId=10050146&search.page=74\n",
      "현재 페이지: 75     https://cafe.naver.com/ArticleList.nhn?search.clubid=10050146&search.menuid=334&userDisplay=50&search.boardtype=L&search.specialmenutype=&search.totalCount=4001&search.cafeId=10050146&search.page=75\n",
      "detail_page: 966473537, 966473496, 966473430, 966473388, 966473311, 966473306, 966473296, 966473168, 966473166, 966473134, 966472918, 966472783, 966472443, 966472366, 966472190, 966472122, 966472084, 966471905, 966471774, 966471657, 966471420, 966471361, 966471303, 966471238, 966470976, 966470958, 966470951, 966470685, 966470638, 966470535, 966470379, 966470357, 966470281, 966470150, 966470135, 966469961, 966469910, 966469812, 966469627, 966469551, 966469485, 966469385, 966469270, 966469132, 966469071, 966469029, 966469000, 966468981, 966468968, 966468922, \n",
      "현재 페이지: 75     https://cafe.naver.com/ArticleList.nhn?search.clubid=10050146&search.menuid=334&userDisplay=50&search.boardtype=L&search.specialmenutype=&search.totalCount=4001&search.cafeId=10050146&search.page=75\n",
      "현재 페이지: 76     https://cafe.naver.com/ArticleList.nhn?search.clubid=10050146&search.menuid=334&userDisplay=50&search.boardtype=L&search.specialmenutype=&search.totalCount=4001&search.cafeId=10050146&search.page=76\n",
      "detail_page: 966468742, 966468707, 966468576, 966468305, 966468170, 966468097, 966468001, 966467924, 966467789, 966467730, 966467471, 966467398, 966467373, 966467358, 966467258, 966467041, 966467026, 966466970, 966466938, 966466802, 966466784, 966466632, 966466408, 966466368, 966466317, 966465864, 966465842, 966465802, 966465659, 966465657, 966465639, 966465425, 966465402, 966465352, 966465312, 966465183, 966465155, 966465087, 966464935, 966464904, 966464837, 966464617, 966464288, 966464268, 966464263, 966464238, 966464195, 966464124, 966463810, 966463805, \n",
      "현재 페이지: 76     https://cafe.naver.com/ArticleList.nhn?search.clubid=10050146&search.menuid=334&userDisplay=50&search.boardtype=L&search.specialmenutype=&search.totalCount=4001&search.cafeId=10050146&search.page=76\n",
      "현재 페이지: 77     https://cafe.naver.com/ArticleList.nhn?search.clubid=10050146&search.menuid=334&userDisplay=50&search.boardtype=L&search.specialmenutype=&search.totalCount=4001&search.cafeId=10050146&search.page=77\n",
      "detail_page: 966463405, 966463326, 966463314, 966463233, 966463161, 966463002, 966462733, 966462700, 966462614, 966462190, 966462130, 966461944, 966461766, 966461424, 966461386, 966461230, 966461107, 966461069, 966461064, 966460868, 966460848, 966460653, 966460576, 966460564, 966460442, 966460244, 966460134, 966460003, 966459635, 966459467, 966459402, 966459360, 966459198, 966459134, 966458808, 966458617, 966458573, 966458477, 966458411, 966458269, 966458153, 966458077, 966457950, 966457903, 966457847, 966457807, 966457749, 966457597, 966457552, 966457235, \n",
      "현재 페이지: 77     https://cafe.naver.com/ArticleList.nhn?search.clubid=10050146&search.menuid=334&userDisplay=50&search.boardtype=L&search.specialmenutype=&search.totalCount=4001&search.cafeId=10050146&search.page=77\n",
      "현재 페이지: 78     https://cafe.naver.com/ArticleList.nhn?search.clubid=10050146&search.menuid=334&userDisplay=50&search.boardtype=L&search.specialmenutype=&search.totalCount=4001&search.cafeId=10050146&search.page=78\n",
      "detail_page: 966457181, 966457035, 966456973, 966456926, 966456505, 966456246, 966456085, 966456007, 966455990, 966455958, 966455947, 966455911, 966455885, 966455874, 966455819, 966455757, 966455732, 966455603, 966455494, 966455326, 966455294, 966455191, 966455186, 966455182, 966455067, 966454951, 966454872, 966454629, 966454404, 966454278, 966454270, 966454237, 966454196, 966454166, 966454107, 966454009, 966453602, 966453526, 966453502, 966453411, 966453382, 966453237, 966453171, 966453084, 966452900, 966452877, 966452805, 966452601, 966452530, 966452443, \n",
      "현재 페이지: 78     https://cafe.naver.com/ArticleList.nhn?search.clubid=10050146&search.menuid=334&userDisplay=50&search.boardtype=L&search.specialmenutype=&search.totalCount=4001&search.cafeId=10050146&search.page=78\n",
      "현재 페이지: 79     https://cafe.naver.com/ArticleList.nhn?search.clubid=10050146&search.menuid=334&userDisplay=50&search.boardtype=L&search.specialmenutype=&search.totalCount=4001&search.cafeId=10050146&search.page=79\n",
      "detail_page: 966452530, 966452443, 966452269, 966452253, 966451931, 966451831, 966451826, 966451732, 966451685, 966451341, 966451247, 966451169, 966450791, 966450745, 966450725, 966450581, 966450566, 966450545, 966450458, 966450451, 966450112, 966450089, 966450039, 966450037, 966449999, 966449985, 966449984, 966449821, 966449730, 966449428, 966449357, 966449154, 966449139, 966449003, 966448769, 966448760, 966448734, 966448413, 966448310, 966448293, 966448269, 966448090, 966447742, 966447629, 966447481, 966447464, 966447276, 966447004, 966446835, 966446769, \n",
      "현재 페이지: 79     https://cafe.naver.com/ArticleList.nhn?search.clubid=10050146&search.menuid=334&userDisplay=50&search.boardtype=L&search.specialmenutype=&search.totalCount=4001&search.cafeId=10050146&search.page=79\n",
      "현재 페이지: 80     https://cafe.naver.com/ArticleList.nhn?search.clubid=10050146&search.menuid=334&userDisplay=50&search.boardtype=L&search.specialmenutype=&search.totalCount=4001&search.cafeId=10050146&search.page=80\n",
      "detail_page: 966446769, 966446581, 966446196, 966446194, 966446054, 966445937, 966445934, 966445908, 966445840, 966445743, 966445708, 966445465, 966445316, 966445308, 966445127, 966445013, 966445002, 966444832, 966444564, 966444556, 966444407, 966444286, 966444219, 966443784, 966443780, 966443549, 966443536, 966443532, 966443214, 966443191, 966442773, 966442651, 966442561, 966442533, 966442521, 966442473, 966442054, 966441979, 966441778, 966441649, 966441573, 966441504, 966441335, 966441217, 966441214, 966441111, 966440992, 966440959, 966440917, 966440914, \n",
      "현재 페이지: 80     https://cafe.naver.com/ArticleList.nhn?search.clubid=10050146&search.menuid=334&userDisplay=50&search.boardtype=L&search.specialmenutype=&search.totalCount=4001&search.cafeId=10050146&search.page=80\n",
      "현재 페이지: 81     https://cafe.naver.com/ArticleList.nhn?search.clubid=10050146&search.menuid=334&userDisplay=50&search.boardtype=L&search.specialmenutype=&search.totalCount=4001&search.cafeId=10050146&search.page=81\n"
     ]
    },
    {
     "name": "stdout",
     "output_type": "stream",
     "text": [
      "detail_page: 966440917, 966440914, 966440779, 966440645, 966440486, 966440449, 966440332, 966440221, 966440132, 966440099, 966440091, 966440014, 966439637, 966439566, 966439499, 966439474, 966439400, 966439333, 966439238, 966438954, 966438839, 966438783, 966438773, 966438762, 966438616, 966438008, 966438000, 966437858, 966437656, 966437526, 966437433, 966437378, 966437289, 966437250, 966437191, 966437147, 966437067, 966437032, 966436635, 966436594, 966436332, 966436052, 966436044, 966435998, 966435754, 966435624, 966435575, 966435562, 966435482, 966435466, \n",
      "현재 페이지: 81     https://cafe.naver.com/ArticleList.nhn?search.clubid=10050146&search.menuid=334&userDisplay=50&search.boardtype=L&search.specialmenutype=&search.totalCount=4001&search.cafeId=10050146&search.page=81\n",
      "현재 페이지: 82     https://cafe.naver.com/ArticleList.nhn?search.clubid=10050146&search.menuid=334&userDisplay=50&search.boardtype=L&search.specialmenutype=&search.totalCount=4501&search.cafeId=10050146&search.page=82\n",
      "detail_page: 966435439, 966435071, 966434919, 966434872, 966434868, 966434824, 966434762, 966434683, 966434659, 966434510, 966434503, 966434487, 966434128, 966433847, 966433801, 966433527, 966433434, 966433367, 966433111, 966432988, 966432899, 966432592, 966432442, 966432435, 966432142, 966431872, 966431761, 966431674, 966431546, 966431259, 966431173, 966430695, 966430676, 966430649, 966430567, 966430359, 966430255, 966430140, 966429910, 966429854, 966429623, 966429109, 966429073, 966429072, 966428627, 966428114, 966427993, 966427967, 966427273, 966427258, \n",
      "현재 페이지: 82     https://cafe.naver.com/ArticleList.nhn?search.clubid=10050146&search.menuid=334&userDisplay=50&search.boardtype=L&search.specialmenutype=&search.totalCount=4501&search.cafeId=10050146&search.page=82\n",
      "현재 페이지: 83     https://cafe.naver.com/ArticleList.nhn?search.clubid=10050146&search.menuid=334&userDisplay=50&search.boardtype=L&search.specialmenutype=&search.totalCount=4501&search.cafeId=10050146&search.page=83\n",
      "detail_page: 966426638, 966426385, 966426305, 966426071, 966425604, 966425514, 966425359, 966425314, 966425135, 966425116, 966424950, 966424881, 966424867, 966424655, 966424531, 966424080, 966424023, 966423508, 966423415, 966423070, 966423005, 966422854, 966422479, 966422413, 966421527, 966421348, 966421171, 966420863, 966420846, 966420792, 966420450, 966420393, 966419830, 966419132, 966418929, 966418764, 966418153, 966418127, 966417808, 966417670, 966417542, 966417436, 966417390, 966417302, 966416988, 966416958, 966416741, 966416713, 966416559, 966416188, \n",
      "현재 페이지: 83     https://cafe.naver.com/ArticleList.nhn?search.clubid=10050146&search.menuid=334&userDisplay=50&search.boardtype=L&search.specialmenutype=&search.totalCount=4501&search.cafeId=10050146&search.page=83\n",
      "현재 페이지: 84     https://cafe.naver.com/ArticleList.nhn?search.clubid=10050146&search.menuid=334&userDisplay=50&search.boardtype=L&search.specialmenutype=&search.totalCount=4501&search.cafeId=10050146&search.page=84\n",
      "detail_page: 966416188, 966415982, 966415771, 966415642, 966415450, 966415391, 966415218, 966415145, 966415048, 966415023, 966415009, 966414966, 966414555, 966414398, 966414094, 966413939, 966413895, 966413311, 966412895, 966412834, 966412518, 966412469, 966412312, 966412063, 966411566, 966411154, 966411025, 966410981, 966410936, 966410600, 966410535, 966410491, 966410484, 966410328, 966409568, 966409276, 966409138, 966408992, 966408652, 966408504, 966408378, 966408285, 966407793, 966407634, 966407600, 966407554, 966407197, 966407137, 966407028, 966406932, \n",
      "현재 페이지: 84     https://cafe.naver.com/ArticleList.nhn?search.clubid=10050146&search.menuid=334&userDisplay=50&search.boardtype=L&search.specialmenutype=&search.totalCount=4501&search.cafeId=10050146&search.page=84\n",
      "현재 페이지: 85     https://cafe.naver.com/ArticleList.nhn?search.clubid=10050146&search.menuid=334&userDisplay=50&search.boardtype=L&search.specialmenutype=&search.totalCount=4501&search.cafeId=10050146&search.page=85\n",
      "detail_page: 966406932, 966406705, 966406687, 966406636, 966405801, 966405756, 966405743, 966405608, 966405567, 966405550, 966405463, 966405292, 966405024, 966404972, 966404835, 966404563, 966404374, 966404247, 966404225, 966404108, 966403994, 966403892, 966403721, 966403650, 966403491, 966403301, 966403098, 966403019, 966402852, 966402806, 966402458, 966402442, 966401952, 966401840, 966401777, 966400623, 966400539, 966400529, 966400491, 966400432, 966400362, 966400266, 966399675, 966399346, 966398872, 966398818, 966398680, 966398669, 966398445, 966397789, \n",
      "현재 페이지: 85     https://cafe.naver.com/ArticleList.nhn?search.clubid=10050146&search.menuid=334&userDisplay=50&search.boardtype=L&search.specialmenutype=&search.totalCount=4501&search.cafeId=10050146&search.page=85\n",
      "현재 페이지: 86     https://cafe.naver.com/ArticleList.nhn?search.clubid=10050146&search.menuid=334&userDisplay=50&search.boardtype=L&search.specialmenutype=&search.totalCount=4501&search.cafeId=10050146&search.page=86\n",
      "detail_page: 966397369, 966397039, 966396760, 966396703, 966396291, 966396080, 966396073, 966395891, 966395690, 966394498, 966394280, 966394210, 966393968, 966393892, 966393808, 966393782, 966393338, 966392893, 966392735, 966392660, 966392471, 966392462, 966392455, 966392271, 966392067, 966391890, 966391850, 966391781, 966391499, 966391470, 966391414, 966391350, 966391323, 966391237, 966391227, 966390838, 966390646, 966390582, 966390461, 966390446, 966390416, 966390074, 966389988, 966389761, 966389187, 966389107, 966388746, 966387894, 966387250, 966387206, \n",
      "현재 페이지: 86     https://cafe.naver.com/ArticleList.nhn?search.clubid=10050146&search.menuid=334&userDisplay=50&search.boardtype=L&search.specialmenutype=&search.totalCount=4501&search.cafeId=10050146&search.page=86\n",
      "현재 페이지: 87     https://cafe.naver.com/ArticleList.nhn?search.clubid=10050146&search.menuid=334&userDisplay=50&search.boardtype=L&search.specialmenutype=&search.totalCount=4501&search.cafeId=10050146&search.page=87\n",
      "detail_page: 966387250, 966387206, 966386999, 966386759, 966386611, 966386186, 966386069, 966385696, 966385667, 966385636, 966384969, 966384918, 966384744, 966384455, 966383909, 966383304, 966383219, 966383010, 966382951, 966382900, 966382843, 966382652, 966382490, 966382304, 966382113, 966381684, 966381635, 966381502, 966380543, 966380531, 966380494, 966380439, 966380315, 966380169, 966380156, 966379991, 966379903, 966379343, 966379310, 966379120, 966379087, 966379040, 966379021, 966378768, 966378739, 966378715, 966378569, 966378551, 966378547, 966378482, \n",
      "현재 페이지: 87     https://cafe.naver.com/ArticleList.nhn?search.clubid=10050146&search.menuid=334&userDisplay=50&search.boardtype=L&search.specialmenutype=&search.totalCount=4501&search.cafeId=10050146&search.page=87\n",
      "현재 페이지: 88     https://cafe.naver.com/ArticleList.nhn?search.clubid=10050146&search.menuid=334&userDisplay=50&search.boardtype=L&search.specialmenutype=&search.totalCount=4501&search.cafeId=10050146&search.page=88\n",
      "detail_page: 966377338, 966376202, 966376126, 966375855, 966375809, 966375789, 966375699, 966375680, 966375503, 966375441, 966375364, 966375354, 966375311, 966375246, 966375177, 966374221, 966374100, 966374094, 966373911, 966373884, 966373883, 966373812, 966373644, 966373395, 966373376, 966373227, 966372764, 966372645, 966372084, 966371667, 966371072, 966370816, 966370493, 966370390, 966370167, 966370129, 966369961, 966369781, 966369732, 966369257, 966369232, 966369160, 966369111, 966368457, 966368306, 966367521, 966367503, 966367370, 966366900, 966366531, \n",
      "현재 페이지: 88     https://cafe.naver.com/ArticleList.nhn?search.clubid=10050146&search.menuid=334&userDisplay=50&search.boardtype=L&search.specialmenutype=&search.totalCount=4501&search.cafeId=10050146&search.page=88\n",
      "현재 페이지: 89     https://cafe.naver.com/ArticleList.nhn?search.clubid=10050146&search.menuid=334&userDisplay=50&search.boardtype=L&search.specialmenutype=&search.totalCount=4501&search.cafeId=10050146&search.page=89\n",
      "detail_page: 966366531, 966366373, 966366324, 966366312, 966366231, 966366071, 966365875, 966365848, 966365742, 966365555, 966364840, 966364003, 966363982, 966363947, 966363871, 966363854, 966363614, 966363372, 966363039, 966363015, 966362995, 966362864, 966362841, 966362780, 966362393, 966362287, 966362082, 966362057, 966361987, 966361956, 966361887, 966361880, 966361385, 966361112, 966361086, 966361085, 966360844, 966360831, 966360795, 966360738, 966360024, 966359827, 966359781, 966359603, 966359378, 966359289, 966358591, 966358531, 966358349, 966357933, \n",
      "현재 페이지: 89     https://cafe.naver.com/ArticleList.nhn?search.clubid=10050146&search.menuid=334&userDisplay=50&search.boardtype=L&search.specialmenutype=&search.totalCount=4501&search.cafeId=10050146&search.page=89\n",
      "현재 페이지: 90     https://cafe.naver.com/ArticleList.nhn?search.clubid=10050146&search.menuid=334&userDisplay=50&search.boardtype=L&search.specialmenutype=&search.totalCount=4501&search.cafeId=10050146&search.page=90\n",
      "detail_page: 966357602, 966357472, 966357436, 966357289, 966357235, 966356404, 966356142, 966356009, 966355871, 966355708, 966355610, 966355597, 966355386, 966355325, 966354991, 966354956, 966354898, 966354869, 966354799, 966354457, 966354378, 966353945, 966353815, 966353788, 966353646, 966352699, 966352697, 966352600, 966352418, 966351275, 966351250, 966351184, 966351131, 966351009, 966350889, 966350765, 966350712, 966350505, 966350393, 966350250, 966350118, 966350000, 966349951, 966349759, 966349388, 966349167, 966349143, 966349131, 966349003, 966348992, \n",
      "현재 페이지: 90     https://cafe.naver.com/ArticleList.nhn?search.clubid=10050146&search.menuid=334&userDisplay=50&search.boardtype=L&search.specialmenutype=&search.totalCount=4501&search.cafeId=10050146&search.page=90\n",
      "현재 페이지: 91     https://cafe.naver.com/ArticleList.nhn?search.clubid=10050146&search.menuid=334&userDisplay=50&search.boardtype=L&search.specialmenutype=&search.totalCount=4501&search.cafeId=10050146&search.page=91\n",
      "detail_page: 966348702, 966348408, 966348301, 966347997, 966347741, 966347587, 966347304, 966347288, 966347080, 966346535, 966346293, 966346210, 966346157, 966346036, 966345967, 966345962, 966345623, 966345537, 966345396, 966345312, 966345103, 966345053, 966344970, 966344772, 966344764, 966344748, 966344642, 966344491, 966344146, 966344143, 966343987, 966343595, 966342774, 966342646, 966342556, 966342357, 966342219, 966342141, 966342117, 966342097, 966342000, 966341972, 966341790, 966341451, 966341314, 966341279, 966341239, 966340937, 966340873, 966340734, \n",
      "현재 페이지: 91     https://cafe.naver.com/ArticleList.nhn?search.clubid=10050146&search.menuid=334&userDisplay=50&search.boardtype=L&search.specialmenutype=&search.totalCount=4501&search.cafeId=10050146&search.page=91\n",
      "현재 페이지: 92     https://cafe.naver.com/ArticleList.nhn?search.clubid=10050146&search.menuid=334&userDisplay=50&search.boardtype=L&search.specialmenutype=&search.totalCount=5001&search.cafeId=10050146&search.page=92\n",
      "detail_page: 966340717, 966340665, 966340327, 966340154, 966339765, 966339415, 966339397, 966339330, 966339321, 966339035, 966338881, 966338863, 966338525, 966338385, 966338155, 966337824, 966337737, 966337676, 966337521, 966337406, 966337351, 966337315, 966337308, 966336864, 966336290, 966335561, 966334763, 966334693, 966334582, 966334454, 966334423, 966334350, 966334093, 966333537, 966333404, 966333346, 966333256, 966332912, 966332853, 966332526, 966332294, 966332263, 966332182, 966332121, 966331782, 966331620, 966331596, 966331536, 966331376, 966331141, \n",
      "현재 페이지: 92     https://cafe.naver.com/ArticleList.nhn?search.clubid=10050146&search.menuid=334&userDisplay=50&search.boardtype=L&search.specialmenutype=&search.totalCount=5001&search.cafeId=10050146&search.page=92\n",
      "현재 페이지: 93     https://cafe.naver.com/ArticleList.nhn?search.clubid=10050146&search.menuid=334&userDisplay=50&search.boardtype=L&search.specialmenutype=&search.totalCount=5001&search.cafeId=10050146&search.page=93\n",
      "detail_page: 966331058, 966331056, 966331014, 966330744, 966329774, 966329233, 966328757, 966328689, 966328428, 966328371, 966328262, 966327907, 966327824, 966326961, 966326873, 966326859, 966326813, 966326756, 966326548, 966326497, 966326460, 966326166, 966326056, 966325151, 966325135, 966324697, 966324489, 966324263, 966324232, 966324035, 966323700, 966323449, 966323397, 966323080, 966323025, 966322792, 966322233, 966322096, 966321292, 966321274, 966320866, 966320833, 966320380, 966320265, 966320070, 966320047, 966320021, 966319984, 966319979, 966319571, \n",
      "현재 페이지: 93     https://cafe.naver.com/ArticleList.nhn?search.clubid=10050146&search.menuid=334&userDisplay=50&search.boardtype=L&search.specialmenutype=&search.totalCount=5001&search.cafeId=10050146&search.page=93\n",
      "현재 페이지: 94     https://cafe.naver.com/ArticleList.nhn?search.clubid=10050146&search.menuid=334&userDisplay=50&search.boardtype=L&search.specialmenutype=&search.totalCount=5001&search.cafeId=10050146&search.page=94\n",
      "detail_page: 966319571, 966318796, 966318611, 966318260, 966318121, 966317437, 966316849, 966316723, 966316694, 966316670, 966315636, 966315551, 966315364, 966315271, 966314276, 966314123, 966313017, 966311384, 966311091, 966310280, 966310163, 966310096, 966309905, 966308827, 966308674, 966308585, 966308537, 966308499, 966307822, 966307592, 966307357, 966307079, 966306921, 966306525, 966306317, 966306312, 966306213, 966306008, 966305741, 966305635, 966305400, 966305231, 966305177, 966305173, 966303985, 966303877, 966303774, 966303629, 966303603, 966302992, \n",
      "현재 페이지: 94     https://cafe.naver.com/ArticleList.nhn?search.clubid=10050146&search.menuid=334&userDisplay=50&search.boardtype=L&search.specialmenutype=&search.totalCount=5001&search.cafeId=10050146&search.page=94\n",
      "현재 페이지: 95     https://cafe.naver.com/ArticleList.nhn?search.clubid=10050146&search.menuid=334&userDisplay=50&search.boardtype=L&search.specialmenutype=&search.totalCount=5001&search.cafeId=10050146&search.page=95\n",
      "detail_page: 966302992, 966302403, 966302210, 966302181, 966302061, 966301665, 966301611, 966301435, 966301138, 966301128, 966300836, 966300234, 966300031, 966299810, 966298921, 966298673, 966298545, 966298152, 966298073, 966297758, 966297695, 966297617, 966297506, 966296912, 966296872, 966296484, 966296366, 966295964, 966295633, 966295517, 966295149, 966295134, 966295126, 966295084, 966295063, 966295027, 966295021, 966294923, 966294803, 966294716, 966294708, 966294652, 966294567, 966294497, 966294486, 966294423, 966294266, 966294103, 966294021, 966294007, \n",
      "현재 페이지: 95     https://cafe.naver.com/ArticleList.nhn?search.clubid=10050146&search.menuid=334&userDisplay=50&search.boardtype=L&search.specialmenutype=&search.totalCount=5001&search.cafeId=10050146&search.page=95\n",
      "현재 페이지: 96     https://cafe.naver.com/ArticleList.nhn?search.clubid=10050146&search.menuid=334&userDisplay=50&search.boardtype=L&search.specialmenutype=&search.totalCount=5001&search.cafeId=10050146&search.page=96\n",
      "detail_page: 966294007, 966293943, 966293932, 966293366, 966293301, 966292650, 966292345, 966292305, 966292226, 966292168, 966291947, 966291937, 966291666, 966291077, 966290717, 966290681, 966290643, 966289838, 966289425, 966288990, 966288909, 966288825, 966288685, 966288501, 966287983, 966287868, 966287847, 966287841, 966287504, 966287413, 966287301, 966287278, 966287157, 966286924, 966286908, 966286838, 966286795, 966286553, 966286373, 966285992, 966285955, 966285770, 966285438, 966285396, 966285146, 966285010, 966284345, 966283599, 966283069, 966282936, \n",
      "현재 페이지: 96     https://cafe.naver.com/ArticleList.nhn?search.clubid=10050146&search.menuid=334&userDisplay=50&search.boardtype=L&search.specialmenutype=&search.totalCount=5001&search.cafeId=10050146&search.page=96\n",
      "현재 페이지: 97     https://cafe.naver.com/ArticleList.nhn?search.clubid=10050146&search.menuid=334&userDisplay=50&search.boardtype=L&search.specialmenutype=&search.totalCount=5001&search.cafeId=10050146&search.page=97\n"
     ]
    },
    {
     "name": "stdout",
     "output_type": "stream",
     "text": [
      "detail_page: 966282936, 966281773, 966281337, 966280857, 966280484, 966279755, 966279596, 966279571, 966279139, 966278943, 966278674, 966278617, 966278538, 966278431, 966278418, 966278377, 966278361, 966278340, 966278252, 966278171, 966278079, 966278060, 966278035, 966277885, 966277770, 966277766, 966277693, 966277653, 966276886, 966276704, 966276652, 966276638, 966276588, 966276562, 966276412, 966276352, 966276041, 966275819, 966275785, 966275756, 966275153, 966274876, 966274760, 966274757, 966274709, 966274655, 966274629, 966274612, 966274346, 966274336, \n",
      "현재 페이지: 97     https://cafe.naver.com/ArticleList.nhn?search.clubid=10050146&search.menuid=334&userDisplay=50&search.boardtype=L&search.specialmenutype=&search.totalCount=5001&search.cafeId=10050146&search.page=97\n",
      "현재 페이지: 98     https://cafe.naver.com/ArticleList.nhn?search.clubid=10050146&search.menuid=334&userDisplay=50&search.boardtype=L&search.specialmenutype=&search.totalCount=5001&search.cafeId=10050146&search.page=98\n",
      "detail_page: 966274310, 966274277, 966274220, 966274208, 966274143, 966274119, 966274117, 966274074, 966273784, 966273736, 966273682, 966273445, 966272966, 966272595, 966272568, 966272526, 966272522, 966272470, 966272251, 966272089, 966272081, 966272044, 966271431, 966271407, 966271378, 966271214, 966270823, 966270671, 966270444, 966270339, 966270247, 966270239, 966270198, 966269969, 966269841, 966269789, 966269554, 966269298, 966269119, 966268973, 966268953, 966267938, 966267843, 966267749, 966267651, 966267588, 966267549, 966267405, 966267289, 966267179, \n",
      "현재 페이지: 98     https://cafe.naver.com/ArticleList.nhn?search.clubid=10050146&search.menuid=334&userDisplay=50&search.boardtype=L&search.specialmenutype=&search.totalCount=5001&search.cafeId=10050146&search.page=98\n",
      "현재 페이지: 99     https://cafe.naver.com/ArticleList.nhn?search.clubid=10050146&search.menuid=334&userDisplay=50&search.boardtype=L&search.specialmenutype=&search.totalCount=5001&search.cafeId=10050146&search.page=99\n",
      "detail_page: 966267113, 966266926, 966266633, 966266445, 966266281, 966266210, 966266115, 966265806, 966265726, 966265683, 966265665, 966265644, 966265521, 966265463, 966265181, 966264991, 966264929, 966264898, 966264875, 966264639, 966264576, 966263827, 966263617, 966263610, 966263546, 966263406, 966263399, 966263358, 966263178, 966263113, 966263084, 966263033, 966262958, 966262778, 966262492, 966262486, 966262400, 966262399, 966262320, 966262214, 966262146, 966262015, 966261556, 966261448, 966260918, 966260900, 966260799, 966260786, 966260574, 966260449, \n",
      "현재 페이지: 99     https://cafe.naver.com/ArticleList.nhn?search.clubid=10050146&search.menuid=334&userDisplay=50&search.boardtype=L&search.specialmenutype=&search.totalCount=5001&search.cafeId=10050146&search.page=99\n",
      "현재 페이지: 100     https://cafe.naver.com/ArticleList.nhn?search.clubid=10050146&search.menuid=334&userDisplay=50&search.boardtype=L&search.specialmenutype=&search.totalCount=5001&search.cafeId=10050146&search.page=100\n",
      "detail_page: 966260449, 966260445, 966260336, 966260297, 966260026, 966259885, 966259878, 966259837, 966259693, 966259594, 966259585, 966259557, 966259550, 966259305, 966259203, 966258935, 966258817, 966258808, 966258671, 966258520, 966258086, 966258076, 966257897, 966257863, 966257355, 966257186, 966257138, 966257116, 966256900, 966256874, 966256764, 966256684, 966256324, 966256305, 966255839, 966255794, 966255530, 966255510, 966255306, 966255263, 966255248, 966255232, 966255089, 966255057, 966254791, 966254671, 966254425, 966254256, 966254249, 966254215, \n",
      "현재 페이지: 100     https://cafe.naver.com/ArticleList.nhn?search.clubid=10050146&search.menuid=334&userDisplay=50&search.boardtype=L&search.specialmenutype=&search.totalCount=5001&search.cafeId=10050146&search.page=100\n",
      "현재 페이지: 101     https://cafe.naver.com/ArticleList.nhn?search.clubid=10050146&search.menuid=334&userDisplay=50&search.boardtype=L&search.specialmenutype=&search.totalCount=5001&search.cafeId=10050146&search.page=101\n",
      "detail_page: 966254249, 966254215, 966254124, 966253887, 966253858, 966253809, 966253647, 966253577, 966253541, 966252997, 966252878, 966252652, 966252560, 966252500, 966252457, 966252350, 966252141, 966252135, 966251841, 966251593, 966251504, 966251482, 966251381, 966251212, 966251204, 966250937, 966250693, 966250197, 966250095, 966249863, 966249819, 966249720, 966249710, 966249579, 966249539, 966249521, 966249442, 966249028, 966249012, 966248821, 966248802, 966248563, 966248506, 966248336, 966248287, 966248160, 966247476, 966247338, 966247045, 966246899, \n",
      "현재 페이지: 101     https://cafe.naver.com/ArticleList.nhn?search.clubid=10050146&search.menuid=334&userDisplay=50&search.boardtype=L&search.specialmenutype=&search.totalCount=5001&search.cafeId=10050146&search.page=101\n",
      "현재 페이지: 102     https://cafe.naver.com/ArticleList.nhn?search.clubid=10050146&search.menuid=334&userDisplay=50&search.boardtype=L&search.specialmenutype=&search.totalCount=5501&search.cafeId=10050146&search.page=102\n",
      "detail_page: 966247338, 966247045, 966246899, 966246721, 966246719, 966246691, 966246627, 966246327, 966246263, 966246259, 966246221, 966246160, 966245971, 966245909, 966245845, 966245618, 966245596, 966245180, 966245058, 966244803, 966244796, 966244272, 966244138, 966244062, 966244009, 966243933, 966243663, 966243530, 966243358, 966243239, 966243076, 966243003, 966242956, 966242859, 966242401, 966241659, 966241607, 966241550, 966241418, 966241367, 966241172, 966241087, 966240809, 966240743, 966240595, 966240593, 966240060, 966239749, 966239489, 966239427, \n",
      "현재 페이지: 102     https://cafe.naver.com/ArticleList.nhn?search.clubid=10050146&search.menuid=334&userDisplay=50&search.boardtype=L&search.specialmenutype=&search.totalCount=5501&search.cafeId=10050146&search.page=102\n",
      "현재 페이지: 103     https://cafe.naver.com/ArticleList.nhn?search.clubid=10050146&search.menuid=334&userDisplay=50&search.boardtype=L&search.specialmenutype=&search.totalCount=5501&search.cafeId=10050146&search.page=103\n",
      "detail_page: 966238612, 966238509, 966238399, 966238083, 966238071, 966237689, 966237673, 966237667, 966237587, 966237362, 966237156, 966236941, 966236775, 966236628, 966236436, 966236292, 966236124, 966235835, 966235637, 966235616, 966235572, 966235409, 966235303, 966234594, 966233958, 966233848, 966233836, 966233659, 966233508, 966233377, 966233027, 966232929, 966232840, 966232524, 966232424, 966232421, 966232233, 966232166, 966232121, 966231897, 966231830, 966231216, 966231141, 966231103, 966231066, 966230912, 966230886, 966230817, 966230428, 966230334, \n",
      "현재 페이지: 103     https://cafe.naver.com/ArticleList.nhn?search.clubid=10050146&search.menuid=334&userDisplay=50&search.boardtype=L&search.specialmenutype=&search.totalCount=5501&search.cafeId=10050146&search.page=103\n",
      "현재 페이지: 104     https://cafe.naver.com/ArticleList.nhn?search.clubid=10050146&search.menuid=334&userDisplay=50&search.boardtype=L&search.specialmenutype=&search.totalCount=5501&search.cafeId=10050146&search.page=104\n",
      "detail_page: 966230817, 966230428, 966230334, 966230323, 966230243, 966230018, 966229781, 966229535, 966229082, 966229030, 966228790, 966228770, 966228716, 966228134, 966228058, 966228019, 966227566, 966227549, 966227186, 966226783, 966226742, 966226168, 966226018, 966225937, 966225918, 966225776, 966225748, 966225568, 966225406, 966225043, 966225018, 966224929, 966224532, 966224301, 966224135, 966223926, 966223657, 966223572, 966222698, 966222465, 966222099, 966222041, 966222036, 966221602, 966221463, 966220914, 966220645, 966219738, 966219703, 966219558, \n",
      "현재 페이지: 104     https://cafe.naver.com/ArticleList.nhn?search.clubid=10050146&search.menuid=334&userDisplay=50&search.boardtype=L&search.specialmenutype=&search.totalCount=5501&search.cafeId=10050146&search.page=104\n",
      "현재 페이지: 105     https://cafe.naver.com/ArticleList.nhn?search.clubid=10050146&search.menuid=334&userDisplay=50&search.boardtype=L&search.specialmenutype=&search.totalCount=5501&search.cafeId=10050146&search.page=105\n",
      "detail_page: 966219738, 966219703, 966219558, 966219383, 966218928, 966218354, 966218030, 966217989, 966217479, 966217268, 966217115, 966217084, 966216449, 966216109, 966216032, 966215889, 966215635, 966215404, 966215031, 966214303, 966214217, 966214023, 966213919, 966213878, 966213819, 966213692, 966213390, 966213209, 966212935, 966212736, 966212563, 966212126, 966212124, 966211999, 966211775, 966211440, 966211195, 966211145, 966211063, 966210655, 966210598, 966210390, 966210367, 966210027, 966209946, 966209790, 966208855, 966208693, 966208480, 966208169, \n",
      "현재 페이지: 105     https://cafe.naver.com/ArticleList.nhn?search.clubid=10050146&search.menuid=334&userDisplay=50&search.boardtype=L&search.specialmenutype=&search.totalCount=5501&search.cafeId=10050146&search.page=105\n",
      "현재 페이지: 106     https://cafe.naver.com/ArticleList.nhn?search.clubid=10050146&search.menuid=334&userDisplay=50&search.boardtype=L&search.specialmenutype=&search.totalCount=5501&search.cafeId=10050146&search.page=106\n",
      "detail_page: 966206496, 966205981, 966205546, 966205438, 966204883, 966204846, 966203710, 966203603, 966203423, 966203360, 966203328, 966203279, 966203188, 966202580, 966202403, 966202287, 966202184, 966202126, 966201781, 966201733, 966201691, 966201364, 966201234, 966201224, 966200801, 966200452, 966200433, 966200372, 966200338, 966200336, 966200079, 966199689, 966199633, 966199628, 966199529, 966199494, 966199430, 966199396, 966199313, 966199269, 966198816, 966198647, 966198207, 966198190, 966198033, 966198029, 966197683, 966197612, 966197527, 966197298, \n",
      "현재 페이지: 106     https://cafe.naver.com/ArticleList.nhn?search.clubid=10050146&search.menuid=334&userDisplay=50&search.boardtype=L&search.specialmenutype=&search.totalCount=5501&search.cafeId=10050146&search.page=106\n",
      "현재 페이지: 107     https://cafe.naver.com/ArticleList.nhn?search.clubid=10050146&search.menuid=334&userDisplay=50&search.boardtype=L&search.specialmenutype=&search.totalCount=5501&search.cafeId=10050146&search.page=107\n",
      "detail_page: 966197298, 966196039, 966195879, 966195787, 966195741, 966195473, 966194914, 966194181, 966194142, 966194074, 966193776, 966193748, 966193609, 966193433, 966193269, 966192540, 966192505, 966191948, 966191683, 966191681, 966191534, 966191482, 966190528, 966190377, 966189389, 966189209, 966189054, 966188994, 966188768, 966188628, 966188603, 966188595, 966188480, 966188432, 966188425, 966188178, 966188150, 966188143, 966188013, 966187835, 966187743, 966187658, 966187502, 966187233, 966186556, 966186483, 966186455, 966186000, 966185970, 966185954, \n",
      "현재 페이지: 107     https://cafe.naver.com/ArticleList.nhn?search.clubid=10050146&search.menuid=334&userDisplay=50&search.boardtype=L&search.specialmenutype=&search.totalCount=5501&search.cafeId=10050146&search.page=107\n",
      "현재 페이지: 108     https://cafe.naver.com/ArticleList.nhn?search.clubid=10050146&search.menuid=334&userDisplay=50&search.boardtype=L&search.specialmenutype=&search.totalCount=5501&search.cafeId=10050146&search.page=108\n",
      "detail_page: 966185954, 966185607, 966185348, 966185268, 966184770, 966184758, 966184604, 966184456, 966184356, 966184272, 966184092, 966183554, 966182766, 966182645, 966182542, 966182445, 966182296, 966182290, 966181774, 966181375, 966181360, 966181294, 966181188, 966180951, 966180851, 966180422, 966179869, 966179835, 966179754, 966179618, 966179512, 966179488, 966179393, 966179374, 966179325, 966179186, 966179072, 966179056, 966178210, 966178173, 966177947, 966177901, 966177195, 966177118, 966176951, 966176807, 966176706, 966176620, 966176617, 966176513, \n",
      "현재 페이지: 108     https://cafe.naver.com/ArticleList.nhn?search.clubid=10050146&search.menuid=334&userDisplay=50&search.boardtype=L&search.specialmenutype=&search.totalCount=5501&search.cafeId=10050146&search.page=108\n",
      "현재 페이지: 109     https://cafe.naver.com/ArticleList.nhn?search.clubid=10050146&search.menuid=334&userDisplay=50&search.boardtype=L&search.specialmenutype=&search.totalCount=5501&search.cafeId=10050146&search.page=109\n",
      "detail_page: 966176513, 966176452, 966176321, 966176318, 966176285, 966176275, 966176253, 966176216, 966175914, 966175890, 966175868, 966175865, 966175825, 966175747, 966175621, 966175537, 966175469, 966175426, 966175130, 966175004, 966174985, 966174282, 966174231, 966173889, 966173730, 966173509, 966173353, 966173225, 966173074, 966172830, 966172481, 966171876, 966171550, 966171090, 966170754, 966170688, 966170684, 966170572, 966170547, 966170398, 966169597, 966169588, 966169397, 966169332, 966168530, 966168529, 966168306, 966168197, 966167953, 966167866, \n",
      "현재 페이지: 109     https://cafe.naver.com/ArticleList.nhn?search.clubid=10050146&search.menuid=334&userDisplay=50&search.boardtype=L&search.specialmenutype=&search.totalCount=5501&search.cafeId=10050146&search.page=109\n",
      "현재 페이지: 110     https://cafe.naver.com/ArticleList.nhn?search.clubid=10050146&search.menuid=334&userDisplay=50&search.boardtype=L&search.specialmenutype=&search.totalCount=5501&search.cafeId=10050146&search.page=110\n",
      "detail_page: 966167611, 966167246, 966167212, 966167055, 966166752, 966166159, 966166041, 966165809, 966165631, 966165585, 966165383, 966165354, 966165343, 966165185, 966164950, 966164859, 966164530, 966164387, 966163984, 966163819, 966163788, 966163488, 966163471, 966163367, 966162980, 966162826, 966162610, 966162420, 966162273, 966162034, 966162024, 966161994, 966161958, 966161601, 966161356, 966161341, 966160402, 966160254, 966160210, 966160201, 966159934, 966159882, 966159579, 966159428, 966159310, 966158940, 966158909, 966158827, 966158800, 966158618, \n",
      "현재 페이지: 110     https://cafe.naver.com/ArticleList.nhn?search.clubid=10050146&search.menuid=334&userDisplay=50&search.boardtype=L&search.specialmenutype=&search.totalCount=5501&search.cafeId=10050146&search.page=110\n",
      "현재 페이지: 111     https://cafe.naver.com/ArticleList.nhn?search.clubid=10050146&search.menuid=334&userDisplay=50&search.boardtype=L&search.specialmenutype=&search.totalCount=5501&search.cafeId=10050146&search.page=111\n",
      "detail_page: 966158800, 966158618, 966158532, 966158288, 966158017, 966157650, 966157407, 966157173, 966157006, 966156956, 966156571, 966156322, 966156214, 966155966, 966155835, 966155274, 966155259, 966155197, 966155076, 966154906, 966154861, 966154772, 966154365, 966154083, 966154068, 966153740, 966153738, 966153688, 966153597, 966153541, 966153421, 966153340, 966153250, 966152832, 966152816, 966152599, 966152438, 966152231, 966151628, 966151459, 966151359, 966150961, 966150805, 966150325, 966150228, 966150144, 966149997, 966149979, 966148429, 966148133, \n",
      "현재 페이지: 111     https://cafe.naver.com/ArticleList.nhn?search.clubid=10050146&search.menuid=334&userDisplay=50&search.boardtype=L&search.specialmenutype=&search.totalCount=5501&search.cafeId=10050146&search.page=111\n",
      "현재 페이지: 112     https://cafe.naver.com/ArticleList.nhn?search.clubid=10050146&search.menuid=334&userDisplay=50&search.boardtype=L&search.specialmenutype=&search.totalCount=6001&search.cafeId=10050146&search.page=112\n",
      "detail_page: 966148133, 966147962, 966147224, 966146972, 966146802, 966146728, 966146645, 966146236, 966146194, 966145976, 966145768, 966145550, 966145415, 966145242, 966144889, 966144850, 966144727, 966144676, 966144659, 966144248, 966143484, 966143439, 966143327, 966142889, 966142680, 966142471, 966141546, 966141539, 966141215, 966140972, 966140937, 966140853, 966140593, 966140034, 966139962, 966139960, 966139879, 966139823, 966139723, 966139645, 966139378, 966139310, 966139120, 966138844, 966138765, 966138683, 966138663, 966138501, 966138422, 966138313, \n",
      "현재 페이지: 112     https://cafe.naver.com/ArticleList.nhn?search.clubid=10050146&search.menuid=334&userDisplay=50&search.boardtype=L&search.specialmenutype=&search.totalCount=6001&search.cafeId=10050146&search.page=112\n",
      "현재 페이지: 113     https://cafe.naver.com/ArticleList.nhn?search.clubid=10050146&search.menuid=334&userDisplay=50&search.boardtype=L&search.specialmenutype=&search.totalCount=6001&search.cafeId=10050146&search.page=113\n"
     ]
    },
    {
     "name": "stdout",
     "output_type": "stream",
     "text": [
      "detail_page: 966138313, 966138142, 966137856, 966137698, 966137550, 966137530, 966137280, 966137212, 966137175, 966137159, 966137145, 966137049, 966136698, 966136541, 966136261, 966135788, 966135739, 966135660, 966135372, 966135068, 966134810, 966134805, 966134273, 966133766, 966133486, 966133408, 966133334, 966133091, 966132882, 966132284, 966132177, 966132098, 966132058, 966131995, 966131762, 966131561, 966131321, 966131279, 966131220, 966130972, 966130763, 966130638, 966130606, 966130554, 966130445, 966130419, 966130314, 966129674, 966129304, 966129066, \n",
      "현재 페이지: 113     https://cafe.naver.com/ArticleList.nhn?search.clubid=10050146&search.menuid=334&userDisplay=50&search.boardtype=L&search.specialmenutype=&search.totalCount=6001&search.cafeId=10050146&search.page=113\n",
      "현재 페이지: 114     https://cafe.naver.com/ArticleList.nhn?search.clubid=10050146&search.menuid=334&userDisplay=50&search.boardtype=L&search.specialmenutype=&search.totalCount=6001&search.cafeId=10050146&search.page=114\n",
      "detail_page: 966128699, 966128641, 966128479, 966128440, 966128410, 966128282, 966127959, 966127456, 966127438, 966127165, 966126953, 966126922, 966126474, 966126024, 966125851, 966125528, 966125372, 966125243, 966125234, 966125071, 966125040, 966124922, 966124496, 966124443, 966124127, 966123361, 966123307, 966122965, 966122246, 966122161, 966122041, 966121864, 966121472, 966121070, 966120997, 966120942, 966120772, 966120698, 966120492, 966120249, 966120247, 966120237, 966120232, 966119806, 966119550, 966119532, 966119482, 966119342, 966119337, 966119154, \n",
      "현재 페이지: 114     https://cafe.naver.com/ArticleList.nhn?search.clubid=10050146&search.menuid=334&userDisplay=50&search.boardtype=L&search.specialmenutype=&search.totalCount=6001&search.cafeId=10050146&search.page=114\n",
      "현재 페이지: 115     https://cafe.naver.com/ArticleList.nhn?search.clubid=10050146&search.menuid=334&userDisplay=50&search.boardtype=L&search.specialmenutype=&search.totalCount=6001&search.cafeId=10050146&search.page=115\n",
      "detail_page: 966119154, 966118648, 966118618, 966117440, 966117272, 966117251, 966117106, 966116616, 966116499, 966116406, 966116051, 966115726, 966115685, 966115512, 966115481, 966115052, 966115047, 966114663, 966114611, 966114547, 966114438, 966114323, 966114102, 966113850, 966113813, 966113651, 966113560, 966113057, 966112996, 966112823, 966112736, 966112536, 966112430, 966112394, 966112081, 966111974, 966111966, 966111913, 966111428, 966111419, 966111329, 966111038, 966110966, 966109995, 966109481, 966109242, 966108671, 966108574, 966108484, 966108323, \n",
      "현재 페이지: 115     https://cafe.naver.com/ArticleList.nhn?search.clubid=10050146&search.menuid=334&userDisplay=50&search.boardtype=L&search.specialmenutype=&search.totalCount=6001&search.cafeId=10050146&search.page=115\n",
      "현재 페이지: 116     https://cafe.naver.com/ArticleList.nhn?search.clubid=10050146&search.menuid=334&userDisplay=50&search.boardtype=L&search.specialmenutype=&search.totalCount=6001&search.cafeId=10050146&search.page=116\n",
      "detail_page: 966107656, 966107401, 966107306, 966107254, 966107137, 966107030, 966106998, 966106942, 966106505, 966106414, 966105851, 966105389, 966104985, 966104919, 966104671, 966104215, 966103338, 966103006, 966102849, 966102805, 966101908, 966101852, 966101314, 966099654, 966098676, 966098520, 966098312, 966098304, 966097711, 966097178, 966096729, 966096381, 966095273, 966094935, 966094555, 966094430, 966094292, 966094187, 966093305, 966093007, 966093006, 966091904, 966091830, 966091818, 966091566, 966091395, 966090789, 966090125, 966089971, 966089536, \n",
      "현재 페이지: 116     https://cafe.naver.com/ArticleList.nhn?search.clubid=10050146&search.menuid=334&userDisplay=50&search.boardtype=L&search.specialmenutype=&search.totalCount=6001&search.cafeId=10050146&search.page=116\n",
      "현재 페이지: 117     https://cafe.naver.com/ArticleList.nhn?search.clubid=10050146&search.menuid=334&userDisplay=50&search.boardtype=L&search.specialmenutype=&search.totalCount=6001&search.cafeId=10050146&search.page=117\n",
      "detail_page: 966089971, 966089536, 966089302, 966088653, 966088651, 966088510, 966088449, 966087879, 966087458, 966087447, 966087316, 966087257, 966087045, 966087018, 966086714, 966086639, 966086241, 966086073, 966085683, 966085664, 966085390, 966085311, 966085193, 966084681, 966084298, 966084279, 966084159, 966083752, 966083561, 966083555, 966083130, 966083123, 966082991, 966081909, 966081758, 966081745, 966081703, 966081330, 966080882, 966080838, 966080819, 966080498, 966080222, 966080216, 966080107, 966079726, 966079531, 966079434, 966078930, 966078857, \n",
      "현재 페이지: 117     https://cafe.naver.com/ArticleList.nhn?search.clubid=10050146&search.menuid=334&userDisplay=50&search.boardtype=L&search.specialmenutype=&search.totalCount=6001&search.cafeId=10050146&search.page=117\n",
      "현재 페이지: 118     https://cafe.naver.com/ArticleList.nhn?search.clubid=10050146&search.menuid=334&userDisplay=50&search.boardtype=L&search.specialmenutype=&search.totalCount=6001&search.cafeId=10050146&search.page=118\n",
      "detail_page: 966078164, 966078010, 966076953, 966076624, 966076614, 966076577, 966075609, 966075583, 966075515, 966075460, 966075436, 966075154, 966074658, 966074616, 966074536, 966074365, 966074295, 966074112, 966074103, 966074028, 966073811, 966073766, 966073759, 966073753, 966073709, 966073699, 966073606, 966073091, 966072973, 966072951, 966072925, 966072893, 966072780, 966072657, 966072470, 966072330, 966072127, 966071892, 966071858, 966071805, 966071756, 966071634, 966071395, 966071268, 966071024, 966070821, 966070793, 966070769, 966070709, 966070509, \n",
      "현재 페이지: 118     https://cafe.naver.com/ArticleList.nhn?search.clubid=10050146&search.menuid=334&userDisplay=50&search.boardtype=L&search.specialmenutype=&search.totalCount=6001&search.cafeId=10050146&search.page=118\n",
      "현재 페이지: 119     https://cafe.naver.com/ArticleList.nhn?search.clubid=10050146&search.menuid=334&userDisplay=50&search.boardtype=L&search.specialmenutype=&search.totalCount=6001&search.cafeId=10050146&search.page=119\n",
      "detail_page: 966070442, 966070085, 966069994, 966069765, 966069752, 966069748, 966068952, 966068948, 966068771, 966068608, 966068578, 966068299, 966068107, 966068048, 966067890, 966067841, 966067586, 966067455, 966067442, 966067256, 966066418, 966066278, 966066186, 966066009, 966065987, 966065826, 966065632, 966065553, 966065327, 966065282, 966065156, 966065027, 966065005, 966064534, 966064459, 966064402, 966064303, 966064279, 966064125, 966064009, 966063985, 966063951, 966063915, 966063842, 966063778, 966063712, 966063644, 966063631, 966063312, 966063265, \n",
      "현재 페이지: 119     https://cafe.naver.com/ArticleList.nhn?search.clubid=10050146&search.menuid=334&userDisplay=50&search.boardtype=L&search.specialmenutype=&search.totalCount=6001&search.cafeId=10050146&search.page=119\n",
      "현재 페이지: 120     https://cafe.naver.com/ArticleList.nhn?search.clubid=10050146&search.menuid=334&userDisplay=50&search.boardtype=L&search.specialmenutype=&search.totalCount=6001&search.cafeId=10050146&search.page=120\n",
      "detail_page: 966062958, 966062898, 966062845, 966062762, 966062596, 966062340, 966062329, 966062268, 966061966, 966061883, 966061618, 966061464, 966061148, 966061126, 966061084, 966060977, 966060921, 966060836, 966060822, 966060145, 966059760, 966059701, 966059620, 966059423, 966059153, 966058905, 966058637, 966058545, 966058450, 966058289, 966058186, 966057898, 966057817, 966057650, 966057571, 966057494, 966057391, 966057312, 966057092, 966056926, 966056782, 966056558, 966056065, 966056048, 966055472, 966055337, 966055265, 966055168, 966055153, 966055139, \n",
      "현재 페이지: 120     https://cafe.naver.com/ArticleList.nhn?search.clubid=10050146&search.menuid=334&userDisplay=50&search.boardtype=L&search.specialmenutype=&search.totalCount=6001&search.cafeId=10050146&search.page=120\n",
      "현재 페이지: 121     https://cafe.naver.com/ArticleList.nhn?search.clubid=10050146&search.menuid=334&userDisplay=50&search.boardtype=L&search.specialmenutype=&search.totalCount=6001&search.cafeId=10050146&search.page=121\n",
      "detail_page: 966055168, 966055153, 966055139, 966054976, 966054688, 966054617, 966054574, 966054525, 966054494, 966054442, 966054434, 966054154, 966054113, 966053942, 966053938, 966053932, 966053899, 966053691, 966053550, 966053373, 966053131, 966052789, 966052587, 966052504, 966052434, 966052173, 966052017, 966051761, 966051727, 966051381, 966051167, 966050639, 966050608, 966050415, 966050334, 966050321, 966050280, 966050002, 966049745, 966049014, 966048834, 966048563, 966048558, 966048464, 966048442, 966047572, 966047324, 966047287, 966047211, 966047004, \n",
      "현재 페이지: 121     https://cafe.naver.com/ArticleList.nhn?search.clubid=10050146&search.menuid=334&userDisplay=50&search.boardtype=L&search.specialmenutype=&search.totalCount=6001&search.cafeId=10050146&search.page=121\n",
      "현재 페이지: 122     https://cafe.naver.com/ArticleList.nhn?search.clubid=10050146&search.menuid=334&userDisplay=50&search.boardtype=L&search.specialmenutype=&search.totalCount=6501&search.cafeId=10050146&search.page=122\n",
      "detail_page: 966047000, 966046773, 966046725, 966046351, 966046295, 966045984, 966045924, 966045827, 966045590, 966045576, 966045376, 966044903, 966044770, 966044691, 966044537, 966044516, 966044417, 966044320, 966044275, 966044255, 966044234, 966044103, 966044094, 966044056, 966044031, 966043598, 966043592, 966043475, 966043410, 966043290, 966043034, 966042965, 966042915, 966042745, 966042518, 966042433, 966042170, 966041917, 966041699, 966041686, 966041607, 966041605, 966041059, 966040752, 966040648, 966040518, 966040370, 966040315, 966040236, 966040228, \n",
      "현재 페이지: 122     https://cafe.naver.com/ArticleList.nhn?search.clubid=10050146&search.menuid=334&userDisplay=50&search.boardtype=L&search.specialmenutype=&search.totalCount=6501&search.cafeId=10050146&search.page=122\n",
      "현재 페이지: 123     https://cafe.naver.com/ArticleList.nhn?search.clubid=10050146&search.menuid=334&userDisplay=50&search.boardtype=L&search.specialmenutype=&search.totalCount=6501&search.cafeId=10050146&search.page=123\n",
      "detail_page: 966040228, 966039929, 966039920, 966039889, 966038939, 966038920, 966038858, 966038807, 966038619, 966038328, 966038324, 966038291, 966037803, 966037680, 966037606, 966037428, 966037382, 966037285, 966036653, 966036640, 966036482, 966036299, 966036263, 966036256, 966035993, 966035891, 966035417, 966035198, 966035196, 966035119, 966035109, 966034841, 966034824, 966034643, 966034634, 966034444, 966034346, 966034326, 966033784, 966033772, 966033562, 966033462, 966033424, 966033327, 966033142, 966033116, 966032763, 966032667, 966032526, 966032502, \n",
      "현재 페이지: 123     https://cafe.naver.com/ArticleList.nhn?search.clubid=10050146&search.menuid=334&userDisplay=50&search.boardtype=L&search.specialmenutype=&search.totalCount=6501&search.cafeId=10050146&search.page=123\n",
      "현재 페이지: 124     https://cafe.naver.com/ArticleList.nhn?search.clubid=10050146&search.menuid=334&userDisplay=50&search.boardtype=L&search.specialmenutype=&search.totalCount=6501&search.cafeId=10050146&search.page=124\n",
      "detail_page: 966032278, 966032125, 966032060, 966032052, 966031869, 966031477, 966031262, 966031092, 966030963, 966030907, 966030868, 966030837, 966030812, 966030442, 966030300, 966030258, 966029950, 966029929, 966029877, 966029334, 966029260, 966029245, 966029039, 966028929, 966028593, 966028455, 966028286, 966028158, 966028152, 966028050, 966028040, 966027736, 966027724, 966027540, 966027347, 966027305, 966027226, 966027156, 966027059, 966026757, 966026749, 966026740, 966026040, 966025431, 966025155, 966025089, 966024772, 966024587, 966024234, 966023934, \n",
      "현재 페이지: 124     https://cafe.naver.com/ArticleList.nhn?search.clubid=10050146&search.menuid=334&userDisplay=50&search.boardtype=L&search.specialmenutype=&search.totalCount=6501&search.cafeId=10050146&search.page=124\n",
      "현재 페이지: 125     https://cafe.naver.com/ArticleList.nhn?search.clubid=10050146&search.menuid=334&userDisplay=50&search.boardtype=L&search.specialmenutype=&search.totalCount=6501&search.cafeId=10050146&search.page=125\n",
      "detail_page: 966023897, 966023623, 966023244, 966023222, 966023162, 966022956, 966022850, 966022807, 966022693, 966022112, 966022048, 966022030, 966022026, 966021817, 966021707, 966021429, 966020472, 966020423, 966020185, 966019953, 966019801, 966019774, 966019448, 966019402, 966018927, 966018614, 966018136, 966018008, 966017492, 966017168, 966017118, 966017078, 966016735, 966016703, 966016678, 966016342, 966015121, 966015111, 966015102, 966014920, 966014703, 966014584, 966014498, 966014476, 966014312, 966014160, 966013976, 966013944, 966013889, 966013591, \n",
      "현재 페이지: 125     https://cafe.naver.com/ArticleList.nhn?search.clubid=10050146&search.menuid=334&userDisplay=50&search.boardtype=L&search.specialmenutype=&search.totalCount=6501&search.cafeId=10050146&search.page=125\n",
      "현재 페이지: 126     https://cafe.naver.com/ArticleList.nhn?search.clubid=10050146&search.menuid=334&userDisplay=50&search.boardtype=L&search.specialmenutype=&search.totalCount=6501&search.cafeId=10050146&search.page=126\n",
      "detail_page: 966013519, 966013139, 966012934, 966012918, 966012724, 966012676, 966012588, 966012390, 966012344, 966011695, 966011638, 966010952, 966009949, 966009904, 966009780, 966009596, 966009534, 966009488, 966009120, 966008880, 966008768, 966008722, 966008591, 966008345, 966008278, 966007962, 966007919, 966007860, 966007663, 966007301, 966007039, 966006872, 966006757, 966006457, 966006079, 966005297, 966005272, 966005261, 966005121, 966004600, 966004355, 966004100, 966004071, 966004063, 966003698, 966003515, 966003507, 966003402, 966002414, 966002263, \n",
      "현재 페이지: 126     https://cafe.naver.com/ArticleList.nhn?search.clubid=10050146&search.menuid=334&userDisplay=50&search.boardtype=L&search.specialmenutype=&search.totalCount=6501&search.cafeId=10050146&search.page=126\n",
      "현재 페이지: 127     https://cafe.naver.com/ArticleList.nhn?search.clubid=10050146&search.menuid=334&userDisplay=50&search.boardtype=L&search.specialmenutype=&search.totalCount=6501&search.cafeId=10050146&search.page=127\n",
      "detail_page: 966002263, 966002076, 966002010, 966001972, 966001787, 966001558, 966001495, 966001307, 966001210, 966000859, 966000798, 966000629, 965999995, 965999885, 965999765, 965999711, 965999074, 965998968, 965998653, 965998311, 965998232, 965998151, 965998080, 965998075, 965998050, 965998049, 965997980, 965997946, 965997913, 965997852, 965997748, 965997706, 965997563, 965997196, 965997119, 965997029, 965996944, 965996903, 965996435, 965996265, 965996136, 965996023, 965995978, 965995965, 965995661, 965995537, 965995105, 965994935, 965994930, 965994830, \n",
      "현재 페이지: 127     https://cafe.naver.com/ArticleList.nhn?search.clubid=10050146&search.menuid=334&userDisplay=50&search.boardtype=L&search.specialmenutype=&search.totalCount=6501&search.cafeId=10050146&search.page=127\n",
      "현재 페이지: 128     https://cafe.naver.com/ArticleList.nhn?search.clubid=10050146&search.menuid=334&userDisplay=50&search.boardtype=L&search.specialmenutype=&search.totalCount=6501&search.cafeId=10050146&search.page=128\n",
      "detail_page: 965994830, 965994659, 965994636, 965994330, 965994320, 965994237, 965994007, 965993656, 965993582, 965993564, 965993421, 965993346, 965993317, 965993044, 965992530, 965992520, 965992465, 965992218, 965992030, 965992011, 965991612, 965991004, 965990909, 965990895, 965990757, 965990702, 965990589, 965990581, 965989863, 965989397, 965989371, 965989296, 965989212, 965989203, 965988859, 965988853, 965988829, 965988571, 965988156, 965988062, 965987907, 965987797, 965986835, 965986496, 965986414, 965986372, 965986114, 965986112, 965985835, 965985069, \n",
      "현재 페이지: 128     https://cafe.naver.com/ArticleList.nhn?search.clubid=10050146&search.menuid=334&userDisplay=50&search.boardtype=L&search.specialmenutype=&search.totalCount=6501&search.cafeId=10050146&search.page=128\n",
      "현재 페이지: 129     https://cafe.naver.com/ArticleList.nhn?search.clubid=10050146&search.menuid=334&userDisplay=50&search.boardtype=L&search.specialmenutype=&search.totalCount=6501&search.cafeId=10050146&search.page=129\n"
     ]
    },
    {
     "name": "stdout",
     "output_type": "stream",
     "text": [
      "detail_page: 965983833, 965983405, 965983113, 965983040, 965982921, 965982718, 965982630, 965982060, 965981985, 965981845, 965981432, 965981143, 965980987, 965980932, 965980800, 965980746, 965980249, 965980236, 965980209, 965980182, 965980144, 965979822, 965979680, 965979586, 965979304, 965979253, 965979170, 965979080, 965979010, 965978849, 965978326, 965977950, 965977689, 965977190, 965976985, 965976792, 965976178, 965975847, 965975795, 965975613, 965975604, 965975098, 965975073, 965974897, 965974764, 965974554, 965974367, 965974362, 965974317, 965973914, \n",
      "현재 페이지: 129     https://cafe.naver.com/ArticleList.nhn?search.clubid=10050146&search.menuid=334&userDisplay=50&search.boardtype=L&search.specialmenutype=&search.totalCount=6501&search.cafeId=10050146&search.page=129\n",
      "현재 페이지: 130     https://cafe.naver.com/ArticleList.nhn?search.clubid=10050146&search.menuid=334&userDisplay=50&search.boardtype=L&search.specialmenutype=&search.totalCount=6501&search.cafeId=10050146&search.page=130\n",
      "detail_page: 965973914, 965973835, 965973191, 965973106, 965973026, 965972553, 965972417, 965972267, 965972156, 965972155, 965972057, 965972008, 965971949, 965971877, 965971829, 965971282, 965971063, 965970973, 965970832, 965970818, 965970608, 965970134, 965970025, 965969938, 965969809, 965969054, 965968698, 965967906, 965967327, 965967182, 965967036, 965967011, 965966968, 965966914, 965966547, 965966385, 965965509, 965965315, 965965250, 965965039, 965964851, 965964821, 965964644, 965964300, 965964240, 965963630, 965963145, 965962971, 965962923, 965962785, \n",
      "현재 페이지: 130     https://cafe.naver.com/ArticleList.nhn?search.clubid=10050146&search.menuid=334&userDisplay=50&search.boardtype=L&search.specialmenutype=&search.totalCount=6501&search.cafeId=10050146&search.page=130\n",
      "현재 페이지: 131     https://cafe.naver.com/ArticleList.nhn?search.clubid=10050146&search.menuid=334&userDisplay=50&search.boardtype=L&search.specialmenutype=&search.totalCount=6501&search.cafeId=10050146&search.page=131\n",
      "detail_page: 965962388, 965961694, 965961376, 965960708, 965960094, 965960072, 965960014, 965959620, 965959492, 965958805, 965958634, 965958630, 965958478, 965958415, 965958291, 965958270, 965957459, 965957074, 965956856, 965956832, 965955757, 965955493, 965955426, 965955419, 965955275, 965955173, 965955050, 965954514, 965953401, 965953300, 965953245, 965953147, 965952707, 965952661, 965952473, 965951110, 965951052, 965950835, 965950322, 965949647, 965949124, 965949013, 965948890, 965948791, 965948786, 965948524, 965948462, 965948353, 965948332, 965948033, \n",
      "현재 페이지: 131     https://cafe.naver.com/ArticleList.nhn?search.clubid=10050146&search.menuid=334&userDisplay=50&search.boardtype=L&search.specialmenutype=&search.totalCount=6501&search.cafeId=10050146&search.page=131\n",
      "현재 페이지: 132     https://cafe.naver.com/ArticleList.nhn?search.clubid=10050146&search.menuid=334&userDisplay=50&search.boardtype=L&search.specialmenutype=&search.totalCount=7001&search.cafeId=10050146&search.page=132\n",
      "detail_page: 965948033, 965947557, 965947400, 965946938, 965945882, 965945655, 965945081, 965944769, 965944584, 965943501, 965942917, 965942825, 965942770, 965942688, 965942383, 965942306, 965942162, 965942073, 965942020, 965942010, 965941943, 965941853, 965941837, 965941663, 965941335, 965941284, 965941077, 965940955, 965940718, 965940594, 965940565, 965940558, 965940417, 965940040, 965940015, 965939941, 965939843, 965939714, 965939483, 965939316, 965938935, 965938921, 965938645, 965938384, 965938090, 965937966, 965937878, 965937800, 965937764, 965937666, \n",
      "현재 페이지: 132     https://cafe.naver.com/ArticleList.nhn?search.clubid=10050146&search.menuid=334&userDisplay=50&search.boardtype=L&search.specialmenutype=&search.totalCount=7001&search.cafeId=10050146&search.page=132\n",
      "현재 페이지: 133     https://cafe.naver.com/ArticleList.nhn?search.clubid=10050146&search.menuid=334&userDisplay=50&search.boardtype=L&search.specialmenutype=&search.totalCount=7001&search.cafeId=10050146&search.page=133\n",
      "detail_page: 965937323, 965936966, 965936632, 965936566, 965936327, 965936190, 965935872, 965935803, 965934915, 965934657, 965934394, 965933964, 965933815, 965933322, 965933200, 965933160, 965933094, 965932996, 965932636, 965932562, 965932199, 965931959, 965931766, 965931721, 965931172, 965931153, 965930789, 965930618, 965930570, 965930534, 965930074, 965929893, 965929194, 965929193, 965928938, 965928368, 965926906, 965926790, 965926594, 965926460, 965926220, 965926109, 965926092, 965925986, 965925847, 965925569, 965925505, 965925295, 965925075, 965924595, \n",
      "현재 페이지: 133     https://cafe.naver.com/ArticleList.nhn?search.clubid=10050146&search.menuid=334&userDisplay=50&search.boardtype=L&search.specialmenutype=&search.totalCount=7001&search.cafeId=10050146&search.page=133\n",
      "현재 페이지: 134     https://cafe.naver.com/ArticleList.nhn?search.clubid=10050146&search.menuid=334&userDisplay=50&search.boardtype=L&search.specialmenutype=&search.totalCount=7001&search.cafeId=10050146&search.page=134\n",
      "detail_page: 965925295, 965925075, 965924595, 965924206, 965924038, 965923984, 965923871, 965923626, 965923075, 965922552, 965922532, 965922526, 965922325, 965922269, 965922244, 965922161, 965922023, 965921968, 965921683, 965921682, 965921466, 965921241, 965921023, 965920688, 965920681, 965920490, 965920254, 965919818, 965919747, 965919270, 965919232, 965918900, 965918504, 965918354, 965917531, 965917298, 965917038, 965916560, 965915908, 965915692, 965915678, 965915615, 965915525, 965915323, 965914992, 965914798, 965914465, 965914444, 965914271, 965914123, \n",
      "현재 페이지: 134     https://cafe.naver.com/ArticleList.nhn?search.clubid=10050146&search.menuid=334&userDisplay=50&search.boardtype=L&search.specialmenutype=&search.totalCount=7001&search.cafeId=10050146&search.page=134\n",
      "현재 페이지: 135     https://cafe.naver.com/ArticleList.nhn?search.clubid=10050146&search.menuid=334&userDisplay=50&search.boardtype=L&search.specialmenutype=&search.totalCount=7001&search.cafeId=10050146&search.page=135\n",
      "detail_page: 965914034, 965914004, 965913948, 965913944, 965913928, 965913899, 965913886, 965913811, 965913358, 965912981, 965912145, 965911985, 965911764, 965911121, 965911094, 965911067, 965911011, 965910875, 965910815, 965910721, 965910323, 965910288, 965910239, 965910150, 965910103, 965910044, 965909947, 965909900, 965909823, 965909786, 965909251, 965909090, 965909073, 965908996, 965908622, 965908209, 965908005, 965907345, 965906721, 965906566, 965906330, 965906263, 965906016, 965905729, 965905563, 965905351, 965905280, 965905154, 965904973, 965904588, \n",
      "현재 페이지: 135     https://cafe.naver.com/ArticleList.nhn?search.clubid=10050146&search.menuid=334&userDisplay=50&search.boardtype=L&search.specialmenutype=&search.totalCount=7001&search.cafeId=10050146&search.page=135\n",
      "현재 페이지: 136     https://cafe.naver.com/ArticleList.nhn?search.clubid=10050146&search.menuid=334&userDisplay=50&search.boardtype=L&search.specialmenutype=&search.totalCount=7001&search.cafeId=10050146&search.page=136\n",
      "detail_page: 965904973, 965904588, 965904420, 965903956, 965903916, 965903776, 965903521, 965903036, 965902980, 965902729, 965902727, 965902524, 965902100, 965901528, 965901421, 965900949, 965900822, 965900406, 965900249, 965899998, 965899570, 965898532, 965898032, 965897217, 965896935, 965896288, 965895955, 965895951, 965895795, 965894858, 965894569, 965894465, 965894135, 965893816, 965893538, 965892665, 965892242, 965891968, 965891948, 965891228, 965891001, 965890962, 965890643, 965889808, 965888862, 965888526, 965887766, 965886290, 965885723, 965883517, \n",
      "현재 페이지: 136     https://cafe.naver.com/ArticleList.nhn?search.clubid=10050146&search.menuid=334&userDisplay=50&search.boardtype=L&search.specialmenutype=&search.totalCount=7001&search.cafeId=10050146&search.page=136\n",
      "현재 페이지: 137     https://cafe.naver.com/ArticleList.nhn?search.clubid=10050146&search.menuid=334&userDisplay=50&search.boardtype=L&search.specialmenutype=&search.totalCount=7001&search.cafeId=10050146&search.page=137\n",
      "detail_page: 965883517, 965882971, 965882909, 965882855, 965882751, 965882254, 965880579, 965879620, 965879438, 965879116, 965878217, 965877664, 965876476, 965876432, 965876194, 965876021, 965875746, 965875052, 965874796, 965874718, 965874061, 965873929, 965873861, 965873802, 965873177, 965873111, 965872996, 965872382, 965871906, 965871864, 965871789, 965871650, 965871460, 965871411, 965871397, 965871342, 965871156, 965871048, 965870995, 965870578, 965870333, 965869938, 965869473, 965869036, 965868651, 965868549, 965867924, 965867664, 965867612, 965867588, \n",
      "현재 페이지: 137     https://cafe.naver.com/ArticleList.nhn?search.clubid=10050146&search.menuid=334&userDisplay=50&search.boardtype=L&search.specialmenutype=&search.totalCount=7001&search.cafeId=10050146&search.page=137\n",
      "현재 페이지: 138     https://cafe.naver.com/ArticleList.nhn?search.clubid=10050146&search.menuid=334&userDisplay=50&search.boardtype=L&search.specialmenutype=&search.totalCount=7001&search.cafeId=10050146&search.page=138\n",
      "detail_page: 965867496, 965867276, 965867207, 965866898, 965866803, 965866614, 965866581, 965866553, 965866524, 965865644, 965865387, 965865332, 965865328, 965865284, 965864966, 965864886, 965864761, 965864749, 965864662, 965864650, 965864330, 965864218, 965863792, 965863780, 965863716, 965863550, 965863535, 965863515, 965863503, 965863322, 965862915, 965862890, 965862275, 965862227, 965862051, 965861966, 965861735, 965861656, 965861561, 965861413, 965861195, 965861117, 965861020, 965860834, 965860696, 965860673, 965860512, 965860483, 965860407, 965860395, \n",
      "현재 페이지: 138     https://cafe.naver.com/ArticleList.nhn?search.clubid=10050146&search.menuid=334&userDisplay=50&search.boardtype=L&search.specialmenutype=&search.totalCount=7001&search.cafeId=10050146&search.page=138\n",
      "현재 페이지: 139     https://cafe.naver.com/ArticleList.nhn?search.clubid=10050146&search.menuid=334&userDisplay=50&search.boardtype=L&search.specialmenutype=&search.totalCount=7001&search.cafeId=10050146&search.page=139\n",
      "detail_page: 965860395, 965859988, 965859926, 965859728, 965859629, 965859473, 965859216, 965858963, 965858755, 965858708, 965858396, 965858384, 965858345, 965858333, 965858329, 965857866, 965857839, 965857499, 965857311, 965857207, 965857006, 965856924, 965856833, 965856821, 965856631, 965856370, 965856264, 965856237, 965855951, 965855905, 965855750, 965855665, 965855032, 965854982, 965854536, 965854364, 965854246, 965854222, 965853976, 965853869, 965853680, 965853452, 965853378, 965853274, 965853193, 965853004, 965852796, 965852664, 965852269, 965852125, \n",
      "현재 페이지: 139     https://cafe.naver.com/ArticleList.nhn?search.clubid=10050146&search.menuid=334&userDisplay=50&search.boardtype=L&search.specialmenutype=&search.totalCount=7001&search.cafeId=10050146&search.page=139\n",
      "현재 페이지: 140     https://cafe.naver.com/ArticleList.nhn?search.clubid=10050146&search.menuid=334&userDisplay=50&search.boardtype=L&search.specialmenutype=&search.totalCount=7001&search.cafeId=10050146&search.page=140\n",
      "detail_page: 965852002, 965851756, 965851694, 965851679, 965851626, 965851237, 965851127, 965851108, 965850372, 965850311, 965850269, 965849768, 965849395, 965849336, 965848925, 965848877, 965848871, 965848835, 965848712, 965848452, 965848416, 965848163, 965848150, 965848077, 965847612, 965847594, 965847532, 965847465, 965847440, 965847282, 965847228, 965847210, 965847208, 965847176, 965847141, 965846803, 965846722, 965846555, 965846218, 965845997, 965845961, 965845952, 965845919, 965845763, 965845621, 965845150, 965845005, 965844613, 965844458, 965844216, \n",
      "현재 페이지: 140     https://cafe.naver.com/ArticleList.nhn?search.clubid=10050146&search.menuid=334&userDisplay=50&search.boardtype=L&search.specialmenutype=&search.totalCount=7001&search.cafeId=10050146&search.page=140\n",
      "현재 페이지: 141     https://cafe.naver.com/ArticleList.nhn?search.clubid=10050146&search.menuid=334&userDisplay=50&search.boardtype=L&search.specialmenutype=&search.totalCount=7001&search.cafeId=10050146&search.page=141\n",
      "detail_page: 965844182, 965843926, 965843800, 965843794, 965843761, 965843759, 965843429, 965843197, 965843182, 965843080, 965843015, 965842784, 965842719, 965842632, 965842559, 965842411, 965842178, 965842027, 965841740, 965841483, 965841344, 965841237, 965840952, 965840919, 965840762, 965840591, 965840534, 965840370, 965840021, 965839638, 965839579, 965839500, 965839037, 965838773, 965838516, 965838463, 965838092, 965837856, 965837780, 965837732, 965837527, 965837377, 965837325, 965837282, 965837188, 965837159, 965836786, 965836638, 965836550, 965836411, \n",
      "현재 페이지: 141     https://cafe.naver.com/ArticleList.nhn?search.clubid=10050146&search.menuid=334&userDisplay=50&search.boardtype=L&search.specialmenutype=&search.totalCount=7001&search.cafeId=10050146&search.page=141\n",
      "현재 페이지: 142     https://cafe.naver.com/ArticleList.nhn?search.clubid=10050146&search.menuid=334&userDisplay=50&search.boardtype=L&search.specialmenutype=&search.totalCount=7501&search.cafeId=10050146&search.page=142\n",
      "detail_page: 965836074, 965836073, 965835748, 965835547, 965835531, 965835465, 965835428, 965835296, 965835167, 965835117, 965835042, 965834935, 965834823, 965834733, 965834648, 965834566, 965834476, 965834289, 965833285, 965833214, 965833175, 965833076, 965832980, 965832826, 965832788, 965832711, 965832208, 965831968, 965831962, 965831855, 965831776, 965831774, 965831576, 965831256, 965831205, 965831154, 965830568, 965830338, 965830259, 965830187, 965829890, 965829737, 965829627, 965829579, 965829578, 965829502, 965829385, 965829275, 965828960, 965828886, \n",
      "현재 페이지: 142     https://cafe.naver.com/ArticleList.nhn?search.clubid=10050146&search.menuid=334&userDisplay=50&search.boardtype=L&search.specialmenutype=&search.totalCount=7501&search.cafeId=10050146&search.page=142\n",
      "현재 페이지: 143     https://cafe.naver.com/ArticleList.nhn?search.clubid=10050146&search.menuid=334&userDisplay=50&search.boardtype=L&search.specialmenutype=&search.totalCount=7501&search.cafeId=10050146&search.page=143\n",
      "detail_page: 965828826, 965828797, 965828745, 965828190, 965828189, 965827495, 965827456, 965827334, 965826955, 965826756, 965826663, 965826189, 965825837, 965825789, 965825757, 965825661, 965825580, 965825561, 965825481, 965825268, 965825111, 965825016, 965824922, 965824455, 965824396, 965824232, 965824123, 965823945, 965823798, 965823664, 965823368, 965823345, 965823322, 965823106, 965823024, 965822980, 965822623, 965822475, 965822235, 965821968, 965821865, 965821841, 965821446, 965821340, 965821270, 965821261, 965820945, 965820838, 965820796, 965820601, \n",
      "현재 페이지: 143     https://cafe.naver.com/ArticleList.nhn?search.clubid=10050146&search.menuid=334&userDisplay=50&search.boardtype=L&search.specialmenutype=&search.totalCount=7501&search.cafeId=10050146&search.page=143\n",
      "현재 페이지: 144     https://cafe.naver.com/ArticleList.nhn?search.clubid=10050146&search.menuid=334&userDisplay=50&search.boardtype=L&search.specialmenutype=&search.totalCount=7501&search.cafeId=10050146&search.page=144\n",
      "detail_page: 965820796, 965820601, 965820445, 965819791, 965819194, 965819171, 965819115, 965819101, 965818932, 965818849, 965817991, 965817848, 965817840, 965817723, 965817669, 965817636, 965817585, 965817427, 965817279, 965816961, 965816790, 965816775, 965816546, 965816345, 965816329, 965816149, 965816110, 965815926, 965815707, 965815606, 965815510, 965815379, 965815288, 965815255, 965815251, 965815142, 965814898, 965814103, 965813689, 965813487, 965813464, 965813409, 965813304, 965812617, 965812401, 965811809, 965811717, 965811359, 965811279, 965810972, \n",
      "현재 페이지: 144     https://cafe.naver.com/ArticleList.nhn?search.clubid=10050146&search.menuid=334&userDisplay=50&search.boardtype=L&search.specialmenutype=&search.totalCount=7501&search.cafeId=10050146&search.page=144\n",
      "현재 페이지: 145     https://cafe.naver.com/ArticleList.nhn?search.clubid=10050146&search.menuid=334&userDisplay=50&search.boardtype=L&search.specialmenutype=&search.totalCount=7501&search.cafeId=10050146&search.page=145\n"
     ]
    },
    {
     "name": "stdout",
     "output_type": "stream",
     "text": [
      "detail_page: 965810896, 965810481, 965810415, 965810075, 965809846, 965809825, 965809634, 965809617, 965809470, 965809238, 965808090, 965807877, 965807873, 965807553, 965807152, 965806938, 965806803, 965806743, 965806728, 965806723, 965806568, 965806378, 965805914, 965805304, 965805260, 965805212, 965804559, 965804471, 965803811, 965803744, 965803711, 965803684, 965803655, 965803383, 965803178, 965802804, 965802383, 965802266, 965802061, 965801605, 965801441, 965801304, 965800813, 965800721, 965800525, 965800052, 965799933, 965799667, 965799563, 965799561, \n",
      "현재 페이지: 145     https://cafe.naver.com/ArticleList.nhn?search.clubid=10050146&search.menuid=334&userDisplay=50&search.boardtype=L&search.specialmenutype=&search.totalCount=7501&search.cafeId=10050146&search.page=145\n",
      "현재 페이지: 146     https://cafe.naver.com/ArticleList.nhn?search.clubid=10050146&search.menuid=334&userDisplay=50&search.boardtype=L&search.specialmenutype=&search.totalCount=7501&search.cafeId=10050146&search.page=146\n",
      "detail_page: 965799560, 965798793, 965798395, 965798081, 965797544, 965797412, 965797315, 965796949, 965796669, 965796553, 965796365, 965796207, 965795984, 965795489, 965795177, 965794428, 965794170, 965793421, 965792978, 965792934, 965792854, 965792755, 965792723, 965792313, 965792290, 965791995, 965791624, 965791335, 965791305, 965790941, 965790503, 965790241, 965789892, 965789796, 965789350, 965789156, 965788899, 965788837, 965788453, 965787948, 965787854, 965787817, 965787706, 965787688, 965787365, 965787225, 965786027, 965785614, 965784777, 965784528, \n",
      "현재 페이지: 146     https://cafe.naver.com/ArticleList.nhn?search.clubid=10050146&search.menuid=334&userDisplay=50&search.boardtype=L&search.specialmenutype=&search.totalCount=7501&search.cafeId=10050146&search.page=146\n",
      "현재 페이지: 147     https://cafe.naver.com/ArticleList.nhn?search.clubid=10050146&search.menuid=334&userDisplay=50&search.boardtype=L&search.specialmenutype=&search.totalCount=7501&search.cafeId=10050146&search.page=147\n",
      "detail_page: 965784777, 965784528, 965784521, 965784385, 965784177, 965783338, 965782426, 965782061, 965781933, 965781207, 965780278, 965780219, 965780141, 965779923, 965779893, 965778185, 965777304, 965777034, 965776984, 965776835, 965776689, 965775993, 965775639, 965775300, 965775114, 965775074, 965774955, 965774756, 965774491, 965774456, 965774358, 965774304, 965774278, 965774268, 965773901, 965773210, 965773136, 965773067, 965772951, 965772409, 965772322, 965772269, 965771811, 965770461, 965770387, 965770232, 965769334, 965769216, 965768436, 965768406, \n",
      "현재 페이지: 147     https://cafe.naver.com/ArticleList.nhn?search.clubid=10050146&search.menuid=334&userDisplay=50&search.boardtype=L&search.specialmenutype=&search.totalCount=7501&search.cafeId=10050146&search.page=147\n",
      "현재 페이지: 148     https://cafe.naver.com/ArticleList.nhn?search.clubid=10050146&search.menuid=334&userDisplay=50&search.boardtype=L&search.specialmenutype=&search.totalCount=7501&search.cafeId=10050146&search.page=148\n",
      "detail_page: 965767422, 965767379, 965766839, 965766680, 965766543, 965765984, 965765938, 965765626, 965765598, 965765481, 965765386, 965765213, 965765101, 965765060, 965764354, 965764326, 965764281, 965763643, 965762831, 965762696, 965762487, 965762414, 965761743, 965761377, 965760967, 965760787, 965760646, 965760580, 965760356, 965759998, 965759987, 965759875, 965758716, 965758623, 965758089, 965757697, 965757010, 965756916, 965756705, 965756557, 965756513, 965756161, 965754978, 965754810, 965754600, 965754406, 965754024, 965754003, 965753895, 965753874, \n",
      "현재 페이지: 148     https://cafe.naver.com/ArticleList.nhn?search.clubid=10050146&search.menuid=334&userDisplay=50&search.boardtype=L&search.specialmenutype=&search.totalCount=7501&search.cafeId=10050146&search.page=148\n",
      "현재 페이지: 149     https://cafe.naver.com/ArticleList.nhn?search.clubid=10050146&search.menuid=334&userDisplay=50&search.boardtype=L&search.specialmenutype=&search.totalCount=7501&search.cafeId=10050146&search.page=149\n",
      "detail_page: 965753529, 965752702, 965752389, 965752079, 965751824, 965751740, 965751512, 965751431, 965750856, 965750843, 965750449, 965750444, 965750419, 965749767, 965749720, 965749631, 965749427, 965749110, 965748769, 965748641, 965748640, 965748477, 965748303, 965747581, 965747388, 965746563, 965746460, 965746033, 965745469, 965745437, 965744974, 965744726, 965744724, 965744362, 965744218, 965744116, 965743770, 965743611, 965743484, 965743405, 965743127, 965743069, 965742559, 965742227, 965742089, 965741626, 965741442, 965741178, 965740615, 965740532, \n",
      "현재 페이지: 149     https://cafe.naver.com/ArticleList.nhn?search.clubid=10050146&search.menuid=334&userDisplay=50&search.boardtype=L&search.specialmenutype=&search.totalCount=7501&search.cafeId=10050146&search.page=149\n",
      "현재 페이지: 150     https://cafe.naver.com/ArticleList.nhn?search.clubid=10050146&search.menuid=334&userDisplay=50&search.boardtype=L&search.specialmenutype=&search.totalCount=7501&search.cafeId=10050146&search.page=150\n",
      "detail_page: 965740480, 965740120, 965739949, 965739703, 965738942, 965738897, 965738879, 965738812, 965738693, 965738612, 965738477, 965738382, 965737219, 965737136, 965737076, 965736599, 965736558, 965736552, 965736522, 965736473, 965736341, 965736232, 965736190, 965736124, 965736100, 965736025, 965735903, 965734901, 965734880, 965734641, 965734456, 965734413, 965734353, 965733350, 965733235, 965732980, 965731543, 965731100, 965731075, 965731046, 965730958, 965730917, 965730842, 965730587, 965730579, 965730567, 965729777, 965729592, 965729502, 965729109, \n",
      "현재 페이지: 150     https://cafe.naver.com/ArticleList.nhn?search.clubid=10050146&search.menuid=334&userDisplay=50&search.boardtype=L&search.specialmenutype=&search.totalCount=7501&search.cafeId=10050146&search.page=150\n",
      "현재 페이지: 151     https://cafe.naver.com/ArticleList.nhn?search.clubid=10050146&search.menuid=334&userDisplay=50&search.boardtype=L&search.specialmenutype=&search.totalCount=7501&search.cafeId=10050146&search.page=151\n",
      "detail_page: 965728996, 965728973, 965728545, 965728496, 965728433, 965728302, 965728247, 965727596, 965727096, 965726965, 965726694, 965726534, 965726532, 965726423, 965726239, 965726197, 965726122, 965726037, 965726025, 965725844, 965725631, 965725542, 965725501, 965725314, 965724842, 965724560, 965724434, 965724226, 965723713, 965723653, 965723513, 965723418, 965722907, 965722592, 965722445, 965722385, 965721527, 965721143, 965720462, 965720437, 965720243, 965719934, 965719318, 965719254, 965719050, 965719049, 965719045, 965718740, 965718710, 965718552, \n",
      "현재 페이지: 151     https://cafe.naver.com/ArticleList.nhn?search.clubid=10050146&search.menuid=334&userDisplay=50&search.boardtype=L&search.specialmenutype=&search.totalCount=7501&search.cafeId=10050146&search.page=151\n",
      "현재 페이지: 152     https://cafe.naver.com/ArticleList.nhn?search.clubid=10050146&search.menuid=334&userDisplay=50&search.boardtype=L&search.specialmenutype=&search.totalCount=8001&search.cafeId=10050146&search.page=152\n",
      "detail_page: 965718552, 965718172, 965718153, 965718117, 965717827, 965717755, 965717729, 965717695, 965717672, 965717161, 965716690, 965716676, 965716355, 965715812, 965715178, 965715028, 965714862, 965714392, 965714293, 965714124, 965713946, 965713809, 965713776, 965713420, 965713333, 965713182, 965713014, 965712659, 965712621, 965712584, 965712531, 965711657, 965711476, 965711220, 965711112, 965711071, 965711044, 965710872, 965710714, 965710159, 965709240, 965708733, 965708710, 965708654, 965708019, 965707918, 965707827, 965707341, 965707067, 965706461, \n",
      "현재 페이지: 152     https://cafe.naver.com/ArticleList.nhn?search.clubid=10050146&search.menuid=334&userDisplay=50&search.boardtype=L&search.specialmenutype=&search.totalCount=8001&search.cafeId=10050146&search.page=152\n",
      "현재 페이지: 153     https://cafe.naver.com/ArticleList.nhn?search.clubid=10050146&search.menuid=334&userDisplay=50&search.boardtype=L&search.specialmenutype=&search.totalCount=8001&search.cafeId=10050146&search.page=153\n",
      "detail_page: 965706437, 965706061, 965705850, 965705635, 965705128, 965705032, 965704927, 965704429, 965704141, 965703706, 965703244, 965703014, 965702984, 965702480, 965702309, 965702195, 965702077, 965701681, 965700821, 965699751, 965699173, 965699017, 965699015, 965698842, 965698733, 965698607, 965698205, 965698078, 965698025, 965697998, 965697575, 965697565, 965697181, 965697143, 965696958, 965696792, 965696746, 965696296, 965696147, 965695778, 965695632, 965695510, 965694107, 965693681, 965693459, 965692438, 965692008, 965691220, 965690633, 965690596, \n",
      "현재 페이지: 153     https://cafe.naver.com/ArticleList.nhn?search.clubid=10050146&search.menuid=334&userDisplay=50&search.boardtype=L&search.specialmenutype=&search.totalCount=8001&search.cafeId=10050146&search.page=153\n",
      "현재 페이지: 154     https://cafe.naver.com/ArticleList.nhn?search.clubid=10050146&search.menuid=334&userDisplay=50&search.boardtype=L&search.specialmenutype=&search.totalCount=8001&search.cafeId=10050146&search.page=154\n",
      "detail_page: 965690225, 965689992, 965689812, 965688695, 965688693, 965688390, 965688361, 965688326, 965688321, 965688304, 965688277, 965687847, 965687655, 965687099, 965686572, 965685900, 965684279, 965684207, 965683355, 965683169, 965682108, 965682106, 965681170, 965681166, 965680944, 965680555, 965680384, 965679653, 965679615, 965679388, 965679165, 965678794, 965678728, 965678361, 965678243, 965677909, 965677837, 965676976, 965676896, 965676221, 965675706, 965673530, 965673435, 965672603, 965672449, 965671455, 965671353, 965671234, 965670574, 965670493, \n",
      "현재 페이지: 154     https://cafe.naver.com/ArticleList.nhn?search.clubid=10050146&search.menuid=334&userDisplay=50&search.boardtype=L&search.specialmenutype=&search.totalCount=8001&search.cafeId=10050146&search.page=154\n",
      "현재 페이지: 155     https://cafe.naver.com/ArticleList.nhn?search.clubid=10050146&search.menuid=334&userDisplay=50&search.boardtype=L&search.specialmenutype=&search.totalCount=8001&search.cafeId=10050146&search.page=155\n",
      "detail_page: 965668980, 965668694, 965667942, 965667828, 965667428, 965666805, 965666449, 965665833, 965665326, 965665311, 965665081, 965664390, 965663831, 965662393, 965662264, 965661838, 965661696, 965661511, 965661300, 965660995, 965660991, 965660744, 965660290, 965660203, 965659193, 965658638, 965658442, 965657785, 965657639, 965657198, 965656770, 965656556, 965656095, 965654524, 965654351, 965654162, 965654125, 965653979, 965653523, 965653501, 965653445, 965653432, 965653139, 965653085, 965653054, 965652920, 965652748, 965652722, 965652716, 965652203, \n",
      "현재 페이지: 155     https://cafe.naver.com/ArticleList.nhn?search.clubid=10050146&search.menuid=334&userDisplay=50&search.boardtype=L&search.specialmenutype=&search.totalCount=8001&search.cafeId=10050146&search.page=155\n",
      "현재 페이지: 156     https://cafe.naver.com/ArticleList.nhn?search.clubid=10050146&search.menuid=334&userDisplay=50&search.boardtype=L&search.specialmenutype=&search.totalCount=8001&search.cafeId=10050146&search.page=156\n",
      "detail_page: 965652203, 965652081, 965651952, 965651926, 965651566, 965651560, 965651480, 965651361, 965650944, 965650892, 965650723, 965650194, 965650141, 965650072, 965649936, 965649911, 965649867, 965649700, 965649543, 965649456, 965649452, 965649320, 965648792, 965648635, 965648423, 965648379, 965648291, 965648031, 965647968, 965647700, 965647609, 965647286, 965646914, 965646290, 965646285, 965646240, 965645997, 965645936, 965645786, 965645714, 965645390, 965645265, 965645156, 965645090, 965644925, 965644893, 965644108, 965644028, 965643966, 965643884, \n",
      "현재 페이지: 156     https://cafe.naver.com/ArticleList.nhn?search.clubid=10050146&search.menuid=334&userDisplay=50&search.boardtype=L&search.specialmenutype=&search.totalCount=8001&search.cafeId=10050146&search.page=156\n",
      "현재 페이지: 157     https://cafe.naver.com/ArticleList.nhn?search.clubid=10050146&search.menuid=334&userDisplay=50&search.boardtype=L&search.specialmenutype=&search.totalCount=8001&search.cafeId=10050146&search.page=157\n",
      "detail_page: 965643209, 965643052, 965642901, 965642732, 965642382, 965641958, 965641934, 965641927, 965641470, 965641465, 965641003, 965640881, 965640686, 965640511, 965640461, 965640391, 965639796, 965639447, 965638883, 965638683, 965638555, 965638499, 965638397, 965637972, 965637617, 965637554, 965637483, 965637136, 965637133, 965636940, 965636917, 965636399, 965636085, 965635948, 965635866, 965635351, 965635310, 965635268, 965635216, 965634964, 965634958, 965634864, 965634758, 965634656, 965634654, 965634557, 965634477, 965634272, 965634169, 965634125, \n",
      "현재 페이지: 157     https://cafe.naver.com/ArticleList.nhn?search.clubid=10050146&search.menuid=334&userDisplay=50&search.boardtype=L&search.specialmenutype=&search.totalCount=8001&search.cafeId=10050146&search.page=157\n",
      "현재 페이지: 158     https://cafe.naver.com/ArticleList.nhn?search.clubid=10050146&search.menuid=334&userDisplay=50&search.boardtype=L&search.specialmenutype=&search.totalCount=8001&search.cafeId=10050146&search.page=158\n",
      "detail_page: 965634169, 965634125, 965633772, 965633668, 965633325, 965633168, 965633144, 965633122, 965632452, 965632228, 965632176, 965632124, 965631940, 965631768, 965631683, 965631427, 965631235, 965630961, 965630714, 965630472, 965630368, 965630279, 965629886, 965629862, 965629812, 965629752, 965629747, 965629548, 965629265, 965629086, 965629030, 965629017, 965629004, 965628837, 965628658, 965628555, 965628456, 965628156, 965628084, 965627382, 965627312, 965626659, 965626633, 965626085, 965626053, 965625748, 965625528, 965625478, 965625385, 965625379, \n",
      "현재 페이지: 158     https://cafe.naver.com/ArticleList.nhn?search.clubid=10050146&search.menuid=334&userDisplay=50&search.boardtype=L&search.specialmenutype=&search.totalCount=8001&search.cafeId=10050146&search.page=158\n",
      "현재 페이지: 159     https://cafe.naver.com/ArticleList.nhn?search.clubid=10050146&search.menuid=334&userDisplay=50&search.boardtype=L&search.specialmenutype=&search.totalCount=8001&search.cafeId=10050146&search.page=159\n",
      "detail_page: 965625385, 965625379, 965624620, 965624322, 965624064, 965623922, 965623907, 965623472, 965623386, 965623202, 965623096, 965623090, 965622871, 965622767, 965622601, 965622585, 965622568, 965622485, 965622183, 965621999, 965621744, 965621556, 965621529, 965621178, 965620933, 965620715, 965620239, 965620221, 965620105, 965619910, 965619856, 965619714, 965619626, 965619302, 965619158, 965619069, 965619041, 965618965, 965618906, 965618806, 965618586, 965618402, 965618061, 965618032, 965617814, 965617798, 965617664, 965617509, 965617369, 965617268, \n",
      "현재 페이지: 159     https://cafe.naver.com/ArticleList.nhn?search.clubid=10050146&search.menuid=334&userDisplay=50&search.boardtype=L&search.specialmenutype=&search.totalCount=8001&search.cafeId=10050146&search.page=159\n",
      "현재 페이지: 160     https://cafe.naver.com/ArticleList.nhn?search.clubid=10050146&search.menuid=334&userDisplay=50&search.boardtype=L&search.specialmenutype=&search.totalCount=8001&search.cafeId=10050146&search.page=160\n",
      "detail_page: 965617259, 965617204, 965617172, 965616789, 965616739, 965616117, 965616000, 965615801, 965615777, 965615476, 965614976, 965614929, 965614850, 965614827, 965614600, 965614437, 965614433, 965614411, 965614346, 965614170, 965613804, 965613164, 965612978, 965612973, 965612783, 965612714, 965612643, 965612045, 965611816, 965611634, 965611594, 965611567, 965611457, 965611433, 965611298, 965611163, 965610697, 965610554, 965610517, 965610183, 965610137, 965610072, 965610016, 965609332, 965608828, 965608784, 965608766, 965608510, 965608289, 965608052, \n",
      "현재 페이지: 160     https://cafe.naver.com/ArticleList.nhn?search.clubid=10050146&search.menuid=334&userDisplay=50&search.boardtype=L&search.specialmenutype=&search.totalCount=8001&search.cafeId=10050146&search.page=160\n",
      "현재 페이지: 161     https://cafe.naver.com/ArticleList.nhn?search.clubid=10050146&search.menuid=334&userDisplay=50&search.boardtype=L&search.specialmenutype=&search.totalCount=8001&search.cafeId=10050146&search.page=161\n"
     ]
    },
    {
     "name": "stdout",
     "output_type": "stream",
     "text": [
      "detail_page: 965607988, 965607900, 965607819, 965607658, 965607526, 965607453, 965607315, 965607069, 965606773, 965606584, 965606542, 965606303, 965606158, 965606078, 965606040, 965606039, 965605697, 965605628, 965605541, 965605091, 965604619, 965604572, 965604510, 965604446, 965604181, 965603366, 965603355, 965603263, 965603099, 965603067, 965603062, 965602977, 965602933, 965602728, 965602594, 965602555, 965602098, 965601755, 965601502, 965601253, 965601235, 965600954, 965600440, 965600313, 965600177, 965600124, 965599667, 965599477, 965599240, 965599237, \n",
      "현재 페이지: 161     https://cafe.naver.com/ArticleList.nhn?search.clubid=10050146&search.menuid=334&userDisplay=50&search.boardtype=L&search.specialmenutype=&search.totalCount=8001&search.cafeId=10050146&search.page=161\n",
      "현재 페이지: 162     https://cafe.naver.com/ArticleList.nhn?search.clubid=10050146&search.menuid=334&userDisplay=50&search.boardtype=L&search.specialmenutype=&search.totalCount=8501&search.cafeId=10050146&search.page=162\n",
      "detail_page: 965599240, 965599237, 965599111, 965598591, 965598559, 965597891, 965597806, 965597581, 965597184, 965597046, 965597040, 965596908, 965596258, 965596132, 965596038, 965595772, 965595731, 965595465, 965595388, 965595330, 965595290, 965595246, 965595129, 965594683, 965594647, 965594598, 965594411, 965594212, 965594160, 965593902, 965593772, 965593537, 965593287, 965592844, 965592727, 965592568, 965592491, 965591849, 965591837, 965591672, 965591587, 965591465, 965591270, 965591245, 965590799, 965590706, 965590667, 965590438, 965590376, 965590316, \n",
      "현재 페이지: 162     https://cafe.naver.com/ArticleList.nhn?search.clubid=10050146&search.menuid=334&userDisplay=50&search.boardtype=L&search.specialmenutype=&search.totalCount=8501&search.cafeId=10050146&search.page=162\n",
      "현재 페이지: 163     https://cafe.naver.com/ArticleList.nhn?search.clubid=10050146&search.menuid=334&userDisplay=50&search.boardtype=L&search.specialmenutype=&search.totalCount=8501&search.cafeId=10050146&search.page=163\n",
      "detail_page: 965590316, 965590259, 965590224, 965590043, 965589884, 965589472, 965589341, 965589340, 965589064, 965588908, 965588630, 965588537, 965588445, 965588389, 965588357, 965588252, 965587900, 965587082, 965586887, 965586808, 965586566, 965586256, 965585952, 965585879, 965585818, 965585168, 965585070, 965585013, 965584175, 965583995, 965583756, 965583512, 965583360, 965582823, 965582789, 965582729, 965582573, 965582347, 965582291, 965582232, 965582029, 965581958, 965581596, 965579886, 965579845, 965579386, 965578835, 965578743, 965578610, 965578373, \n",
      "현재 페이지: 163     https://cafe.naver.com/ArticleList.nhn?search.clubid=10050146&search.menuid=334&userDisplay=50&search.boardtype=L&search.specialmenutype=&search.totalCount=8501&search.cafeId=10050146&search.page=163\n",
      "현재 페이지: 164     https://cafe.naver.com/ArticleList.nhn?search.clubid=10050146&search.menuid=334&userDisplay=50&search.boardtype=L&search.specialmenutype=&search.totalCount=8501&search.cafeId=10050146&search.page=164\n",
      "detail_page: 965578346, 965578280, 965578154, 965577722, 965576790, 965576739, 965576666, 965576299, 965576031, 965575894, 965575864, 965575727, 965575668, 965575624, 965575605, 965575450, 965574970, 965574932, 965574685, 965574678, 965574224, 965574152, 965573934, 965573933, 965573853, 965573684, 965573528, 965572555, 965572551, 965572418, 965572254, 965572035, 965571522, 965570998, 965570698, 965570354, 965570325, 965569978, 965569835, 965569834, 965569686, 965569617, 965568913, 965568857, 965568437, 965567919, 965567584, 965567447, 965566732, 965566262, \n",
      "현재 페이지: 164     https://cafe.naver.com/ArticleList.nhn?search.clubid=10050146&search.menuid=334&userDisplay=50&search.boardtype=L&search.specialmenutype=&search.totalCount=8501&search.cafeId=10050146&search.page=164\n",
      "현재 페이지: 165     https://cafe.naver.com/ArticleList.nhn?search.clubid=10050146&search.menuid=334&userDisplay=50&search.boardtype=L&search.specialmenutype=&search.totalCount=8501&search.cafeId=10050146&search.page=165\n",
      "detail_page: 965564901, 965564113, 965563983, 965563958, 965563774, 965563225, 965563152, 965562815, 965562311, 965562042, 965561895, 965561197, 965560595, 965560569, 965560182, 965559963, 965559591, 965558963, 965558535, 965558268, 965558230, 965558161, 965558051, 965556839, 965556569, 965556456, 965555898, 965555895, 965555891, 965555772, 965555699, 965555134, 965555111, 965554489, 965554295, 965553189, 965553144, 965552084, 965551326, 965550892, 965550690, 965550634, 965550138, 965549597, 965548947, 965548579, 965548436, 965548084, 965548030, 965547754, \n",
      "현재 페이지: 165     https://cafe.naver.com/ArticleList.nhn?search.clubid=10050146&search.menuid=334&userDisplay=50&search.boardtype=L&search.specialmenutype=&search.totalCount=8501&search.cafeId=10050146&search.page=165\n",
      "현재 페이지: 166     https://cafe.naver.com/ArticleList.nhn?search.clubid=10050146&search.menuid=334&userDisplay=50&search.boardtype=L&search.specialmenutype=&search.totalCount=8501&search.cafeId=10050146&search.page=166\n",
      "detail_page: 965547545, 965547368, 965546670, 965546390, 965545850, 965545578, 965545466, 965545032, 965544987, 965544820, 965544381, 965544192, 965544078, 965543596, 965543222, 965542814, 965542804, 965542518, 965542279, 965541650, 965541224, 965541054, 965540718, 965540296, 965540085, 965539681, 965538699, 965538632, 965538192, 965537427, 965537328, 965536981, 965536911, 965536535, 965536234, 965535840, 965534663, 965534351, 965534341, 965534164, 965534146, 965534042, 965533327, 965532796, 965532574, 965532432, 965532285, 965532210, 965531888, 965531736, \n",
      "현재 페이지: 166     https://cafe.naver.com/ArticleList.nhn?search.clubid=10050146&search.menuid=334&userDisplay=50&search.boardtype=L&search.specialmenutype=&search.totalCount=8501&search.cafeId=10050146&search.page=166\n",
      "현재 페이지: 167     https://cafe.naver.com/ArticleList.nhn?search.clubid=10050146&search.menuid=334&userDisplay=50&search.boardtype=L&search.specialmenutype=&search.totalCount=8501&search.cafeId=10050146&search.page=167\n",
      "detail_page: 965532210, 965531888, 965531736, 965531483, 965531129, 965530834, 965529752, 965529625, 965529330, 965529207, 965529073, 965528877, 965527924, 965526812, 965525187, 965524209, 965523973, 965523095, 965522469, 965522468, 965522418, 965522186, 965522041, 965521492, 965520961, 965520857, 965520724, 965519848, 965519341, 965519205, 965519005, 965518550, 965517725, 965517671, 965517411, 965516836, 965516479, 965516431, 965515730, 965514913, 965514831, 965514748, 965514593, 965513790, 965513730, 965513542, 965513486, 965513283, 965513267, 965513061, \n",
      "현재 페이지: 167     https://cafe.naver.com/ArticleList.nhn?search.clubid=10050146&search.menuid=334&userDisplay=50&search.boardtype=L&search.specialmenutype=&search.totalCount=8501&search.cafeId=10050146&search.page=167\n",
      "현재 페이지: 168     https://cafe.naver.com/ArticleList.nhn?search.clubid=10050146&search.menuid=334&userDisplay=50&search.boardtype=L&search.specialmenutype=&search.totalCount=8501&search.cafeId=10050146&search.page=168\n",
      "detail_page: 965512887, 965512864, 965512677, 965512652, 965512529, 965512306, 965512185, 965511716, 965511333, 965511237, 965510942, 965510635, 965510450, 965510165, 965510111, 965510083, 965509965, 965509959, 965509858, 965509583, 965509035, 965508901, 965508588, 965508401, 965508062, 965508030, 965507845, 965507841, 965507637, 965507227, 965507155, 965506913, 965506302, 965504811, 965504506, 965504319, 965504121, 965503987, 965503793, 965503710, 965503555, 965503302, 965502560, 965502509, 965502202, 965502045, 965501813, 965501284, 965501119, 965501095, \n",
      "현재 페이지: 168     https://cafe.naver.com/ArticleList.nhn?search.clubid=10050146&search.menuid=334&userDisplay=50&search.boardtype=L&search.specialmenutype=&search.totalCount=8501&search.cafeId=10050146&search.page=168\n",
      "현재 페이지: 169     https://cafe.naver.com/ArticleList.nhn?search.clubid=10050146&search.menuid=334&userDisplay=50&search.boardtype=L&search.specialmenutype=&search.totalCount=8501&search.cafeId=10050146&search.page=169\n",
      "detail_page: 965501119, 965501095, 965500672, 965500218, 965500064, 965499992, 965499984, 965499812, 965499797, 965498957, 965498790, 965498264, 965498248, 965498130, 965498032, 965497976, 965497766, 965497660, 965497616, 965497426, 965496763, 965496725, 965496487, 965496352, 965495938, 965495820, 965494486, 965494169, 965493305, 965492556, 965492356, 965491996, 965491971, 965491634, 965491577, 965491379, 965491174, 965491011, 965490831, 965490814, 965490713, 965490615, 965490583, 965490515, 965490353, 965490179, 965490140, 965489457, 965488968, 965488865, \n",
      "현재 페이지: 169     https://cafe.naver.com/ArticleList.nhn?search.clubid=10050146&search.menuid=334&userDisplay=50&search.boardtype=L&search.specialmenutype=&search.totalCount=8501&search.cafeId=10050146&search.page=169\n",
      "현재 페이지: 170     https://cafe.naver.com/ArticleList.nhn?search.clubid=10050146&search.menuid=334&userDisplay=50&search.boardtype=L&search.specialmenutype=&search.totalCount=8501&search.cafeId=10050146&search.page=170\n",
      "detail_page: 965488212, 965487928, 965487151, 965487005, 965486839, 965486744, 965486405, 965486375, 965486335, 965486288, 965486250, 965486226, 965485810, 965485799, 965485468, 965485367, 965484893, 965484659, 965484151, 965484127, 965484080, 965484053, 965484041, 965484004, 965483972, 965483897, 965483806, 965483765, 965483666, 965483582, 965482846, 965481957, 965481687, 965481170, 965480764, 965480745, 965480341, 965479680, 965479572, 965479308, 965478497, 965478475, 965478406, 965478366, 965477680, 965477059, 965475698, 965475693, 965475031, 965474722, \n",
      "현재 페이지: 170     https://cafe.naver.com/ArticleList.nhn?search.clubid=10050146&search.menuid=334&userDisplay=50&search.boardtype=L&search.specialmenutype=&search.totalCount=8501&search.cafeId=10050146&search.page=170\n",
      "현재 페이지: 171     https://cafe.naver.com/ArticleList.nhn?search.clubid=10050146&search.menuid=334&userDisplay=50&search.boardtype=L&search.specialmenutype=&search.totalCount=8501&search.cafeId=10050146&search.page=171\n",
      "detail_page: 965475693, 965475031, 965474722, 965473978, 965473359, 965473137, 965472888, 965472852, 965472771, 965472329, 965472190, 965472079, 965471401, 965471367, 965471307, 965470331, 965470230, 965469151, 965468939, 965468802, 965467994, 965467210, 965466852, 965466777, 965465926, 965465844, 965465261, 965464764, 965463381, 965462310, 965461470, 965460681, 965460034, 965459870, 965458582, 965458448, 965458309, 965456256, 965454991, 965454726, 965454516, 965454504, 965453994, 965453774, 965453369, 965453270, 965453153, 965452799, 965452643, 965452260, \n",
      "현재 페이지: 171     https://cafe.naver.com/ArticleList.nhn?search.clubid=10050146&search.menuid=334&userDisplay=50&search.boardtype=L&search.specialmenutype=&search.totalCount=8501&search.cafeId=10050146&search.page=171\n",
      "현재 페이지: 172     https://cafe.naver.com/ArticleList.nhn?search.clubid=10050146&search.menuid=334&userDisplay=50&search.boardtype=L&search.specialmenutype=&search.totalCount=9001&search.cafeId=10050146&search.page=172\n",
      "detail_page: 965451725, 965450885, 965450558, 965450469, 965449934, 965449736, 965449579, 965448614, 965447988, 965447152, 965446957, 965446404, 965446022, 965445745, 965445391, 965445120, 965444010, 965443975, 965443099, 965441522, 965441179, 965440931, 965440753, 965440676, 965440408, 965440358, 965440347, 965440328, 965440197, 965440068, 965439987, 965439941, 965439315, 965439149, 965439141, 965439093, 965438676, 965438670, 965438635, 965438570, 965438444, 965438334, 965438193, 965437817, 965437591, 965437570, 965437455, 965437446, 965437294, 965437150, \n",
      "현재 페이지: 172     https://cafe.naver.com/ArticleList.nhn?search.clubid=10050146&search.menuid=334&userDisplay=50&search.boardtype=L&search.specialmenutype=&search.totalCount=9001&search.cafeId=10050146&search.page=172\n",
      "현재 페이지: 173     https://cafe.naver.com/ArticleList.nhn?search.clubid=10050146&search.menuid=334&userDisplay=50&search.boardtype=L&search.specialmenutype=&search.totalCount=9001&search.cafeId=10050146&search.page=173\n",
      "detail_page: 965437150, 965437146, 965436833, 965436794, 965436699, 965436585, 965436552, 965436462, 965436378, 965436185, 965436020, 965435435, 965435240, 965435048, 965434803, 965434756, 965434533, 965434425, 965434314, 965434262, 965434247, 965433380, 965433273, 965433178, 965433158, 965433066, 965432994, 965432894, 965432706, 965432284, 965432283, 965432267, 965432187, 965432037, 965431965, 965431651, 965431642, 965431473, 965431407, 965431026, 965430933, 965430691, 965430620, 965430601, 965430299, 965430171, 965430006, 965429707, 965429698, 965429641, \n",
      "현재 페이지: 173     https://cafe.naver.com/ArticleList.nhn?search.clubid=10050146&search.menuid=334&userDisplay=50&search.boardtype=L&search.specialmenutype=&search.totalCount=9001&search.cafeId=10050146&search.page=173\n",
      "현재 페이지: 174     https://cafe.naver.com/ArticleList.nhn?search.clubid=10050146&search.menuid=334&userDisplay=50&search.boardtype=L&search.specialmenutype=&search.totalCount=9001&search.cafeId=10050146&search.page=174\n",
      "detail_page: 965429021, 965428967, 965428846, 965428835, 965428640, 965428394, 965428336, 965428310, 965427989, 965427843, 965427810, 965427426, 965427326, 965427282, 965427235, 965427180, 965427075, 965427028, 965426934, 965426174, 965426160, 965426053, 965425856, 965425792, 965425723, 965425681, 965425582, 965425504, 965424888, 965424671, 965424469, 965424247, 965423795, 965423766, 965423472, 965423173, 965423134, 965422923, 965422903, 965422745, 965422499, 965422312, 965422231, 965422162, 965421796, 965420796, 965420727, 965420561, 965420452, 965420347, \n",
      "현재 페이지: 174     https://cafe.naver.com/ArticleList.nhn?search.clubid=10050146&search.menuid=334&userDisplay=50&search.boardtype=L&search.specialmenutype=&search.totalCount=9001&search.cafeId=10050146&search.page=174\n",
      "현재 페이지: 175     https://cafe.naver.com/ArticleList.nhn?search.clubid=10050146&search.menuid=334&userDisplay=50&search.boardtype=L&search.specialmenutype=&search.totalCount=9001&search.cafeId=10050146&search.page=175\n",
      "detail_page: 965420347, 965420328, 965420241, 965419669, 965419434, 965419399, 965419181, 965419151, 965418870, 965418834, 965418689, 965418625, 965418623, 965418584, 965418508, 965418067, 965418006, 965417782, 965417725, 965417614, 965417592, 965417410, 965417311, 965417309, 965417033, 965417014, 965416913, 965416733, 965416148, 965416103, 965416023, 965415905, 965415800, 965415618, 965415572, 965415115, 965415034, 965414997, 965414967, 965414916, 965414863, 965414821, 965414532, 965414402, 965414364, 965414259, 965414194, 965414060, 965414004, 965413218, \n",
      "현재 페이지: 175     https://cafe.naver.com/ArticleList.nhn?search.clubid=10050146&search.menuid=334&userDisplay=50&search.boardtype=L&search.specialmenutype=&search.totalCount=9001&search.cafeId=10050146&search.page=175\n",
      "현재 페이지: 176     https://cafe.naver.com/ArticleList.nhn?search.clubid=10050146&search.menuid=334&userDisplay=50&search.boardtype=L&search.specialmenutype=&search.totalCount=9001&search.cafeId=10050146&search.page=176\n",
      "detail_page: 965413053, 965413051, 965412901, 965412774, 965412724, 965412651, 965412462, 965412172, 965412097, 965411815, 965411732, 965411624, 965411597, 965411527, 965410912, 965410838, 965410377, 965410264, 965410041, 965410026, 965409829, 965409471, 965409435, 965409427, 965409368, 965409308, 965408756, 965408605, 965408331, 965408039, 965407704, 965407582, 965407297, 965406890, 965406598, 965406574, 965406550, 965406519, 965406451, 965406445, 965406429, 965406299, 965406229, 965405953, 965405856, 965405579, 965405420, 965405020, 965404598, 965403630, \n",
      "현재 페이지: 176     https://cafe.naver.com/ArticleList.nhn?search.clubid=10050146&search.menuid=334&userDisplay=50&search.boardtype=L&search.specialmenutype=&search.totalCount=9001&search.cafeId=10050146&search.page=176\n",
      "현재 페이지: 177     https://cafe.naver.com/ArticleList.nhn?search.clubid=10050146&search.menuid=334&userDisplay=50&search.boardtype=L&search.specialmenutype=&search.totalCount=9001&search.cafeId=10050146&search.page=177\n"
     ]
    },
    {
     "name": "stdout",
     "output_type": "stream",
     "text": [
      "detail_page: 965403579, 965403450, 965402962, 965402950, 965402867, 965402846, 965402836, 965402630, 965402517, 965402286, 965402199, 965402098, 965402037, 965401842, 965401630, 965401143, 965401084, 965401072, 965400911, 965400898, 965400885, 965400863, 965400857, 965400703, 965400685, 965400375, 965399795, 965399553, 965399508, 965399499, 965399435, 965399050, 965398914, 965398820, 965398766, 965398376, 965398279, 965398243, 965398105, 965397801, 965397685, 965397565, 965397070, 965396984, 965396921, 965396752, 965396665, 965396640, 965396612, 965396185, \n",
      "현재 페이지: 177     https://cafe.naver.com/ArticleList.nhn?search.clubid=10050146&search.menuid=334&userDisplay=50&search.boardtype=L&search.specialmenutype=&search.totalCount=9001&search.cafeId=10050146&search.page=177\n",
      "현재 페이지: 178     https://cafe.naver.com/ArticleList.nhn?search.clubid=10050146&search.menuid=334&userDisplay=50&search.boardtype=L&search.specialmenutype=&search.totalCount=9001&search.cafeId=10050146&search.page=178\n",
      "detail_page: 965395418, 965395308, 965395281, 965395245, 965395161, 965395138, 965394797, 965394478, 965394395, 965394261, 965394169, 965393977, 965393150, 965392940, 965392829, 965392331, 965392253, 965392102, 965391412, 965391409, 965391361, 965391269, 965391174, 965391049, 965390995, 965390742, 965390472, 965390274, 965390059, 965389954, 965389897, 965389866, 965389648, 965389502, 965389359, 965389143, 965388994, 965388545, 965387542, 965387247, 965387154, 965387074, 965387032, 965386798, 965386691, 965386482, 965386238, 965386022, 965385929, 965385903, \n",
      "현재 페이지: 178     https://cafe.naver.com/ArticleList.nhn?search.clubid=10050146&search.menuid=334&userDisplay=50&search.boardtype=L&search.specialmenutype=&search.totalCount=9001&search.cafeId=10050146&search.page=178\n",
      "현재 페이지: 179     https://cafe.naver.com/ArticleList.nhn?search.clubid=10050146&search.menuid=334&userDisplay=50&search.boardtype=L&search.specialmenutype=&search.totalCount=9001&search.cafeId=10050146&search.page=179\n",
      "detail_page: 965385903, 965385798, 965385666, 965385554, 965385441, 965385320, 965385229, 965384966, 965384717, 965384660, 965384489, 965384415, 965384352, 965384198, 965383861, 965383613, 965383485, 965383291, 965383024, 965382956, 965382953, 965382748, 965382099, 965382014, 965381957, 965381925, 965381709, 965381612, 965381608, 965381553, 965381277, 965381065, 965380984, 965380852, 965380290, 965379789, 965379067, 965379059, 965379037, 965379016, 965378843, 965378611, 965378267, 965377926, 965377507, 965377267, 965376922, 965376535, 965376463, 965376348, \n",
      "현재 페이지: 179     https://cafe.naver.com/ArticleList.nhn?search.clubid=10050146&search.menuid=334&userDisplay=50&search.boardtype=L&search.specialmenutype=&search.totalCount=9001&search.cafeId=10050146&search.page=179\n",
      "현재 페이지: 180     https://cafe.naver.com/ArticleList.nhn?search.clubid=10050146&search.menuid=334&userDisplay=50&search.boardtype=L&search.specialmenutype=&search.totalCount=9001&search.cafeId=10050146&search.page=180\n",
      "detail_page: 965376250, 965375978, 965375833, 965375674, 965375612, 965375496, 965375461, 965375382, 965375343, 965374857, 965374381, 965373670, 965373658, 965373608, 965373070, 965372584, 965372473, 965372026, 965371779, 965371302, 965371017, 965371015, 965370673, 965370596, 965370539, 965370320, 965370218, 965370075, 965369788, 965369135, 965368152, 965368106, 965368104, 965368082, 965367965, 965367810, 965367602, 965367128, 965366249, 965366115, 965366065, 965366048, 965366007, 965365944, 965365813, 965365206, 965364313, 965364171, 965363933, 965363739, \n",
      "현재 페이지: 180     https://cafe.naver.com/ArticleList.nhn?search.clubid=10050146&search.menuid=334&userDisplay=50&search.boardtype=L&search.specialmenutype=&search.totalCount=9001&search.cafeId=10050146&search.page=180\n",
      "현재 페이지: 181     https://cafe.naver.com/ArticleList.nhn?search.clubid=10050146&search.menuid=334&userDisplay=50&search.boardtype=L&search.specialmenutype=&search.totalCount=9001&search.cafeId=10050146&search.page=181\n",
      "detail_page: 965363933, 965363739, 965363676, 965363591, 965363433, 965362612, 965361755, 965361703, 965361585, 965361532, 965361251, 965360153, 965360133, 965360113, 965359997, 965359678, 965359477, 965359168, 965359097, 965358095, 965358022, 965357962, 965357919, 965357632, 965357526, 965357523, 965357355, 965357284, 965357246, 965357123, 965357103, 965356569, 965356028, 965355712, 965355443, 965355318, 965355304, 965355183, 965355085, 965354732, 965354295, 965354054, 965353401, 965352961, 965352487, 965352289, 965352148, 965352128, 965352115, 965351758, \n",
      "현재 페이지: 181     https://cafe.naver.com/ArticleList.nhn?search.clubid=10050146&search.menuid=334&userDisplay=50&search.boardtype=L&search.specialmenutype=&search.totalCount=9001&search.cafeId=10050146&search.page=181\n",
      "현재 페이지: 182     https://cafe.naver.com/ArticleList.nhn?search.clubid=10050146&search.menuid=334&userDisplay=50&search.boardtype=L&search.specialmenutype=&search.totalCount=9501&search.cafeId=10050146&search.page=182\n",
      "detail_page: 965351758, 965351668, 965351392, 965351234, 965350721, 965350469, 965349373, 965349242, 965349068, 965348953, 965348951, 965348897, 965348594, 965348538, 965348308, 965347493, 965346875, 965345793, 965345629, 965345575, 965345122, 965345000, 965344589, 965342978, 965342648, 965342609, 965342501, 965342084, 965342028, 965341883, 965341610, 965341593, 965341582, 965341449, 965341441, 965341420, 965341391, 965341251, 965340959, 965340796, 965340778, 965340701, 965340688, 965340236, 965339916, 965339561, 965339044, 965338992, 965338567, 965336601, \n",
      "현재 페이지: 182     https://cafe.naver.com/ArticleList.nhn?search.clubid=10050146&search.menuid=334&userDisplay=50&search.boardtype=L&search.specialmenutype=&search.totalCount=9501&search.cafeId=10050146&search.page=182\n",
      "현재 페이지: 183     https://cafe.naver.com/ArticleList.nhn?search.clubid=10050146&search.menuid=334&userDisplay=50&search.boardtype=L&search.specialmenutype=&search.totalCount=9501&search.cafeId=10050146&search.page=183\n",
      "detail_page: 965335770, 965335533, 965335148, 965335146, 965334540, 965334333, 965333433, 965333146, 965332862, 965332809, 965332770, 965332380, 965331965, 965331168, 965330352, 965329833, 965329827, 965328487, 965328470, 965328371, 965328268, 965328104, 965328020, 965327368, 965326976, 965326761, 965324654, 965324170, 965322756, 965322354, 965322173, 965321951, 965321238, 965320748, 965320580, 965320463, 965320452, 965320205, 965319857, 965319577, 965318811, 965318128, 965318127, 965317898, 965317810, 965317728, 965317127, 965316708, 965316637, 965315976, \n",
      "현재 페이지: 183     https://cafe.naver.com/ArticleList.nhn?search.clubid=10050146&search.menuid=334&userDisplay=50&search.boardtype=L&search.specialmenutype=&search.totalCount=9501&search.cafeId=10050146&search.page=183\n",
      "현재 페이지: 184     https://cafe.naver.com/ArticleList.nhn?search.clubid=10050146&search.menuid=334&userDisplay=50&search.boardtype=L&search.specialmenutype=&search.totalCount=9501&search.cafeId=10050146&search.page=184\n",
      "detail_page: 965315866, 965315732, 965315246, 965315209, 965315046, 965315000, 965314826, 965314790, 965314751, 965313744, 965313445, 965312916, 965312838, 965312352, 965312235, 965312177, 965311748, 965310794, 965310696, 965310175, 965309444, 965309398, 965309356, 965309321, 965309195, 965308568, 965308088, 965307418, 965305656, 965305121, 965304166, 965303099, 965302739, 965301986, 965301982, 965301105, 965301049, 965300180, 965300035, 965299803, 965299088, 965298546, 965298402, 965298187, 965298007, 965297941, 965297767, 965297690, 965296852, 965296476, \n",
      "현재 페이지: 184     https://cafe.naver.com/ArticleList.nhn?search.clubid=10050146&search.menuid=334&userDisplay=50&search.boardtype=L&search.specialmenutype=&search.totalCount=9501&search.cafeId=10050146&search.page=184\n",
      "현재 페이지: 185     https://cafe.naver.com/ArticleList.nhn?search.clubid=10050146&search.menuid=334&userDisplay=50&search.boardtype=L&search.specialmenutype=&search.totalCount=9501&search.cafeId=10050146&search.page=185\n",
      "detail_page: 965296476, 965296468, 965296044, 965295851, 965295825, 965295670, 965295612, 965295373, 965295370, 965295267, 965295171, 965294366, 965293048, 965293026, 965292541, 965292108, 965291592, 965290812, 965290809, 965290765, 965290260, 965290210, 965289555, 965288591, 965288567, 965288495, 965288381, 965287992, 965287770, 965287375, 965287257, 965286499, 965285101, 965284861, 965284590, 965284526, 965284269, 965284041, 965283583, 965283308, 965283021, 965282327, 965281454, 965281220, 965281131, 965280388, 965280288, 965279593, 965278965, 965278337, \n",
      "현재 페이지: 185     https://cafe.naver.com/ArticleList.nhn?search.clubid=10050146&search.menuid=334&userDisplay=50&search.boardtype=L&search.specialmenutype=&search.totalCount=9501&search.cafeId=10050146&search.page=185\n",
      "현재 페이지: 186     https://cafe.naver.com/ArticleList.nhn?search.clubid=10050146&search.menuid=334&userDisplay=50&search.boardtype=L&search.specialmenutype=&search.totalCount=9501&search.cafeId=10050146&search.page=186\n",
      "detail_page: 965276330, 965276313, 965275819, 965275438, 965275406, 965275109, 965274973, 965274924, 965274693, 965274185, 965273968, 965273158, 965273106, 965273020, 965272021, 965271282, 965270844, 965269799, 965269695, 965269672, 965269269, 965268325, 965268044, 965266974, 965266042, 965264791, 965264658, 965264646, 965263975, 965263640, 965263567, 965263420, 965262371, 965261567, 965260974, 965260114, 965256681, 965256460, 965256224, 965255955, 965255815, 965255531, 965255519, 965255159, 965254832, 965253885, 965253454, 965253327, 965253129, 965253114, \n",
      "현재 페이지: 186     https://cafe.naver.com/ArticleList.nhn?search.clubid=10050146&search.menuid=334&userDisplay=50&search.boardtype=L&search.specialmenutype=&search.totalCount=9501&search.cafeId=10050146&search.page=186\n",
      "현재 페이지: 187     https://cafe.naver.com/ArticleList.nhn?search.clubid=10050146&search.menuid=334&userDisplay=50&search.boardtype=L&search.specialmenutype=&search.totalCount=9501&search.cafeId=10050146&search.page=187\n",
      "detail_page: 965253114, 965253069, 965252837, 965252526, 965251976, 965251792, 965251351, 965250952, 965249770, 965249379, 965249120, 965249097, 965248829, 965248359, 965247506, 965245943, 965245487, 965244222, 965244143, 965243970, 965243918, 965243657, 965243547, 965243456, 965243444, 965243275, 965243179, 965242951, 965242896, 965242881, 965242590, 965242534, 965242485, 965242442, 965242117, 965241924, 965241375, 965241205, 965241172, 965241013, 965240747, 965240715, 965240712, 965240680, 965240481, 965240379, 965240285, 965240270, 965240100, 965240084, \n",
      "현재 페이지: 187     https://cafe.naver.com/ArticleList.nhn?search.clubid=10050146&search.menuid=334&userDisplay=50&search.boardtype=L&search.specialmenutype=&search.totalCount=9501&search.cafeId=10050146&search.page=187\n",
      "현재 페이지: 188     https://cafe.naver.com/ArticleList.nhn?search.clubid=10050146&search.menuid=334&userDisplay=50&search.boardtype=L&search.specialmenutype=&search.totalCount=9501&search.cafeId=10050146&search.page=188\n",
      "detail_page: 965240100, 965240084, 965240033, 965239992, 965239782, 965239728, 965239368, 965239190, 965239155, 965239074, 965238927, 965238734, 965238723, 965238603, 965238565, 965238438, 965238178, 965238011, 965238007, 965237412, 965237204, 965237167, 965236891, 965236879, 965236878, 965236835, 965236465, 965236357, 965236341, 965236100, 965236029, 965235831, 965235752, 965235703, 965235649, 965235497, 965235458, 965235333, 965234918, 965234900, 965234807, 965234724, 965234618, 965234478, 965234295, 965234277, 965234071, 965233422, 965233065, 965232783, \n",
      "현재 페이지: 188     https://cafe.naver.com/ArticleList.nhn?search.clubid=10050146&search.menuid=334&userDisplay=50&search.boardtype=L&search.specialmenutype=&search.totalCount=9501&search.cafeId=10050146&search.page=188\n",
      "현재 페이지: 189     https://cafe.naver.com/ArticleList.nhn?search.clubid=10050146&search.menuid=334&userDisplay=50&search.boardtype=L&search.specialmenutype=&search.totalCount=9501&search.cafeId=10050146&search.page=189\n",
      "detail_page: 965232633, 965232503, 965232494, 965232289, 965232166, 965232023, 965231904, 965231835, 965231569, 965231287, 965231181, 965231149, 965230949, 965230799, 965230535, 965230403, 965230398, 965230391, 965230194, 965230069, 965229945, 965229771, 965229671, 965229601, 965229584, 965229570, 965228825, 965228811, 965228804, 965228758, 965228638, 965228541, 965228436, 965228225, 965228181, 965227312, 965227301, 965227270, 965227183, 965226870, 965226832, 965226825, 965226803, 965226629, 965226572, 965226436, 965226310, 965226001, 965225944, 965225870, \n",
      "현재 페이지: 189     https://cafe.naver.com/ArticleList.nhn?search.clubid=10050146&search.menuid=334&userDisplay=50&search.boardtype=L&search.specialmenutype=&search.totalCount=9501&search.cafeId=10050146&search.page=189\n",
      "현재 페이지: 190     https://cafe.naver.com/ArticleList.nhn?search.clubid=10050146&search.menuid=334&userDisplay=50&search.boardtype=L&search.specialmenutype=&search.totalCount=9501&search.cafeId=10050146&search.page=190\n",
      "detail_page: 965225944, 965225870, 965225769, 965225611, 965225608, 965225363, 965224988, 965224907, 965224879, 965224702, 965224640, 965224557, 965224223, 965224195, 965223784, 965223432, 965223431, 965223194, 965223164, 965222924, 965222732, 965222644, 965222518, 965222460, 965222454, 965222237, 965222184, 965222002, 965221968, 965221545, 965221358, 965221346, 965220983, 965220971, 965220835, 965220766, 965220745, 965220724, 965220680, 965220155, 965220135, 965220038, 965219944, 965219928, 965219828, 965219810, 965219599, 965218931, 965218727, 965218451, \n",
      "현재 페이지: 190     https://cafe.naver.com/ArticleList.nhn?search.clubid=10050146&search.menuid=334&userDisplay=50&search.boardtype=L&search.specialmenutype=&search.totalCount=9501&search.cafeId=10050146&search.page=190\n",
      "현재 페이지: 191     https://cafe.naver.com/ArticleList.nhn?search.clubid=10050146&search.menuid=334&userDisplay=50&search.boardtype=L&search.specialmenutype=&search.totalCount=9501&search.cafeId=10050146&search.page=191\n",
      "detail_page: 965218727, 965218451, 965218360, 965218265, 965217633, 965217573, 965217448, 965217238, 965217199, 965217175, 965217058, 965217018, 965216881, 965216700, 965216650, 965216400, 965216273, 965216197, 965216112, 965215945, 965215940, 965215678, 965215655, 965215601, 965215499, 965215261, 965215134, 965215013, 965214974, 965214792, 965214786, 965214282, 965214131, 965213883, 965213828, 965213285, 965212993, 965212924, 965212642, 965212625, 965212605, 965212597, 965212582, 965212480, 965212475, 965212371, 965212327, 965212023, 965211973, 965211941, \n",
      "현재 페이지: 191     https://cafe.naver.com/ArticleList.nhn?search.clubid=10050146&search.menuid=334&userDisplay=50&search.boardtype=L&search.specialmenutype=&search.totalCount=9501&search.cafeId=10050146&search.page=191\n",
      "현재 페이지: 192     https://cafe.naver.com/ArticleList.nhn?search.clubid=10050146&search.menuid=334&userDisplay=50&search.boardtype=L&search.specialmenutype=&search.totalCount=10001&search.cafeId=10050146&search.page=192\n",
      "detail_page: 965211941, 965211845, 965211616, 965211485, 965211401, 965211193, 965211178, 965210986, 965210930, 965210629, 965210486, 965210283, 965210277, 965210254, 965210005, 965209935, 965209778, 965209760, 965209602, 965209468, 965209333, 965209194, 965208721, 965208557, 965208489, 965208321, 965208319, 965207895, 965207618, 965207303, 965207266, 965207003, 965206966, 965206848, 965206723, 965206620, 965206482, 965206429, 965206358, 965206289, 965206279, 965206217, 965206100, 965206019, 965205488, 965205203, 965205153, 965205123, 965205018, 965204978, \n",
      "현재 페이지: 192     https://cafe.naver.com/ArticleList.nhn?search.clubid=10050146&search.menuid=334&userDisplay=50&search.boardtype=L&search.specialmenutype=&search.totalCount=10001&search.cafeId=10050146&search.page=192\n",
      "현재 페이지: 193     https://cafe.naver.com/ArticleList.nhn?search.clubid=10050146&search.menuid=334&userDisplay=50&search.boardtype=L&search.specialmenutype=&search.totalCount=10001&search.cafeId=10050146&search.page=193\n"
     ]
    },
    {
     "name": "stdout",
     "output_type": "stream",
     "text": [
      "detail_page: 965204978, 965204628, 965204435, 965204263, 965204181, 965204130, 965204090, 965203962, 965203856, 965203798, 965203760, 965203747, 965203488, 965203453, 965203360, 965203079, 965203062, 965202984, 965202953, 965202818, 965202792, 965202746, 965202684, 965202675, 965202364, 965202263, 965201780, 965201662, 965201545, 965201370, 965201328, 965201224, 965201050, 965200940, 965200832, 965200557, 965200465, 965200424, 965200408, 965200378, 965200364, 965200300, 965200270, 965200256, 965199979, 965199911, 965199888, 965199689, 965199515, 965199257, \n",
      "현재 페이지: 193     https://cafe.naver.com/ArticleList.nhn?search.clubid=10050146&search.menuid=334&userDisplay=50&search.boardtype=L&search.specialmenutype=&search.totalCount=10001&search.cafeId=10050146&search.page=193\n",
      "현재 페이지: 194     https://cafe.naver.com/ArticleList.nhn?search.clubid=10050146&search.menuid=334&userDisplay=50&search.boardtype=L&search.specialmenutype=&search.totalCount=10001&search.cafeId=10050146&search.page=194\n",
      "detail_page: 965198212, 965198121, 965198079, 965197890, 965197784, 965197770, 965197703, 965197176, 965196745, 965196590, 965196454, 965195953, 965195948, 965195943, 965195798, 965195699, 965195636, 965195626, 965195414, 965195396, 965195103, 965194975, 965194884, 965194390, 965194313, 965194120, 965193952, 965193940, 965192973, 965192951, 965192824, 965192493, 965192474, 965192139, 965191960, 965191517, 965191502, 965191336, 965191072, 965191043, 965190827, 965190743, 965190686, 965190498, 965190157, 965190017, 965189339, 965188060, 965188007, 965187886, \n",
      "현재 페이지: 194     https://cafe.naver.com/ArticleList.nhn?search.clubid=10050146&search.menuid=334&userDisplay=50&search.boardtype=L&search.specialmenutype=&search.totalCount=10001&search.cafeId=10050146&search.page=194\n",
      "현재 페이지: 195     https://cafe.naver.com/ArticleList.nhn?search.clubid=10050146&search.menuid=334&userDisplay=50&search.boardtype=L&search.specialmenutype=&search.totalCount=10001&search.cafeId=10050146&search.page=195\n",
      "detail_page: 965188007, 965187886, 965187838, 965187744, 965187416, 965187257, 965186988, 965186851, 965186372, 965186350, 965185932, 965185923, 965185691, 965185488, 965185465, 965184782, 965184728, 965184712, 965183757, 965183261, 965182623, 965182241, 965181905, 965181791, 965181784, 965180228, 965180071, 965179684, 965179502, 965179273, 965179221, 965179219, 965179173, 965179010, 965178919, 965178799, 965178730, 965178562, 965178306, 965177889, 965177855, 965177320, 965177068, 965176972, 965176838, 965176761, 965176093, 965176012, 965175402, 965175077, \n",
      "현재 페이지: 195     https://cafe.naver.com/ArticleList.nhn?search.clubid=10050146&search.menuid=334&userDisplay=50&search.boardtype=L&search.specialmenutype=&search.totalCount=10001&search.cafeId=10050146&search.page=195\n",
      "현재 페이지: 196     https://cafe.naver.com/ArticleList.nhn?search.clubid=10050146&search.menuid=334&userDisplay=50&search.boardtype=L&search.specialmenutype=&search.totalCount=10001&search.cafeId=10050146&search.page=196\n",
      "detail_page: 965175077, 965174672, 965174639, 965174433, 965174185, 965174131, 965173898, 965173784, 965173169, 965172351, 965172223, 965171969, 965171340, 965171148, 965171115, 965170756, 965169805, 965169332, 965169204, 965169045, 965168974, 965168860, 965168656, 965168654, 965168397, 965168206, 965168130, 965168033, 965167998, 965167227, 965167070, 965166910, 965166433, 965166345, 965165930, 965165755, 965165613, 965164916, 965164645, 965163941, 965163600, 965163220, 965162446, 965161884, 965161530, 965160380, 965160017, 965159862, 965159726, 965159610, \n",
      "현재 페이지: 196     https://cafe.naver.com/ArticleList.nhn?search.clubid=10050146&search.menuid=334&userDisplay=50&search.boardtype=L&search.specialmenutype=&search.totalCount=10001&search.cafeId=10050146&search.page=196\n",
      "현재 페이지: 197     https://cafe.naver.com/ArticleList.nhn?search.clubid=10050146&search.menuid=334&userDisplay=50&search.boardtype=L&search.specialmenutype=&search.totalCount=10001&search.cafeId=10050146&search.page=197\n",
      "detail_page: 965159516, 965159373, 965158920, 965158764, 965158193, 965157235, 965156502, 965156213, 965156127, 965156111, 965155817, 965154652, 965154502, 965154357, 965153846, 965152768, 965152463, 965152401, 965151127, 965151121, 965150767, 965150540, 965149707, 965149355, 965149340, 965149051, 965147536, 965147034, 965146754, 965146548, 965144799, 965144394, 965143776, 965143510, 965143102, 965142868, 965142638, 965140313, 965139667, 965139665, 965139317, 965139058, 965138895, 965138653, 965138307, 965137896, 965136229, 965135462, 965135145, 965134991, \n",
      "현재 페이지: 197     https://cafe.naver.com/ArticleList.nhn?search.clubid=10050146&search.menuid=334&userDisplay=50&search.boardtype=L&search.specialmenutype=&search.totalCount=10001&search.cafeId=10050146&search.page=197\n",
      "현재 페이지: 198     https://cafe.naver.com/ArticleList.nhn?search.clubid=10050146&search.menuid=334&userDisplay=50&search.boardtype=L&search.specialmenutype=&search.totalCount=10001&search.cafeId=10050146&search.page=198\n",
      "detail_page: 965135145, 965134991, 965134291, 965134259, 965134000, 965133863, 965132557, 965132278, 965132075, 965131631, 965131270, 965130952, 965130392, 965129921, 965129521, 965127514, 965127241, 965127134, 965127008, 965126736, 965126635, 965126436, 965126375, 965125968, 965125755, 965125461, 965125316, 965124734, 965124554, 965124508, 965124428, 965124365, 965124290, 965124135, 965123886, 965123734, 965122564, 965122140, 965121624, 965121362, 965121211, 965120427, 965120266, 965119897, 965119792, 965119293, 965119237, 965119043, 965118986, 965118224, \n",
      "현재 페이지: 198     https://cafe.naver.com/ArticleList.nhn?search.clubid=10050146&search.menuid=334&userDisplay=50&search.boardtype=L&search.specialmenutype=&search.totalCount=10001&search.cafeId=10050146&search.page=198\n",
      "현재 페이지: 199     https://cafe.naver.com/ArticleList.nhn?search.clubid=10050146&search.menuid=334&userDisplay=50&search.boardtype=L&search.specialmenutype=&search.totalCount=10001&search.cafeId=10050146&search.page=199\n",
      "detail_page: 965117532, 965116785, 965116524, 965116488, 965116429, 965116375, 965115679, 965115645, 965115294, 965113996, 965112529, 965112279, 965111795, 965111571, 965111525, 965110907, 965110723, 965110685, 965110612, 965110304, 965109838, 965109675, 965109521, 965108563, 965108528, 965107702, 965107220, 965107038, 965106852, 965106843, 965106651, 965106414, 965106320, 965105923, 965105847, 965105441, 965105269, 965104893, 965104858, 965104838, 965104697, 965104585, 965104300, 965104295, 965104068, 965104047, 965103951, 965103909, 965103793, 965103104, \n",
      "현재 페이지: 199     https://cafe.naver.com/ArticleList.nhn?search.clubid=10050146&search.menuid=334&userDisplay=50&search.boardtype=L&search.specialmenutype=&search.totalCount=10001&search.cafeId=10050146&search.page=199\n",
      "현재 페이지: 200     https://cafe.naver.com/ArticleList.nhn?search.clubid=10050146&search.menuid=334&userDisplay=50&search.boardtype=L&search.specialmenutype=&search.totalCount=10001&search.cafeId=10050146&search.page=200\n",
      "detail_page: 965102108, 965101806, 965101292, 965100834, 965100319, 965099852, 965099650, 965098524, 965098269, 965097271, 965097201, 965096769, 965096577, 965096066, 965095370, 965094667, 965094588, 965094214, 965094210, 965093798, 965093341, 965093332, 965093015, 965093004, 965090868, 965090254, 965090060, 965089939, 965089694, 965089406, 965088405, 965088368, 965087956, 965087841, 965087583, 965086250, 965085894, 965085661, 965085653, 965085505, 965085421, 965084598, 965083873, 965083165, 965082729, 965081979, 965081960, 965081869, 965081469, 965081395, \n",
      "목표 달성 멈춤 10000\n"
     ]
    }
   ],
   "source": [
    "target_data_len = 10000\n",
    "\n",
    "next_url = \"https://cafe.naver.com/ArticleList.nhn?search.clubid=10050146&search.boardtype=L&search.menuid=334&search.marketBoardTab=D&search.specialmenutype=&userDisplay=50\"\n",
    "api_url = \"https://apis.naver.com/cafe-web/cafe-articleapi/v2/cafes/10050146/articles/{board_num}?query=&menuId=334&boardType=L&useCafeId=true&requestFrom=A\"\n",
    "\n",
    "data_list = []\n",
    "old_url = resp.request.url\n",
    "while True:\n",
    "  try:\n",
    "    sleep(2.2)\n",
    "    headers = base_headers.copy()\n",
    "    headers.update({'referer': old_url})\n",
    "    resp = s.get(next_url, headers=headers)\n",
    "    list_soup = BeautifulSoup(resp.text)\n",
    "    parsed_listing = list_page_parsing(list_soup)\n",
    "\n",
    "    page_num = dict(parse_qsl(urlparse(next_url).query)).get('search.page', 1)\n",
    "\n",
    "    old_url = next_url\n",
    "    print(\"현재 페이지:\", page_num, \"   \", old_url)\n",
    "\n",
    "    print('detail_page:', end=\" \")\n",
    "    for parsed_item in parsed_listing:\n",
    "      detail_visible_url = urljoin(resp.request.url, parsed_item['content_url'])\n",
    "      headers.update({'referer': detail_visible_url, 'accept': 'application/json, text/plain, */*', 'x-cafe-product': 'pc'})\n",
    "      detail_api_url = api_url.format(board_num=parsed_item['board_num'])\n",
    "      detail_api_resp = s.get(detail_api_url, headers=headers)\n",
    "\n",
    "      \n",
    "      parsed_item['detail_status'] = detail_api_resp.status_code\n",
    "      parsed_item['detail_json'] = detail_api_resp.json()\n",
    "      print(parsed_item['board_num'], end=\", \")\n",
    "      \n",
    "      sleep(0.3)\n",
    "      data_list.append(parsed_item)\n",
    "    \n",
    "    next_url = find_next_page_url(list_soup)\n",
    "    next_url = urljoin(resp.request.url, next_url)\n",
    "    print()\n",
    "    if old_url == next_url:\n",
    "      print(\"에러 발생\", old_url, next_url, sep=\"\\n\")\n",
    "      break\n",
    "    \n",
    "    if len(data_list) >= target_data_len:\n",
    "      print(\"목표 달성 멈춤\", len(data_list))\n",
    "      break\n",
    "    print(\"현재 페이지:\", page_num, \"   \", old_url)\n",
    "  except:\n",
    "    sleep(3)\n",
    "\n"
   ]
  },
  {
   "cell_type": "code",
   "execution_count": 27,
   "metadata": {
    "id": "OuUz36lIIYXZ"
   },
   "outputs": [],
   "source": [
    "import pandas as pd"
   ]
  },
  {
   "cell_type": "code",
   "execution_count": 28,
   "metadata": {
    "colab": {
     "base_uri": "https://localhost:8080/",
     "height": 49
    },
    "executionInfo": {
     "elapsed": 7,
     "status": "ok",
     "timestamp": 1672036325871,
     "user": {
      "displayName": "신윤수",
      "userId": "03463619311649438280"
     },
     "user_tz": -540
    },
    "id": "UwpshJADINLA",
    "outputId": "eb76265f-c3ea-4a42-e126-8f5baa11d6a5"
   },
   "outputs": [
    {
     "data": {
      "text/html": [
       "<div>\n",
       "<style scoped>\n",
       "    .dataframe tbody tr th:only-of-type {\n",
       "        vertical-align: middle;\n",
       "    }\n",
       "\n",
       "    .dataframe tbody tr th {\n",
       "        vertical-align: top;\n",
       "    }\n",
       "\n",
       "    .dataframe thead th {\n",
       "        text-align: right;\n",
       "    }\n",
       "</style>\n",
       "<table border=\"1\" class=\"dataframe\">\n",
       "  <thead>\n",
       "    <tr style=\"text-align: right;\">\n",
       "      <th></th>\n",
       "    </tr>\n",
       "  </thead>\n",
       "  <tbody>\n",
       "  </tbody>\n",
       "</table>\n",
       "</div>"
      ],
      "text/plain": [
       "Empty DataFrame\n",
       "Columns: []\n",
       "Index: []"
      ]
     },
     "execution_count": 28,
     "metadata": {},
     "output_type": "execute_result"
    }
   ],
   "source": [
    "sample = pd.DataFrame()\n",
    "sample"
   ]
  },
  {
   "cell_type": "code",
   "execution_count": 29,
   "metadata": {
    "colab": {
     "base_uri": "https://localhost:8080/"
    },
    "executionInfo": {
     "elapsed": 294,
     "status": "ok",
     "timestamp": 1672036332715,
     "user": {
      "displayName": "신윤수",
      "userId": "03463619311649438280"
     },
     "user_tz": -540
    },
    "id": "Z7ehTHTcIT8K",
    "outputId": "a03b1a46-a72c-42e4-915a-a84103ba055e"
   },
   "outputs": [
    {
     "data": {
      "text/plain": [
       "['T',\n",
       " '_AXIS_LEN',\n",
       " '_AXIS_ORDERS',\n",
       " '_AXIS_TO_AXIS_NUMBER',\n",
       " '_HANDLED_TYPES',\n",
       " '__abs__',\n",
       " '__add__',\n",
       " '__and__',\n",
       " '__annotations__',\n",
       " '__array__',\n",
       " '__array_priority__',\n",
       " '__array_ufunc__',\n",
       " '__array_wrap__',\n",
       " '__bool__',\n",
       " '__class__',\n",
       " '__contains__',\n",
       " '__copy__',\n",
       " '__dataframe__',\n",
       " '__deepcopy__',\n",
       " '__delattr__',\n",
       " '__delitem__',\n",
       " '__dict__',\n",
       " '__dir__',\n",
       " '__divmod__',\n",
       " '__doc__',\n",
       " '__eq__',\n",
       " '__finalize__',\n",
       " '__floordiv__',\n",
       " '__format__',\n",
       " '__ge__',\n",
       " '__getattr__',\n",
       " '__getattribute__',\n",
       " '__getitem__',\n",
       " '__getstate__',\n",
       " '__gt__',\n",
       " '__hash__',\n",
       " '__iadd__',\n",
       " '__iand__',\n",
       " '__ifloordiv__',\n",
       " '__imod__',\n",
       " '__imul__',\n",
       " '__init__',\n",
       " '__init_subclass__',\n",
       " '__invert__',\n",
       " '__ior__',\n",
       " '__ipow__',\n",
       " '__isub__',\n",
       " '__iter__',\n",
       " '__itruediv__',\n",
       " '__ixor__',\n",
       " '__le__',\n",
       " '__len__',\n",
       " '__lt__',\n",
       " '__matmul__',\n",
       " '__mod__',\n",
       " '__module__',\n",
       " '__mul__',\n",
       " '__ne__',\n",
       " '__neg__',\n",
       " '__new__',\n",
       " '__nonzero__',\n",
       " '__or__',\n",
       " '__pos__',\n",
       " '__pow__',\n",
       " '__radd__',\n",
       " '__rand__',\n",
       " '__rdivmod__',\n",
       " '__reduce__',\n",
       " '__reduce_ex__',\n",
       " '__repr__',\n",
       " '__rfloordiv__',\n",
       " '__rmatmul__',\n",
       " '__rmod__',\n",
       " '__rmul__',\n",
       " '__ror__',\n",
       " '__round__',\n",
       " '__rpow__',\n",
       " '__rsub__',\n",
       " '__rtruediv__',\n",
       " '__rxor__',\n",
       " '__setattr__',\n",
       " '__setitem__',\n",
       " '__setstate__',\n",
       " '__sizeof__',\n",
       " '__str__',\n",
       " '__sub__',\n",
       " '__subclasshook__',\n",
       " '__truediv__',\n",
       " '__weakref__',\n",
       " '__xor__',\n",
       " '_accessors',\n",
       " '_accum_func',\n",
       " '_add_numeric_operations',\n",
       " '_agg_by_level',\n",
       " '_agg_examples_doc',\n",
       " '_agg_summary_and_see_also_doc',\n",
       " '_align_frame',\n",
       " '_align_series',\n",
       " '_append',\n",
       " '_arith_method',\n",
       " '_as_manager',\n",
       " '_attrs',\n",
       " '_box_col_values',\n",
       " '_can_fast_transpose',\n",
       " '_check_inplace_and_allows_duplicate_labels',\n",
       " '_check_inplace_setting',\n",
       " '_check_is_chained_assignment_possible',\n",
       " '_check_label_or_level_ambiguity',\n",
       " '_check_setitem_copy',\n",
       " '_clear_item_cache',\n",
       " '_clip_with_one_bound',\n",
       " '_clip_with_scalar',\n",
       " '_cmp_method',\n",
       " '_combine_frame',\n",
       " '_consolidate',\n",
       " '_consolidate_inplace',\n",
       " '_construct_axes_dict',\n",
       " '_construct_axes_from_arguments',\n",
       " '_construct_result',\n",
       " '_constructor',\n",
       " '_constructor_sliced',\n",
       " '_convert',\n",
       " '_count_level',\n",
       " '_data',\n",
       " '_dir_additions',\n",
       " '_dir_deletions',\n",
       " '_dispatch_frame_op',\n",
       " '_drop_axis',\n",
       " '_drop_labels_or_levels',\n",
       " '_ensure_valid_index',\n",
       " '_find_valid_index',\n",
       " '_flags',\n",
       " '_from_arrays',\n",
       " '_get_agg_axis',\n",
       " '_get_axis',\n",
       " '_get_axis_name',\n",
       " '_get_axis_number',\n",
       " '_get_axis_resolvers',\n",
       " '_get_block_manager_axis',\n",
       " '_get_bool_data',\n",
       " '_get_cleaned_column_resolvers',\n",
       " '_get_column_array',\n",
       " '_get_index_resolvers',\n",
       " '_get_item_cache',\n",
       " '_get_label_or_level_values',\n",
       " '_get_numeric_data',\n",
       " '_get_value',\n",
       " '_getitem_bool_array',\n",
       " '_getitem_multilevel',\n",
       " '_gotitem',\n",
       " '_hidden_attrs',\n",
       " '_indexed_same',\n",
       " '_info_axis',\n",
       " '_info_axis_name',\n",
       " '_info_axis_number',\n",
       " '_info_repr',\n",
       " '_init_mgr',\n",
       " '_inplace_method',\n",
       " '_internal_names',\n",
       " '_internal_names_set',\n",
       " '_is_copy',\n",
       " '_is_homogeneous_type',\n",
       " '_is_label_or_level_reference',\n",
       " '_is_label_reference',\n",
       " '_is_level_reference',\n",
       " '_is_mixed_type',\n",
       " '_is_view',\n",
       " '_iset_item',\n",
       " '_iset_item_mgr',\n",
       " '_iset_not_inplace',\n",
       " '_item_cache',\n",
       " '_iter_column_arrays',\n",
       " '_ixs',\n",
       " '_join_compat',\n",
       " '_logical_func',\n",
       " '_logical_method',\n",
       " '_maybe_cache_changed',\n",
       " '_maybe_update_cacher',\n",
       " '_metadata',\n",
       " '_mgr',\n",
       " '_min_count_stat_function',\n",
       " '_needs_reindex_multi',\n",
       " '_protect_consolidate',\n",
       " '_reduce',\n",
       " '_reduce_axis1',\n",
       " '_reindex_axes',\n",
       " '_reindex_columns',\n",
       " '_reindex_index',\n",
       " '_reindex_multi',\n",
       " '_reindex_with_indexers',\n",
       " '_rename',\n",
       " '_replace_columnwise',\n",
       " '_repr_data_resource_',\n",
       " '_repr_fits_horizontal_',\n",
       " '_repr_fits_vertical_',\n",
       " '_repr_html_',\n",
       " '_repr_latex_',\n",
       " '_reset_cache',\n",
       " '_reset_cacher',\n",
       " '_sanitize_column',\n",
       " '_series',\n",
       " '_set_axis',\n",
       " '_set_axis_name',\n",
       " '_set_axis_nocheck',\n",
       " '_set_is_copy',\n",
       " '_set_item',\n",
       " '_set_item_frame_value',\n",
       " '_set_item_mgr',\n",
       " '_set_value',\n",
       " '_setitem_array',\n",
       " '_setitem_frame',\n",
       " '_setitem_slice',\n",
       " '_slice',\n",
       " '_stat_axis',\n",
       " '_stat_axis_name',\n",
       " '_stat_axis_number',\n",
       " '_stat_function',\n",
       " '_stat_function_ddof',\n",
       " '_take',\n",
       " '_take_with_is_copy',\n",
       " '_to_dict_of_blocks',\n",
       " '_typ',\n",
       " '_update_inplace',\n",
       " '_validate_dtype',\n",
       " '_values',\n",
       " '_where',\n",
       " 'abs',\n",
       " 'add',\n",
       " 'add_prefix',\n",
       " 'add_suffix',\n",
       " 'agg',\n",
       " 'aggregate',\n",
       " 'align',\n",
       " 'all',\n",
       " 'any',\n",
       " 'append',\n",
       " 'apply',\n",
       " 'applymap',\n",
       " 'asfreq',\n",
       " 'asof',\n",
       " 'assign',\n",
       " 'astype',\n",
       " 'at',\n",
       " 'at_time',\n",
       " 'attrs',\n",
       " 'axes',\n",
       " 'backfill',\n",
       " 'between_time',\n",
       " 'bfill',\n",
       " 'bool',\n",
       " 'boxplot',\n",
       " 'clip',\n",
       " 'columns',\n",
       " 'combine',\n",
       " 'combine_first',\n",
       " 'compare',\n",
       " 'convert_dtypes',\n",
       " 'copy',\n",
       " 'corr',\n",
       " 'corrwith',\n",
       " 'count',\n",
       " 'cov',\n",
       " 'cummax',\n",
       " 'cummin',\n",
       " 'cumprod',\n",
       " 'cumsum',\n",
       " 'describe',\n",
       " 'diff',\n",
       " 'div',\n",
       " 'divide',\n",
       " 'dot',\n",
       " 'drop',\n",
       " 'drop_duplicates',\n",
       " 'droplevel',\n",
       " 'dropna',\n",
       " 'dtypes',\n",
       " 'duplicated',\n",
       " 'empty',\n",
       " 'eq',\n",
       " 'equals',\n",
       " 'eval',\n",
       " 'ewm',\n",
       " 'expanding',\n",
       " 'explode',\n",
       " 'ffill',\n",
       " 'fillna',\n",
       " 'filter',\n",
       " 'first',\n",
       " 'first_valid_index',\n",
       " 'flags',\n",
       " 'floordiv',\n",
       " 'from_dict',\n",
       " 'from_records',\n",
       " 'ge',\n",
       " 'get',\n",
       " 'groupby',\n",
       " 'gt',\n",
       " 'head',\n",
       " 'hist',\n",
       " 'iat',\n",
       " 'idxmax',\n",
       " 'idxmin',\n",
       " 'iloc',\n",
       " 'index',\n",
       " 'infer_objects',\n",
       " 'info',\n",
       " 'insert',\n",
       " 'interpolate',\n",
       " 'isetitem',\n",
       " 'isin',\n",
       " 'isna',\n",
       " 'isnull',\n",
       " 'items',\n",
       " 'iteritems',\n",
       " 'iterrows',\n",
       " 'itertuples',\n",
       " 'join',\n",
       " 'keys',\n",
       " 'kurt',\n",
       " 'kurtosis',\n",
       " 'last',\n",
       " 'last_valid_index',\n",
       " 'le',\n",
       " 'loc',\n",
       " 'lookup',\n",
       " 'lt',\n",
       " 'mad',\n",
       " 'mask',\n",
       " 'max',\n",
       " 'mean',\n",
       " 'median',\n",
       " 'melt',\n",
       " 'memory_usage',\n",
       " 'merge',\n",
       " 'min',\n",
       " 'mod',\n",
       " 'mode',\n",
       " 'mul',\n",
       " 'multiply',\n",
       " 'ndim',\n",
       " 'ne',\n",
       " 'nlargest',\n",
       " 'notna',\n",
       " 'notnull',\n",
       " 'nsmallest',\n",
       " 'nunique',\n",
       " 'pad',\n",
       " 'pct_change',\n",
       " 'pipe',\n",
       " 'pivot',\n",
       " 'pivot_table',\n",
       " 'plot',\n",
       " 'pop',\n",
       " 'pow',\n",
       " 'prod',\n",
       " 'product',\n",
       " 'quantile',\n",
       " 'query',\n",
       " 'radd',\n",
       " 'rank',\n",
       " 'rdiv',\n",
       " 'reindex',\n",
       " 'reindex_like',\n",
       " 'rename',\n",
       " 'rename_axis',\n",
       " 'reorder_levels',\n",
       " 'replace',\n",
       " 'resample',\n",
       " 'reset_index',\n",
       " 'rfloordiv',\n",
       " 'rmod',\n",
       " 'rmul',\n",
       " 'rolling',\n",
       " 'round',\n",
       " 'rpow',\n",
       " 'rsub',\n",
       " 'rtruediv',\n",
       " 'sample',\n",
       " 'select_dtypes',\n",
       " 'sem',\n",
       " 'set_axis',\n",
       " 'set_flags',\n",
       " 'set_index',\n",
       " 'shape',\n",
       " 'shift',\n",
       " 'size',\n",
       " 'skew',\n",
       " 'slice_shift',\n",
       " 'sort_index',\n",
       " 'sort_values',\n",
       " 'sparse',\n",
       " 'squeeze',\n",
       " 'stack',\n",
       " 'std',\n",
       " 'style',\n",
       " 'sub',\n",
       " 'subtract',\n",
       " 'sum',\n",
       " 'swapaxes',\n",
       " 'swaplevel',\n",
       " 'tail',\n",
       " 'take',\n",
       " 'to_clipboard',\n",
       " 'to_csv',\n",
       " 'to_dict',\n",
       " 'to_excel',\n",
       " 'to_feather',\n",
       " 'to_gbq',\n",
       " 'to_hdf',\n",
       " 'to_html',\n",
       " 'to_json',\n",
       " 'to_latex',\n",
       " 'to_markdown',\n",
       " 'to_numpy',\n",
       " 'to_orc',\n",
       " 'to_parquet',\n",
       " 'to_period',\n",
       " 'to_pickle',\n",
       " 'to_records',\n",
       " 'to_sql',\n",
       " 'to_stata',\n",
       " 'to_string',\n",
       " 'to_timestamp',\n",
       " 'to_xarray',\n",
       " 'to_xml',\n",
       " 'transform',\n",
       " 'transpose',\n",
       " 'truediv',\n",
       " 'truncate',\n",
       " 'tz_convert',\n",
       " 'tz_localize',\n",
       " 'unstack',\n",
       " 'update',\n",
       " 'value_counts',\n",
       " 'values',\n",
       " 'var',\n",
       " 'where',\n",
       " 'xs']"
      ]
     },
     "execution_count": 29,
     "metadata": {},
     "output_type": "execute_result"
    }
   ],
   "source": [
    "dir(sample)"
   ]
  },
  {
   "cell_type": "code",
   "execution_count": null,
   "metadata": {
    "id": "SvLhMk1iIT4Y"
   },
   "outputs": [],
   "source": []
  },
  {
   "cell_type": "code",
   "execution_count": null,
   "metadata": {
    "id": "I7mXMHDAINHy"
   },
   "outputs": [],
   "source": []
  },
  {
   "cell_type": "code",
   "execution_count": 30,
   "metadata": {
    "colab": {
     "base_uri": "https://localhost:8080/"
    },
    "executionInfo": {
     "elapsed": 1171,
     "status": "ok",
     "timestamp": 1672024654383,
     "user": {
      "displayName": "신윤수",
      "userId": "03463619311649438280"
     },
     "user_tz": -540
    },
    "id": "kAE7J7a-os2G",
    "outputId": "1cf2986b-e6c4-4da5-d920-12db02ca8b70"
   },
   "outputs": [
    {
     "data": {
      "text/plain": [
       "10000"
      ]
     },
     "execution_count": 30,
     "metadata": {},
     "output_type": "execute_result"
    }
   ],
   "source": [
    "len(data_list)"
   ]
  },
  {
   "cell_type": "code",
   "execution_count": 36,
   "metadata": {
    "id": "hv9qwAnrrHPN"
   },
   "outputs": [],
   "source": [
    "import pandas as pd\n",
    "df = pd.DataFrame(data_list)\n",
    "df.to_csv(\"naver_joongonara_notebook.csv\")"
   ]
  },
  {
   "cell_type": "code",
   "execution_count": 32,
   "metadata": {
    "id": "5NKmlSyPIXvs"
   },
   "outputs": [],
   "source": [
    "import json"
   ]
  },
  {
   "cell_type": "code",
   "execution_count": 33,
   "metadata": {
    "id": "xBifJTvyvnlw"
   },
   "outputs": [],
   "source": [
    "with open(\"naver_joongonara_notebook.json\", 'wt') as f:\n",
    "  f.write(json.dumps(data_list))"
   ]
  },
  {
   "cell_type": "code",
   "execution_count": 34,
   "metadata": {
    "colab": {
     "base_uri": "https://localhost:8080/",
     "height": 161
    },
    "executionInfo": {
     "elapsed": 436,
     "status": "ok",
     "timestamp": 1672024776264,
     "user": {
      "displayName": "신윤수",
      "userId": "03463619311649438280"
     },
     "user_tz": -540
    },
    "id": "ZKAJZzBmcQSn",
    "outputId": "211356ed-ff15-47ea-e3df-622eabf5e839"
   },
   "outputs": [
    {
     "data": {
      "text/plain": [
       "'<a class=\"article\" href=\"/ArticleRead.nhn?clubid=10050146&amp;page=1&amp;userDisplay=50&amp;menuid=334&amp;boardtype=L&amp;articleid=966933427&amp;referrerAllArticles=false\" onclick=\"clickcr(this, \\'gdb.title\\',\\'\\',\\'\\',event);\">\\n                                \\n                                \\n\\n                                \\n                                \\n\\n                                \\n                                \\n                                    \\n                                    LG전자 2021 그램16 16ZD90P-GX5TK (i5/16GB)\\n                                    \\n                                \\n                            </a>'"
      ]
     },
     "execution_count": 34,
     "metadata": {},
     "output_type": "execute_result"
    }
   ],
   "source": [
    "str(data_list[0]['board_content_tag'])"
   ]
  },
  {
   "cell_type": "code",
   "execution_count": 35,
   "metadata": {
    "id": "89VGXrjGIq5h"
   },
   "outputs": [],
   "source": [
    "for data in data_list:\n",
    "  data['board_content_tag'] = str(data['board_content_tag'])"
   ]
  },
  {
   "cell_type": "code",
   "execution_count": 38,
   "metadata": {
    "id": "pCPNkv25b8td"
   },
   "outputs": [
    {
     "data": {
      "text/plain": [
       "Index(['board_num', 'board_content_tag', 'content_url', 'content_title',\n",
       "       'badge', 'has_img', 'has_link', 'is_new', 'user_nickname', 'user_level',\n",
       "       'detail_status', 'detail_json'],\n",
       "      dtype='object')"
      ]
     },
     "execution_count": 38,
     "metadata": {},
     "output_type": "execute_result"
    }
   ],
   "source": [
    "df.columns"
   ]
  },
  {
   "cell_type": "code",
   "execution_count": 41,
   "metadata": {},
   "outputs": [
    {
     "data": {
      "text/plain": [
       "0       {'result': {'cafeId': 10050146, 'articleId': 9...\n",
       "1       {'result': {'cafeId': 10050146, 'articleId': 9...\n",
       "2       {'result': {'errorCode': '0004', 'reason': '로그...\n",
       "3       {'result': {'cafeId': 10050146, 'articleId': 9...\n",
       "4       {'result': {'cafeId': 10050146, 'articleId': 9...\n",
       "                              ...                        \n",
       "9995    {'result': {'cafeId': 10050146, 'articleId': 9...\n",
       "9996    {'result': {'cafeId': 10050146, 'articleId': 9...\n",
       "9997    {'result': {'cafeId': 10050146, 'articleId': 9...\n",
       "9998    {'result': {'cafeId': 10050146, 'articleId': 9...\n",
       "9999    {'result': {'errorCode': '0004', 'reason': '로그...\n",
       "Name: detail_json, Length: 10000, dtype: object"
      ]
     },
     "execution_count": 41,
     "metadata": {},
     "output_type": "execute_result"
    }
   ],
   "source": [
    "df['detail_json']"
   ]
  },
  {
   "cell_type": "code",
   "execution_count": 45,
   "metadata": {},
   "outputs": [
    {
     "data": {
      "text/html": [
       "<div>\n",
       "<style scoped>\n",
       "    .dataframe tbody tr th:only-of-type {\n",
       "        vertical-align: middle;\n",
       "    }\n",
       "\n",
       "    .dataframe tbody tr th {\n",
       "        vertical-align: top;\n",
       "    }\n",
       "\n",
       "    .dataframe thead th {\n",
       "        text-align: right;\n",
       "    }\n",
       "</style>\n",
       "<table border=\"1\" class=\"dataframe\">\n",
       "  <thead>\n",
       "    <tr style=\"text-align: right;\">\n",
       "      <th></th>\n",
       "      <th>board_num</th>\n",
       "      <th>board_content_tag</th>\n",
       "      <th>content_url</th>\n",
       "      <th>content_title</th>\n",
       "      <th>badge</th>\n",
       "      <th>has_img</th>\n",
       "      <th>has_link</th>\n",
       "      <th>is_new</th>\n",
       "      <th>user_nickname</th>\n",
       "      <th>user_level</th>\n",
       "      <th>detail_status</th>\n",
       "      <th>detail_json</th>\n",
       "    </tr>\n",
       "  </thead>\n",
       "  <tbody>\n",
       "    <tr>\n",
       "      <th>0</th>\n",
       "      <td>966933427</td>\n",
       "      <td>&lt;a class=\"article\" href=\"/ArticleRead.nhn?club...</td>\n",
       "      <td>/ArticleRead.nhn?clubid=10050146&amp;page=1&amp;userDi...</td>\n",
       "      <td>LG전자 2021 그램16 16ZD90P-GX5TK (i5/16GB)</td>\n",
       "      <td>None</td>\n",
       "      <td>True</td>\n",
       "      <td>False</td>\n",
       "      <td>True</td>\n",
       "      <td>베이직스</td>\n",
       "      <td>https://cafe.pstatic.net/levelicon/1/1_150.gif</td>\n",
       "      <td>200</td>\n",
       "      <td>{'result': {'cafeId': 10050146, 'articleId': 9...</td>\n",
       "    </tr>\n",
       "    <tr>\n",
       "      <th>1</th>\n",
       "      <td>966933302</td>\n",
       "      <td>&lt;a class=\"article\" href=\"/ArticleRead.nhn?club...</td>\n",
       "      <td>/ArticleRead.nhn?clubid=10050146&amp;page=1&amp;userDi...</td>\n",
       "      <td>MK193KH/A  새제품 팝니다.</td>\n",
       "      <td>None</td>\n",
       "      <td>True</td>\n",
       "      <td>False</td>\n",
       "      <td>True</td>\n",
       "      <td>새까만별</td>\n",
       "      <td>https://cafe.pstatic.net/levelicon/1/1_1.gif</td>\n",
       "      <td>200</td>\n",
       "      <td>{'result': {'cafeId': 10050146, 'articleId': 9...</td>\n",
       "    </tr>\n",
       "    <tr>\n",
       "      <th>2</th>\n",
       "      <td>966933267</td>\n",
       "      <td>&lt;a class=\"article\" href=\"/ArticleRead.nhn?club...</td>\n",
       "      <td>/ArticleRead.nhn?clubid=10050146&amp;page=1&amp;userDi...</td>\n",
       "      <td>[미개봉]LG 그램14 14Z95N-GP5NL i5/16GB 노트북 판매</td>\n",
       "      <td>None</td>\n",
       "      <td>True</td>\n",
       "      <td>True</td>\n",
       "      <td>True</td>\n",
       "      <td>type0214</td>\n",
       "      <td>https://cafe.pstatic.net/levelicon/1/1_150.gif</td>\n",
       "      <td>401</td>\n",
       "      <td>{'result': {'errorCode': '0004', 'reason': '로그...</td>\n",
       "    </tr>\n",
       "    <tr>\n",
       "      <th>3</th>\n",
       "      <td>966933262</td>\n",
       "      <td>&lt;a class=\"article\" href=\"/ArticleRead.nhn?club...</td>\n",
       "      <td>/ArticleRead.nhn?clubid=10050146&amp;page=1&amp;userDi...</td>\n",
       "      <td>2021 맥북프로 레티나 엠원 m1pro m1max 프로 맥스 14인치 판매</td>\n",
       "      <td>None</td>\n",
       "      <td>True</td>\n",
       "      <td>False</td>\n",
       "      <td>True</td>\n",
       "      <td>topontopcom</td>\n",
       "      <td>https://cafe.pstatic.net/levelicon/1/1_150.gif</td>\n",
       "      <td>200</td>\n",
       "      <td>{'result': {'cafeId': 10050146, 'articleId': 9...</td>\n",
       "    </tr>\n",
       "    <tr>\n",
       "      <th>4</th>\n",
       "      <td>966933203</td>\n",
       "      <td>&lt;a class=\"article\" href=\"/ArticleRead.nhn?club...</td>\n",
       "      <td>/ArticleRead.nhn?clubid=10050146&amp;page=1&amp;userDi...</td>\n",
       "      <td>엘지 14u530 i5노트북팝니다.</td>\n",
       "      <td>None</td>\n",
       "      <td>True</td>\n",
       "      <td>False</td>\n",
       "      <td>True</td>\n",
       "      <td>블루모닝</td>\n",
       "      <td>https://cafe.pstatic.net/levelicon/1/1_1.gif</td>\n",
       "      <td>200</td>\n",
       "      <td>{'result': {'cafeId': 10050146, 'articleId': 9...</td>\n",
       "    </tr>\n",
       "    <tr>\n",
       "      <th>...</th>\n",
       "      <td>...</td>\n",
       "      <td>...</td>\n",
       "      <td>...</td>\n",
       "      <td>...</td>\n",
       "      <td>...</td>\n",
       "      <td>...</td>\n",
       "      <td>...</td>\n",
       "      <td>...</td>\n",
       "      <td>...</td>\n",
       "      <td>...</td>\n",
       "      <td>...</td>\n",
       "      <td>...</td>\n",
       "    </tr>\n",
       "    <tr>\n",
       "      <th>9995</th>\n",
       "      <td>965081979</td>\n",
       "      <td>&lt;a class=\"article\" href=\"/ArticleRead.nhn?club...</td>\n",
       "      <td>/ArticleRead.nhn?clubid=10050146&amp;page=200&amp;user...</td>\n",
       "      <td>부산 2022 맥북 에어 m1 16g 513gb 스그 풀박스 팝니다</td>\n",
       "      <td>None</td>\n",
       "      <td>True</td>\n",
       "      <td>False</td>\n",
       "      <td>False</td>\n",
       "      <td>xelloss4088</td>\n",
       "      <td>https://cafe.pstatic.net/levelicon/1/1_1.gif</td>\n",
       "      <td>200</td>\n",
       "      <td>{'result': {'cafeId': 10050146, 'articleId': 9...</td>\n",
       "    </tr>\n",
       "    <tr>\n",
       "      <th>9996</th>\n",
       "      <td>965081960</td>\n",
       "      <td>&lt;a class=\"article\" href=\"/ArticleRead.nhn?club...</td>\n",
       "      <td>/ArticleRead.nhn?clubid=10050146&amp;page=200&amp;user...</td>\n",
       "      <td>노트북 LENOVO IDEAPAD 330-15IKB 15.6인치/i5-8250U/1...</td>\n",
       "      <td>None</td>\n",
       "      <td>True</td>\n",
       "      <td>False</td>\n",
       "      <td>False</td>\n",
       "      <td>soju3809</td>\n",
       "      <td>https://cafe.pstatic.net/levelicon/1/1_1.gif</td>\n",
       "      <td>200</td>\n",
       "      <td>{'result': {'cafeId': 10050146, 'articleId': 9...</td>\n",
       "    </tr>\n",
       "    <tr>\n",
       "      <th>9997</th>\n",
       "      <td>965081869</td>\n",
       "      <td>&lt;a class=\"article\" href=\"/ArticleRead.nhn?club...</td>\n",
       "      <td>/ArticleRead.nhn?clubid=10050146&amp;page=200&amp;user...</td>\n",
       "      <td>노트북 LENOVO IDEAPAD 330S-14IKB 14.1인치/i5-8250U/...</td>\n",
       "      <td>None</td>\n",
       "      <td>True</td>\n",
       "      <td>False</td>\n",
       "      <td>False</td>\n",
       "      <td>soju3809</td>\n",
       "      <td>https://cafe.pstatic.net/levelicon/1/1_1.gif</td>\n",
       "      <td>200</td>\n",
       "      <td>{'result': {'cafeId': 10050146, 'articleId': 9...</td>\n",
       "    </tr>\n",
       "    <tr>\n",
       "      <th>9998</th>\n",
       "      <td>965081469</td>\n",
       "      <td>&lt;a class=\"article\" href=\"/ArticleRead.nhn?club...</td>\n",
       "      <td>/ArticleRead.nhn?clubid=10050146&amp;page=200&amp;user...</td>\n",
       "      <td>맥북프로 16인치 1테라 16램</td>\n",
       "      <td>None</td>\n",
       "      <td>True</td>\n",
       "      <td>False</td>\n",
       "      <td>False</td>\n",
       "      <td>삼재자르</td>\n",
       "      <td>https://cafe.pstatic.net/levelicon/1/1_1.gif</td>\n",
       "      <td>200</td>\n",
       "      <td>{'result': {'cafeId': 10050146, 'articleId': 9...</td>\n",
       "    </tr>\n",
       "    <tr>\n",
       "      <th>9999</th>\n",
       "      <td>965081395</td>\n",
       "      <td>&lt;a class=\"article\" href=\"/ArticleRead.nhn?club...</td>\n",
       "      <td>/ArticleRead.nhn?clubid=10050146&amp;page=200&amp;user...</td>\n",
       "      <td>삼성 pro 360 노트북 네이비 색상 팝니다.</td>\n",
       "      <td>None</td>\n",
       "      <td>True</td>\n",
       "      <td>False</td>\n",
       "      <td>False</td>\n",
       "      <td>차니바라기a</td>\n",
       "      <td>https://cafe.pstatic.net/levelicon/1/1_1.gif</td>\n",
       "      <td>401</td>\n",
       "      <td>{'result': {'errorCode': '0004', 'reason': '로그...</td>\n",
       "    </tr>\n",
       "  </tbody>\n",
       "</table>\n",
       "<p>10000 rows × 12 columns</p>\n",
       "</div>"
      ],
      "text/plain": [
       "      board_num                                  board_content_tag  \\\n",
       "0     966933427  <a class=\"article\" href=\"/ArticleRead.nhn?club...   \n",
       "1     966933302  <a class=\"article\" href=\"/ArticleRead.nhn?club...   \n",
       "2     966933267  <a class=\"article\" href=\"/ArticleRead.nhn?club...   \n",
       "3     966933262  <a class=\"article\" href=\"/ArticleRead.nhn?club...   \n",
       "4     966933203  <a class=\"article\" href=\"/ArticleRead.nhn?club...   \n",
       "...         ...                                                ...   \n",
       "9995  965081979  <a class=\"article\" href=\"/ArticleRead.nhn?club...   \n",
       "9996  965081960  <a class=\"article\" href=\"/ArticleRead.nhn?club...   \n",
       "9997  965081869  <a class=\"article\" href=\"/ArticleRead.nhn?club...   \n",
       "9998  965081469  <a class=\"article\" href=\"/ArticleRead.nhn?club...   \n",
       "9999  965081395  <a class=\"article\" href=\"/ArticleRead.nhn?club...   \n",
       "\n",
       "                                            content_url  \\\n",
       "0     /ArticleRead.nhn?clubid=10050146&page=1&userDi...   \n",
       "1     /ArticleRead.nhn?clubid=10050146&page=1&userDi...   \n",
       "2     /ArticleRead.nhn?clubid=10050146&page=1&userDi...   \n",
       "3     /ArticleRead.nhn?clubid=10050146&page=1&userDi...   \n",
       "4     /ArticleRead.nhn?clubid=10050146&page=1&userDi...   \n",
       "...                                                 ...   \n",
       "9995  /ArticleRead.nhn?clubid=10050146&page=200&user...   \n",
       "9996  /ArticleRead.nhn?clubid=10050146&page=200&user...   \n",
       "9997  /ArticleRead.nhn?clubid=10050146&page=200&user...   \n",
       "9998  /ArticleRead.nhn?clubid=10050146&page=200&user...   \n",
       "9999  /ArticleRead.nhn?clubid=10050146&page=200&user...   \n",
       "\n",
       "                                          content_title badge  has_img  \\\n",
       "0                LG전자 2021 그램16 16ZD90P-GX5TK (i5/16GB)  None     True   \n",
       "1                                   MK193KH/A  새제품 팝니다.  None     True   \n",
       "2              [미개봉]LG 그램14 14Z95N-GP5NL i5/16GB 노트북 판매  None     True   \n",
       "3            2021 맥북프로 레티나 엠원 m1pro m1max 프로 맥스 14인치 판매  None     True   \n",
       "4                                   엘지 14u530 i5노트북팝니다.  None     True   \n",
       "...                                                 ...   ...      ...   \n",
       "9995              부산 2022 맥북 에어 m1 16g 513gb 스그 풀박스 팝니다  None     True   \n",
       "9996  노트북 LENOVO IDEAPAD 330-15IKB 15.6인치/i5-8250U/1...  None     True   \n",
       "9997  노트북 LENOVO IDEAPAD 330S-14IKB 14.1인치/i5-8250U/...  None     True   \n",
       "9998                                  맥북프로 16인치 1테라 16램  None     True   \n",
       "9999                         삼성 pro 360 노트북 네이비 색상 팝니다.  None     True   \n",
       "\n",
       "      has_link  is_new user_nickname  \\\n",
       "0        False    True          베이직스   \n",
       "1        False    True          새까만별   \n",
       "2         True    True      type0214   \n",
       "3        False    True   topontopcom   \n",
       "4        False    True          블루모닝   \n",
       "...        ...     ...           ...   \n",
       "9995     False   False   xelloss4088   \n",
       "9996     False   False      soju3809   \n",
       "9997     False   False      soju3809   \n",
       "9998     False   False          삼재자르   \n",
       "9999     False   False        차니바라기a   \n",
       "\n",
       "                                          user_level  detail_status  \\\n",
       "0     https://cafe.pstatic.net/levelicon/1/1_150.gif            200   \n",
       "1       https://cafe.pstatic.net/levelicon/1/1_1.gif            200   \n",
       "2     https://cafe.pstatic.net/levelicon/1/1_150.gif            401   \n",
       "3     https://cafe.pstatic.net/levelicon/1/1_150.gif            200   \n",
       "4       https://cafe.pstatic.net/levelicon/1/1_1.gif            200   \n",
       "...                                              ...            ...   \n",
       "9995    https://cafe.pstatic.net/levelicon/1/1_1.gif            200   \n",
       "9996    https://cafe.pstatic.net/levelicon/1/1_1.gif            200   \n",
       "9997    https://cafe.pstatic.net/levelicon/1/1_1.gif            200   \n",
       "9998    https://cafe.pstatic.net/levelicon/1/1_1.gif            200   \n",
       "9999    https://cafe.pstatic.net/levelicon/1/1_1.gif            401   \n",
       "\n",
       "                                            detail_json  \n",
       "0     {'result': {'cafeId': 10050146, 'articleId': 9...  \n",
       "1     {'result': {'cafeId': 10050146, 'articleId': 9...  \n",
       "2     {'result': {'errorCode': '0004', 'reason': '로그...  \n",
       "3     {'result': {'cafeId': 10050146, 'articleId': 9...  \n",
       "4     {'result': {'cafeId': 10050146, 'articleId': 9...  \n",
       "...                                                 ...  \n",
       "9995  {'result': {'cafeId': 10050146, 'articleId': 9...  \n",
       "9996  {'result': {'cafeId': 10050146, 'articleId': 9...  \n",
       "9997  {'result': {'cafeId': 10050146, 'articleId': 9...  \n",
       "9998  {'result': {'cafeId': 10050146, 'articleId': 9...  \n",
       "9999  {'result': {'errorCode': '0004', 'reason': '로그...  \n",
       "\n",
       "[10000 rows x 12 columns]"
      ]
     },
     "execution_count": 45,
     "metadata": {},
     "output_type": "execute_result"
    }
   ],
   "source": [
    "df"
   ]
  },
  {
   "cell_type": "code",
   "execution_count": null,
   "metadata": {},
   "outputs": [],
   "source": []
  }
 ],
 "metadata": {
  "colab": {
   "authorship_tag": "ABX9TyMiVKvLY9lFysup6Q+iteN4",
   "mount_file_id": "1rilBGc7UT05krv86kCxGJ7e7oK8fuvlI",
   "provenance": []
  },
  "kernelspec": {
   "display_name": "Python 3 (ipykernel)",
   "language": "python",
   "name": "python3"
  },
  "language_info": {
   "codemirror_mode": {
    "name": "ipython",
    "version": 3
   },
   "file_extension": ".py",
   "mimetype": "text/x-python",
   "name": "python",
   "nbconvert_exporter": "python",
   "pygments_lexer": "ipython3",
   "version": "3.11.1"
  }
 },
 "nbformat": 4,
 "nbformat_minor": 1
}
